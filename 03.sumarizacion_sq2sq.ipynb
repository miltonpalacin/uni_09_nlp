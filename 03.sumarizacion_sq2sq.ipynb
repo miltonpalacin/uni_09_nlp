{
 "cells": [
  {
   "cell_type": "markdown",
   "metadata": {},
   "source": [
    "# Curso: MCC639E\n",
    "\n",
    "#### Integrantes\n",
    "\n",
    "- Carlos Tello Tapia\n",
    "- Lennin Quiso Córdova\n",
    "- Milton Palacin Grijalva\n",
    "___\n",
    "\n",
    "# PARTE PARTE: TEXT SUMMARIZATION"
   ]
  },
  {
   "cell_type": "markdown",
   "metadata": {},
   "source": [
    "## I. Declaración de librerías"
   ]
  },
  {
   "cell_type": "code",
   "execution_count": 3,
   "metadata": {},
   "outputs": [],
   "source": [
    "# Tratamiento de datos\n",
    "# ==============================================================================\n",
    "import matplotlib.pyplot as plt\n",
    "import pandas as pd\n",
    "import numpy as np\n",
    "from sklearn.model_selection import train_test_split\n",
    "\n",
    "# Tratamiento de texto\n",
    "# ==============================================================================\n",
    "\n",
    "from tensorflow.keras.models import Model\n",
    "from tensorflow.keras.callbacks import EarlyStopping\n",
    "from keras.preprocessing.text import Tokenizer \n",
    "from keras.preprocessing.sequence import pad_sequences\n",
    "from tensorflow.keras.layers import Input, LSTM, Embedding, Dense, Concatenate, TimeDistributed\n",
    "from tensorflow.keras import backend as K\n",
    "#import tensorflow as tf\n",
    "\n",
    "# Visualización Jupyter\n",
    "# ==============================================================================\n",
    "import warnings\n",
    "warnings.filterwarnings('ignore')\n",
    "\n",
    "# Configuración matplotlib\n",
    "# ==============================================================================\n",
    "# Para obtener el estilo de plot de seabonr\n",
    "plt.style.use('seaborn-whitegrid')\n",
    "plt.rcParams['image.cmap'] = \"bwr\"\n",
    "plt.rcParams['savefig.bbox'] = \"tight\"\n",
    "\n",
    "# otras configuraciones\n",
    "# ==============================================================================\n",
    "#tqdm.pandas()\n",
    "#pd.set_option(\"display.max_colwidth\", 200)\n",
    "\n",
    "#import os\n",
    "#os.environ[\"TF_FORCE_GPU_ALLOW_GROWTH\"]=\"true\"\n",
    "#"
   ]
  },
  {
   "cell_type": "code",
   "execution_count": 4,
   "metadata": {},
   "outputs": [],
   "source": [
    "#physical_devices = tf.config.list_physical_devices('GPU')\n",
    "#tf.config.experimental.set_memory_growth(physical_devices[0], enable=True)"
   ]
  },
  {
   "cell_type": "markdown",
   "metadata": {},
   "source": [
    "## II. Cargar y explorar el dataset"
   ]
  },
  {
   "cell_type": "code",
   "execution_count": 5,
   "metadata": {},
   "outputs": [
    {
     "name": "stdout",
     "output_type": "stream",
     "text": [
      "CPU times: user 772 ms, sys: 55.6 ms, total: 828 ms\n",
      "Wall time: 827 ms\n"
     ]
    },
    {
     "data": {
      "text/html": [
       "<div>\n",
       "<style scoped>\n",
       "    .dataframe tbody tr th:only-of-type {\n",
       "        vertical-align: middle;\n",
       "    }\n",
       "\n",
       "    .dataframe tbody tr th {\n",
       "        vertical-align: top;\n",
       "    }\n",
       "\n",
       "    .dataframe thead th {\n",
       "        text-align: right;\n",
       "    }\n",
       "</style>\n",
       "<table border=\"1\" class=\"dataframe\">\n",
       "  <thead>\n",
       "    <tr style=\"text-align: right;\">\n",
       "      <th></th>\n",
       "      <th>category</th>\n",
       "      <th>title</th>\n",
       "      <th>date</th>\n",
       "      <th>abstract</th>\n",
       "      <th>content</th>\n",
       "      <th>content_for_topic</th>\n",
       "      <th>content_for_summary</th>\n",
       "      <th>abstract_for_summary</th>\n",
       "    </tr>\n",
       "  </thead>\n",
       "  <tbody>\n",
       "    <tr>\n",
       "      <th>55</th>\n",
       "      <td>ORGANISMO SUPERVISOR DE LA INVERSION EN INFRAE...</td>\n",
       "      <td>RESOLUCION  N° 0037-2021-CD-OSITRAN</td>\n",
       "      <td>18/08/2021</td>\n",
       "      <td>Disponen el inicio de oficio del procedimiento...</td>\n",
       "      <td>Lima, 13 de agosto de 2021 VISTOS: El Informe ...</td>\n",
       "      <td>lima agosto visto informe conjunto ositran fec...</td>\n",
       "      <td>lima agosto vistos informe conjunto ositran fe...</td>\n",
       "      <td>disponen inicio oficio procedimiento interpret...</td>\n",
       "    </tr>\n",
       "    <tr>\n",
       "      <th>2486</th>\n",
       "      <td>CORTES SUPERIORES DE JUSTICIA</td>\n",
       "      <td>RESOLUCION ADMINISTRATIVA  N° 000181-2021-P-CS...</td>\n",
       "      <td>25/06/2021</td>\n",
       "      <td>Designan Responsables Titular y Alterno del Li...</td>\n",
       "      <td>Corte Superior Nacional de Justicia Penal Espe...</td>\n",
       "      <td>corte superior nacional justicia penal especia...</td>\n",
       "      <td>corte superior nacional justicia penal especia...</td>\n",
       "      <td>designan responsables titular alterno libro re...</td>\n",
       "    </tr>\n",
       "    <tr>\n",
       "      <th>1070</th>\n",
       "      <td>ENERGIA Y MINAS</td>\n",
       "      <td>RESOLUCION VICE MINISTERIAL  N° 022-2021-MINEM...</td>\n",
       "      <td>23/07/2021</td>\n",
       "      <td>Aprueban el Procedimiento para ejecutar Proyec...</td>\n",
       "      <td>Lima, 21 de julio de 2021 VISTOS:  El Informe ...</td>\n",
       "      <td>lima julio visto informe minem fise dirección ...</td>\n",
       "      <td>lima julio vistos informe minem fise dirección...</td>\n",
       "      <td>aprueban procedimiento ejecutar proyectos entr...</td>\n",
       "    </tr>\n",
       "    <tr>\n",
       "      <th>475</th>\n",
       "      <td>PRODUCE</td>\n",
       "      <td>RESOLUCION MINISTERIAL  N° 00221-2021-PRODUCE</td>\n",
       "      <td>04/08/2021</td>\n",
       "      <td>Designan Asesores II del Despacho Ministerial</td>\n",
       "      <td>Lima, 3 de agosto de 2021 CONSIDERANDO: Que, s...</td>\n",
       "      <td>lima agosto encontrar vacante cargo asesor des...</td>\n",
       "      <td>lima agosto encuentra vacante cargo asesor des...</td>\n",
       "      <td>designan asesores despacho ministerial</td>\n",
       "    </tr>\n",
       "    <tr>\n",
       "      <th>2868</th>\n",
       "      <td>GOBIERNO REGIONAL DE HUANCAVELICA</td>\n",
       "      <td>ORDENANZA  N° 458-GOB.REG.HVCA/CR</td>\n",
       "      <td>18/06/2021</td>\n",
       "      <td>Ordenanza Regional que incluye dos procedimien...</td>\n",
       "      <td>Huancavelica, 21 de mayo del 2021. POR CUANTO ...</td>\n",
       "      <td>huancavelica mayo cuanto consejo regional huan...</td>\n",
       "      <td>huancavelica mayo cuanto consejo regional huan...</td>\n",
       "      <td>ordenanza regional incluye procedimientos admi...</td>\n",
       "    </tr>\n",
       "  </tbody>\n",
       "</table>\n",
       "</div>"
      ],
      "text/plain": [
       "                                               category  \\\n",
       "55    ORGANISMO SUPERVISOR DE LA INVERSION EN INFRAE...   \n",
       "2486                      CORTES SUPERIORES DE JUSTICIA   \n",
       "1070                                    ENERGIA Y MINAS   \n",
       "475                                             PRODUCE   \n",
       "2868                  GOBIERNO REGIONAL DE HUANCAVELICA   \n",
       "\n",
       "                                                  title        date  \\\n",
       "55                  RESOLUCION  N° 0037-2021-CD-OSITRAN  18/08/2021   \n",
       "2486  RESOLUCION ADMINISTRATIVA  N° 000181-2021-P-CS...  25/06/2021   \n",
       "1070  RESOLUCION VICE MINISTERIAL  N° 022-2021-MINEM...  23/07/2021   \n",
       "475       RESOLUCION MINISTERIAL  N° 00221-2021-PRODUCE  04/08/2021   \n",
       "2868                  ORDENANZA  N° 458-GOB.REG.HVCA/CR  18/06/2021   \n",
       "\n",
       "                                               abstract  \\\n",
       "55    Disponen el inicio de oficio del procedimiento...   \n",
       "2486  Designan Responsables Titular y Alterno del Li...   \n",
       "1070  Aprueban el Procedimiento para ejecutar Proyec...   \n",
       "475       Designan Asesores II del Despacho Ministerial   \n",
       "2868  Ordenanza Regional que incluye dos procedimien...   \n",
       "\n",
       "                                                content  \\\n",
       "55    Lima, 13 de agosto de 2021 VISTOS: El Informe ...   \n",
       "2486  Corte Superior Nacional de Justicia Penal Espe...   \n",
       "1070  Lima, 21 de julio de 2021 VISTOS:  El Informe ...   \n",
       "475   Lima, 3 de agosto de 2021 CONSIDERANDO: Que, s...   \n",
       "2868  Huancavelica, 21 de mayo del 2021. POR CUANTO ...   \n",
       "\n",
       "                                      content_for_topic  \\\n",
       "55    lima agosto visto informe conjunto ositran fec...   \n",
       "2486  corte superior nacional justicia penal especia...   \n",
       "1070  lima julio visto informe minem fise dirección ...   \n",
       "475   lima agosto encontrar vacante cargo asesor des...   \n",
       "2868  huancavelica mayo cuanto consejo regional huan...   \n",
       "\n",
       "                                    content_for_summary  \\\n",
       "55    lima agosto vistos informe conjunto ositran fe...   \n",
       "2486  corte superior nacional justicia penal especia...   \n",
       "1070  lima julio vistos informe minem fise dirección...   \n",
       "475   lima agosto encuentra vacante cargo asesor des...   \n",
       "2868  huancavelica mayo cuanto consejo regional huan...   \n",
       "\n",
       "                                   abstract_for_summary  \n",
       "55    disponen inicio oficio procedimiento interpret...  \n",
       "2486  designan responsables titular alterno libro re...  \n",
       "1070  aprueban procedimiento ejecutar proyectos entr...  \n",
       "475              designan asesores despacho ministerial  \n",
       "2868  ordenanza regional incluye procedimientos admi...  "
      ]
     },
     "execution_count": 5,
     "metadata": {},
     "output_type": "execute_result"
    }
   ],
   "source": [
    "%%time\n",
    "dataset_base = pd.read_csv(\"dataset_base.csv\", sep='\\t', encoding='utf-8')\n",
    "dataset_base.sample(5)"
   ]
  },
  {
   "cell_type": "markdown",
   "metadata": {},
   "source": [
    "___\n",
    "Utilizar las columnas: \n",
    "* **content_for_summary**\n",
    "* **abstract_for_summary**\n",
    "\n",
    "Estas columnas a diferencia de **content_for_topic** son textos pre-procesados sin stemmer o lemmatizer. Es necesario mantener la palabras originales para ayudar a la red a mejorar la exactitud en la generación del \"summary\" \n",
    "___"
   ]
  },
  {
   "cell_type": "code",
   "execution_count": 6,
   "metadata": {},
   "outputs": [
    {
     "name": "stdout",
     "output_type": "stream",
     "text": [
      "Dimensiones: (4099, 8)\n",
      "Filas que no contiene valores nulos: 4063\n",
      "Filas con valores nulos: 36\n"
     ]
    }
   ],
   "source": [
    "# # Limpieza del dataset\n",
    "# print(\"Dimensiones:\", dataset_base.shape)\n",
    "# print(\"Filas que no contiene valores nulos:\", len(dataset_base[dataset_base.content_for_topic.notna()]))\n",
    "# print(\"Filas con valores nulos:\", len(dataset_base[dataset_base.isnull().any(axis=1)]))"
   ]
  },
  {
   "cell_type": "code",
   "execution_count": 7,
   "metadata": {},
   "outputs": [
    {
     "name": "stdout",
     "output_type": "stream",
     "text": [
      "Dimensiones: (4063, 8)\n"
     ]
    }
   ],
   "source": [
    "# Eliminar registros que contienen valores nulos\n",
    "dataset_base.dropna(inplace=True)\n",
    "print(\"Dimensiones:\", dataset_base.shape)"
   ]
  },
  {
   "cell_type": "code",
   "execution_count": 8,
   "metadata": {},
   "outputs": [
    {
     "name": "stdout",
     "output_type": "stream",
     "text": [
      "Filas con errata: 52\n",
      "Nuevas dimensiones: (4011, 8)\n",
      "CPU times: user 3.45 ms, sys: 496 µs, total: 3.95 ms\n",
      "Wall time: 3.04 ms\n"
     ]
    }
   ],
   "source": [
    "# %%time\n",
    "# # Eliminar registros que viene de una corrección, identificado como \"errata\"\n",
    "# print(\"Filas con errata:\", dataset_base[dataset_base.abstract_for_summary == \"errata\"].shape[0])\n",
    "\n",
    "# # Eliminar las filas\n",
    "# dataset_base.drop(dataset_base[dataset_base.abstract_for_summary == \"errata\"].index, inplace = True)\n",
    "# print(\"Nuevas dimensiones:\", dataset_base.shape)"
   ]
  },
  {
   "cell_type": "code",
   "execution_count": null,
   "metadata": {},
   "outputs": [],
   "source": [
    "print(\"Total de normas legales en el dataset:\", dataset_base.shape[0])"
   ]
  },
  {
   "cell_type": "markdown",
   "metadata": {},
   "source": [
    "___\n",
    "Agregar la palablas (tokens) especiales al inicio y fin del abstract\n",
    "___"
   ]
  },
  {
   "cell_type": "code",
   "execution_count": 9,
   "metadata": {},
   "outputs": [
    {
     "name": "stdout",
     "output_type": "stream",
     "text": [
      "CPU times: user 4.04 ms, sys: 14 µs, total: 4.05 ms\n",
      "Wall time: 3.58 ms\n"
     ]
    },
    {
     "data": {
      "text/html": [
       "<div>\n",
       "<style scoped>\n",
       "    .dataframe tbody tr th:only-of-type {\n",
       "        vertical-align: middle;\n",
       "    }\n",
       "\n",
       "    .dataframe tbody tr th {\n",
       "        vertical-align: top;\n",
       "    }\n",
       "\n",
       "    .dataframe thead th {\n",
       "        text-align: right;\n",
       "    }\n",
       "</style>\n",
       "<table border=\"1\" class=\"dataframe\">\n",
       "  <thead>\n",
       "    <tr style=\"text-align: right;\">\n",
       "      <th></th>\n",
       "      <th>category</th>\n",
       "      <th>title</th>\n",
       "      <th>date</th>\n",
       "      <th>abstract</th>\n",
       "      <th>content</th>\n",
       "      <th>content_for_topic</th>\n",
       "      <th>content_for_summary</th>\n",
       "      <th>abstract_for_summary</th>\n",
       "      <th>abstract_for_decoder</th>\n",
       "    </tr>\n",
       "  </thead>\n",
       "  <tbody>\n",
       "    <tr>\n",
       "      <th>3642</th>\n",
       "      <td>ECONOMIA Y FINANZAS</td>\n",
       "      <td>RESOLUCION DIRECTORAL  N° 0013-2021-EF/50.01</td>\n",
       "      <td>01/06/2021</td>\n",
       "      <td>Aprueban los Lineamientos para la presentación...</td>\n",
       "      <td>Lima, 25 de mayo de 2021 CONSIDERANDO:  Que, m...</td>\n",
       "      <td>lima mayo mediante numeral creer plan incentiv...</td>\n",
       "      <td>lima mayo mediante numeral crea plan incentivo...</td>\n",
       "      <td>aprueban lineamientos presentación propuestas ...</td>\n",
       "      <td>_START_ aprueban lineamientos presentación pro...</td>\n",
       "    </tr>\n",
       "    <tr>\n",
       "      <th>3256</th>\n",
       "      <td>ORGANISMO TÉCNICO DE LA ADMINISTRACIÓN DE LOS ...</td>\n",
       "      <td>RESOLUCION DIRECTORAL  N° 000045-2021-OTASS-DE</td>\n",
       "      <td>09/06/2021</td>\n",
       "      <td>Designan Gerente General de la Empresa Municip...</td>\n",
       "      <td>Lima, 9 de junio de 2021 VISTOS: El Informe Nº...</td>\n",
       "      <td>lima junio visto informe otass secretaría gest...</td>\n",
       "      <td>lima junio vistos informe otass secretaría ges...</td>\n",
       "      <td>designan gerente general empresa municipal agu...</td>\n",
       "      <td>_START_ designan gerente general empresa munic...</td>\n",
       "    </tr>\n",
       "    <tr>\n",
       "      <th>1615</th>\n",
       "      <td>INSTITUTO NACIONAL DE ESTADISTICA E INFORMATICA</td>\n",
       "      <td>RESOLUCION JEFATURAL  N° 161-2021-INEI</td>\n",
       "      <td>14/07/2021</td>\n",
       "      <td>Autorizan la ejecución de la Encuesta Económic...</td>\n",
       "      <td>Lima, 12 de julio de 2021 Visto el Oficio Nº 0...</td>\n",
       "      <td>lima julio visto oficio inei dnce dirección na...</td>\n",
       "      <td>lima julio visto oficio inei dnce dirección na...</td>\n",
       "      <td>autorizan ejecución encuesta económica anual n...</td>\n",
       "      <td>_START_ autorizan ejecución encuesta económica...</td>\n",
       "    </tr>\n",
       "    <tr>\n",
       "      <th>731</th>\n",
       "      <td>ORGANISMO TÉCNICO DE LA ADMINISTRACIÓN DE LOS ...</td>\n",
       "      <td>RESOLUCION  N° 000077-2021-OTASS-DE</td>\n",
       "      <td>28/07/2021</td>\n",
       "      <td>Designan Gerente Comercial de la Empresa de Se...</td>\n",
       "      <td>Lima, 27 de julio de 2021 VISTOS:  El Proveído...</td>\n",
       "      <td>lima julio visto proveído otass dirección ejec...</td>\n",
       "      <td>lima julio vistos proveído otass dirección eje...</td>\n",
       "      <td>designan gerente comercial empresa servicio mu...</td>\n",
       "      <td>_START_ designan gerente comercial empresa ser...</td>\n",
       "    </tr>\n",
       "    <tr>\n",
       "      <th>2019</th>\n",
       "      <td>DESARROLLO AGRARIO Y RIEGO</td>\n",
       "      <td>RESOLUCION MINISTERIAL  N° 0181-2021-MIDAGRI</td>\n",
       "      <td>03/07/2021</td>\n",
       "      <td>Designan representantes del Ministerio ante el...</td>\n",
       "      <td>Lima, 1 de julio de 2021 CONSIDERANDO: Que, me...</td>\n",
       "      <td>lima julio mediante resolución ministerial mid...</td>\n",
       "      <td>lima julio mediante resolución ministerial mid...</td>\n",
       "      <td>designan representantes ministerio consejo dir...</td>\n",
       "      <td>_START_ designan representantes ministerio con...</td>\n",
       "    </tr>\n",
       "  </tbody>\n",
       "</table>\n",
       "</div>"
      ],
      "text/plain": [
       "                                               category  \\\n",
       "3642                                ECONOMIA Y FINANZAS   \n",
       "3256  ORGANISMO TÉCNICO DE LA ADMINISTRACIÓN DE LOS ...   \n",
       "1615    INSTITUTO NACIONAL DE ESTADISTICA E INFORMATICA   \n",
       "731   ORGANISMO TÉCNICO DE LA ADMINISTRACIÓN DE LOS ...   \n",
       "2019                         DESARROLLO AGRARIO Y RIEGO   \n",
       "\n",
       "                                               title        date  \\\n",
       "3642    RESOLUCION DIRECTORAL  N° 0013-2021-EF/50.01  01/06/2021   \n",
       "3256  RESOLUCION DIRECTORAL  N° 000045-2021-OTASS-DE  09/06/2021   \n",
       "1615          RESOLUCION JEFATURAL  N° 161-2021-INEI  14/07/2021   \n",
       "731              RESOLUCION  N° 000077-2021-OTASS-DE  28/07/2021   \n",
       "2019    RESOLUCION MINISTERIAL  N° 0181-2021-MIDAGRI  03/07/2021   \n",
       "\n",
       "                                               abstract  \\\n",
       "3642  Aprueban los Lineamientos para la presentación...   \n",
       "3256  Designan Gerente General de la Empresa Municip...   \n",
       "1615  Autorizan la ejecución de la Encuesta Económic...   \n",
       "731   Designan Gerente Comercial de la Empresa de Se...   \n",
       "2019  Designan representantes del Ministerio ante el...   \n",
       "\n",
       "                                                content  \\\n",
       "3642  Lima, 25 de mayo de 2021 CONSIDERANDO:  Que, m...   \n",
       "3256  Lima, 9 de junio de 2021 VISTOS: El Informe Nº...   \n",
       "1615  Lima, 12 de julio de 2021 Visto el Oficio Nº 0...   \n",
       "731   Lima, 27 de julio de 2021 VISTOS:  El Proveído...   \n",
       "2019  Lima, 1 de julio de 2021 CONSIDERANDO: Que, me...   \n",
       "\n",
       "                                      content_for_topic  \\\n",
       "3642  lima mayo mediante numeral creer plan incentiv...   \n",
       "3256  lima junio visto informe otass secretaría gest...   \n",
       "1615  lima julio visto oficio inei dnce dirección na...   \n",
       "731   lima julio visto proveído otass dirección ejec...   \n",
       "2019  lima julio mediante resolución ministerial mid...   \n",
       "\n",
       "                                    content_for_summary  \\\n",
       "3642  lima mayo mediante numeral crea plan incentivo...   \n",
       "3256  lima junio vistos informe otass secretaría ges...   \n",
       "1615  lima julio visto oficio inei dnce dirección na...   \n",
       "731   lima julio vistos proveído otass dirección eje...   \n",
       "2019  lima julio mediante resolución ministerial mid...   \n",
       "\n",
       "                                   abstract_for_summary  \\\n",
       "3642  aprueban lineamientos presentación propuestas ...   \n",
       "3256  designan gerente general empresa municipal agu...   \n",
       "1615  autorizan ejecución encuesta económica anual n...   \n",
       "731   designan gerente comercial empresa servicio mu...   \n",
       "2019  designan representantes ministerio consejo dir...   \n",
       "\n",
       "                                   abstract_for_decoder  \n",
       "3642  _START_ aprueban lineamientos presentación pro...  \n",
       "3256  _START_ designan gerente general empresa munic...  \n",
       "1615  _START_ autorizan ejecución encuesta económica...  \n",
       "731   _START_ designan gerente comercial empresa ser...  \n",
       "2019  _START_ designan representantes ministerio con...  "
      ]
     },
     "execution_count": 9,
     "metadata": {},
     "output_type": "execute_result"
    }
   ],
   "source": [
    "%%time\n",
    "# Función para marcar el texto que servira al Decoder del modelo Seq2Seq\n",
    "dataset_base.abstract_for_summary = dataset_base.abstract_for_summary.apply(lambda t: \"_START_ \" + t + \" _END_\")\n",
    "dataset_base.sample(5)"
   ]
  },
  {
   "cell_type": "markdown",
   "metadata": {},
   "source": [
    "___\n",
    "Entender la distribución de las secuencias: anlizando el tamaño del contenido y el abstract. Este ejercicio ayuda a encontrar el tamaño máximo de las secuencias\n",
    "___"
   ]
  },
  {
   "cell_type": "code",
   "execution_count": 10,
   "metadata": {},
   "outputs": [
    {
     "data": {
      "image/png": "[encoded data removed]",
      "text/plain": [
       "<Figure size 432x288 with 2 Axes>"
      ]
     },
     "metadata": {},
     "output_type": "display_data"
    }
   ],
   "source": [
    "text_count = []\n",
    "summary_count = []\n",
    "\n",
    "\n",
    "for sent in dataset_base.content_for_summary:\n",
    "    text_count.append(len(sent.split()))\n",
    "for sent in dataset_base.abstract_for_summary:\n",
    "    summary_count.append(len(sent.split()))\n",
    "\n",
    "# Crear dataset para graficar histograma\n",
    "graph_df = pd.DataFrame()\n",
    "graph_df['text']=text_count\n",
    "graph_df['summary']=summary_count\n",
    "\n",
    "plt.figure(figsize=(4,5))\n",
    "graph_df.hist(bins = 30)\n",
    "plt.show()"
   ]
  },
  {
   "cell_type": "markdown",
   "metadata": {},
   "source": [
    "___\n",
    "Asignamos número máximo de acuero a la gráfica, de tal manera que concentre la mayor parte de palabras y evitar los outliers\n",
    "___"
   ]
  },
  {
   "cell_type": "code",
   "execution_count": 11,
   "metadata": {},
   "outputs": [
    {
     "name": "stdout",
     "output_type": "stream",
     "text": [
      "==================================================\n",
      "% content de palabras entre 1 y 5000: 0.9930191972076788\n",
      "% abstract de palabras entre 1 y 50: 0.9992520568436799\n",
      "==================================================\n",
      "CPU times: user 444 ms, sys: 0 ns, total: 444 ms\n",
      "Wall time: 442 ms\n"
     ]
    }
   ],
   "source": [
    "%%time\n",
    "# El modelo realizará las siguientes secuencias: abstract/summary entre 1-max_summary_len tokens y para contenido/content entre 1 y max_content_len tokesn.\n",
    "max_content_len=5000\n",
    "max_summary_len=50\n",
    "\n",
    "print(\"=\"*50)\n",
    "\n",
    "# Verificar el porcentaje de palabras en el content entre 1 y max_content_len\n",
    "print(\"% content de palabras entre 1 y \" + str(max_content_len) + \":\",\n",
    "dataset_base[\n",
    "    dataset_base.apply(lambda v: \n",
    "                       len(v.content_for_summary.split()) > 0 and\n",
    "                       len(v.content_for_summary.split()) <= max_content_len, axis=1)\n",
    "].shape[0]/len(dataset_base.content_for_summary)\n",
    ")\n",
    "\n",
    "# Verificar el porcentaje de palabras en el abstract entre 1 y max_summary_len\n",
    "print(\"% abstract de palabras entre 1 y \" + str(max_summary_len) + \":\",\n",
    "dataset_base[\n",
    "    dataset_base.apply(lambda v: \n",
    "                       len(v.abstract_for_summary.split()) > 0 and\n",
    "                       len(v.abstract_for_summary.split()) <= max_summary_len, axis=1)\n",
    "].shape[0]/len(dataset_base.abstract_for_summary)\n",
    ")\n",
    "\n",
    "print(\"=\"*50)"
   ]
  },
  {
   "cell_type": "code",
   "execution_count": 12,
   "metadata": {},
   "outputs": [
    {
     "name": "stdout",
     "output_type": "stream",
     "text": [
      "CPU times: user 430 ms, sys: 0 ns, total: 430 ms\n",
      "Wall time: 428 ms\n"
     ]
    },
    {
     "data": {
      "text/html": [
       "<div>\n",
       "<style scoped>\n",
       "    .dataframe tbody tr th:only-of-type {\n",
       "        vertical-align: middle;\n",
       "    }\n",
       "\n",
       "    .dataframe tbody tr th {\n",
       "        vertical-align: top;\n",
       "    }\n",
       "\n",
       "    .dataframe thead th {\n",
       "        text-align: right;\n",
       "    }\n",
       "</style>\n",
       "<table border=\"1\" class=\"dataframe\">\n",
       "  <thead>\n",
       "    <tr style=\"text-align: right;\">\n",
       "      <th></th>\n",
       "      <th>content</th>\n",
       "      <th>summary</th>\n",
       "    </tr>\n",
       "  </thead>\n",
       "  <tbody>\n",
       "    <tr>\n",
       "      <th>3472</th>\n",
       "      <td>constitución política perú establece defensa p...</td>\n",
       "      <td>_START_ decreto supremo modifica reglamento ge...</td>\n",
       "    </tr>\n",
       "    <tr>\n",
       "      <th>851</th>\n",
       "      <td>lima julio vistos recurso apelación interpuest...</td>\n",
       "      <td>_START_ declaran infundado recurso apelación i...</td>\n",
       "    </tr>\n",
       "    <tr>\n",
       "      <th>1239</th>\n",
       "      <td>lima julio vistos oficio memorando memorando i...</td>\n",
       "      <td>_START_ designan miembro tribunal solución con...</td>\n",
       "    </tr>\n",
       "    <tr>\n",
       "      <th>3211</th>\n",
       "      <td>lima junio fortalecimiento comisión promoción ...</td>\n",
       "      <td>_START_ designan representantes gremios integr...</td>\n",
       "    </tr>\n",
       "    <tr>\n",
       "      <th>3315</th>\n",
       "      <td>yanacancha mayo alcalde municipalidad distrita...</td>\n",
       "      <td>_START_ aceptan donación inmueble otorgado com...</td>\n",
       "    </tr>\n",
       "  </tbody>\n",
       "</table>\n",
       "</div>"
      ],
      "text/plain": [
       "                                                content  \\\n",
       "3472  constitución política perú establece defensa p...   \n",
       "851   lima julio vistos recurso apelación interpuest...   \n",
       "1239  lima julio vistos oficio memorando memorando i...   \n",
       "3211  lima junio fortalecimiento comisión promoción ...   \n",
       "3315  yanacancha mayo alcalde municipalidad distrita...   \n",
       "\n",
       "                                                summary  \n",
       "3472  _START_ decreto supremo modifica reglamento ge...  \n",
       "851   _START_ declaran infundado recurso apelación i...  \n",
       "1239  _START_ designan miembro tribunal solución con...  \n",
       "3211  _START_ designan representantes gremios integr...  \n",
       "3315  _START_ aceptan donación inmueble otorgado com...  "
      ]
     },
     "execution_count": 12,
     "metadata": {},
     "output_type": "execute_result"
    }
   ],
   "source": [
    "%%time\n",
    "dataset_pre = \\\n",
    "dataset_base[\n",
    "    dataset_base.apply(lambda v: \n",
    "                       len(v.content_for_summary.split()) > 0 and\n",
    "                       len(v.content_for_summary.split()) <= max_content_len and\n",
    "                       len(v.abstract_for_decoder.split()) > 0 and\n",
    "                       len(v.abstract_for_decoder.split()) <= max_summary_len, axis=1)\n",
    "][[\"content_for_summary\",\"abstract_for_decoder\"]]\n",
    "\n",
    "dataset_pre.rename(columns={\"content_for_summary\":\"content\",\"abstract_for_decoder\":\"summary\"}, inplace=True)\n",
    "dataset_pre.sample(5)"
   ]
  },
  {
   "cell_type": "code",
   "execution_count": 11,
   "metadata": {},
   "outputs": [
    {
     "name": "stdout",
     "output_type": "stream",
     "text": [
      "CPU times: user 5.05 ms, sys: 144 µs, total: 5.19 ms\n",
      "Wall time: 4.77 ms\n"
     ]
    },
    {
     "data": {
      "text/html": [
       "<div>\n",
       "<style scoped>\n",
       "    .dataframe tbody tr th:only-of-type {\n",
       "        vertical-align: middle;\n",
       "    }\n",
       "\n",
       "    .dataframe tbody tr th {\n",
       "        vertical-align: top;\n",
       "    }\n",
       "\n",
       "    .dataframe thead th {\n",
       "        text-align: right;\n",
       "    }\n",
       "</style>\n",
       "<table border=\"1\" class=\"dataframe\">\n",
       "  <thead>\n",
       "    <tr style=\"text-align: right;\">\n",
       "      <th></th>\n",
       "      <th>content</th>\n",
       "      <th>summary</th>\n",
       "    </tr>\n",
       "  </thead>\n",
       "  <tbody>\n",
       "    <tr>\n",
       "      <th>1769</th>\n",
       "      <td>congreso único declaración necesidad pública i...</td>\n",
       "      <td>sostok _START_ declara necesidad pública inter...</td>\n",
       "    </tr>\n",
       "    <tr>\n",
       "      <th>2066</th>\n",
       "      <td>lima julio antecedentes mediante resolución ad...</td>\n",
       "      <td>sostok _START_ declaran fundado recurso recons...</td>\n",
       "    </tr>\n",
       "  </tbody>\n",
       "</table>\n",
       "</div>"
      ],
      "text/plain": [
       "                                                content  \\\n",
       "1769  congreso único declaración necesidad pública i...   \n",
       "2066  lima julio antecedentes mediante resolución ad...   \n",
       "\n",
       "                                                summary  \n",
       "1769  sostok _START_ declara necesidad pública inter...  \n",
       "2066  sostok _START_ declaran fundado recurso recons...  "
      ]
     },
     "execution_count": 11,
     "metadata": {},
     "output_type": "execute_result"
    }
   ],
   "source": [
    "%%time\n",
    "#Add sostok and eostok at \n",
    "dataset_pre.summary = dataset_pre.summary.apply(lambda v : \"sostok \" + v + \" eostok\")\n",
    "dataset_pre.sample(2)"
   ]
  },
  {
   "cell_type": "code",
   "execution_count": 12,
   "metadata": {},
   "outputs": [
    {
     "name": "stdout",
     "output_type": "stream",
     "text": [
      "CPU times: user 4.23 ms, sys: 30 µs, total: 4.26 ms\n",
      "Wall time: 3.64 ms\n"
     ]
    },
    {
     "data": {
      "text/plain": [
       "((3582,), (398,))"
      ]
     },
     "execution_count": 12,
     "metadata": {},
     "output_type": "execute_result"
    }
   ],
   "source": [
    "%%time\n",
    "x_tr_i, x_val_i, y_tr_i, y_val_i = train_test_split(dataset_pre.content, dataset_pre.summary, test_size=0.1, random_state=0, shuffle=True)\n",
    "x_tr_i.shape, x_val_i.shape"
   ]
  },
  {
   "cell_type": "code",
   "execution_count": 13,
   "metadata": {},
   "outputs": [],
   "source": [
    "#from keras import backend as K\n",
    "#from tensorflow.keras import backend as K"
   ]
  },
  {
   "cell_type": "markdown",
   "metadata": {},
   "source": [
    "\n",
    "\n",
    "RARE WORD ANALYSIS FOR Y i.e 'summary'\n",
    "\n",
    "    tot_cnt gives the size of vocabulary (which means every unique words in the text)\n",
    "\n",
    "    cnt gives me the no. of rare words whose count falls below threshold\n",
    "\n",
    "    tot_cnt - cnt gives me the top most common words\n",
    "\n"
   ]
  },
  {
   "cell_type": "code",
   "execution_count": 37,
   "metadata": {},
   "outputs": [
    {
     "name": "stdout",
     "output_type": "stream",
     "text": [
      "% of rare words in vocabulary: 41.938566915337034\n",
      "Total Coverage of rare words: 0.8440977418155561\n",
      "Size of vocabulary in X = 21871\n",
      "CPU times: user 7.42 s, sys: 0 ns, total: 7.42 s\n",
      "Wall time: 7.43 s\n"
     ]
    },
    {
     "data": {
      "text/plain": [
       "37667"
      ]
     },
     "execution_count": 37,
     "metadata": {},
     "output_type": "execute_result"
    }
   ],
   "source": [
    "%%time\n",
    "#prepare a tokenizer for reviews on training data\n",
    "x_tokenizer = Tokenizer() \n",
    "x_tokenizer.fit_on_texts(x_tr_i)\n",
    "\n",
    "thresh=3\n",
    "\n",
    "cnt=0\n",
    "tot_cnt=0\n",
    "freq=0\n",
    "tot_freq=0\n",
    "\n",
    "for key,value in x_tokenizer.word_counts.items():\n",
    "    tot_cnt=tot_cnt+1\n",
    "    tot_freq=tot_freq+value\n",
    "    if(value<thresh):\n",
    "        cnt=cnt+1\n",
    "        freq=freq+value\n",
    "    \n",
    "print(\"% of rare words in vocabulary:\",(cnt/tot_cnt)*100)\n",
    "print(\"Total Coverage of rare words:\",(freq/tot_freq)*100)\n",
    "tot_cnt,cnt, tot_cnt-cnt, len(x_tokenizer.word_counts)\n",
    "\n",
    "#prepare a tokenizer for reviews on training data\n",
    "x_tokenizer = Tokenizer(num_words=tot_cnt-cnt) \n",
    "x_tokenizer.fit_on_texts(x_tr_i)\n",
    "\n",
    "#convert text sequences into integer sequences (i.e one-hot encodeing all the words)\n",
    "x_tr_seq    =   x_tokenizer.texts_to_sequences(x_tr_i) \n",
    "x_val_seq   =   x_tokenizer.texts_to_sequences(x_val_i)\n",
    "\n",
    "#padding zero upto maximum length\n",
    "x_tr    =   pad_sequences(x_tr_seq,  maxlen=max_content_len, padding='post')\n",
    "x_val   =   pad_sequences(x_val_seq, maxlen=max_content_len, padding='post')\n",
    "\n",
    "#size of vocabulary ( +1 for padding token)\n",
    "x_voc   =  x_tokenizer.num_words + 1\n",
    "\n",
    "print(\"Size of vocabulary in X = {}\".format(x_voc))\n",
    "len(x_tokenizer.word_counts)"
   ]
  },
  {
   "cell_type": "code",
   "execution_count": 15,
   "metadata": {},
   "outputs": [
    {
     "name": "stdout",
     "output_type": "stream",
     "text": [
      "% of rare words in vocabulary: 59.243986254295535\n",
      "Total Coverage of rare words: 7.164159538557337\n",
      "Size of vocabulary in Y = 2373\n",
      "CPU times: user 775 ms, sys: 8.09 ms, total: 783 ms\n",
      "Wall time: 779 ms\n"
     ]
    }
   ],
   "source": [
    "%%time\n",
    "#prepare a tokenizer for reviews on training data\n",
    "y_tokenizer = Tokenizer()   \n",
    "y_tokenizer.fit_on_texts(y_tr_i)\n",
    "\n",
    "\n",
    "\n",
    "thresh=3\n",
    "\n",
    "cnt=0\n",
    "tot_cnt=0\n",
    "freq=0\n",
    "tot_freq=0\n",
    "\n",
    "for key,value in y_tokenizer.word_counts.items():\n",
    "    tot_cnt=tot_cnt+1\n",
    "    tot_freq=tot_freq+value\n",
    "    if(value<thresh):\n",
    "        cnt=cnt+1\n",
    "        freq=freq+value\n",
    "    \n",
    "print(\"% of rare words in vocabulary:\",(cnt/tot_cnt)*100)\n",
    "print(\"Total Coverage of rare words:\",(freq/tot_freq)*100)\n",
    "\n",
    "\n",
    "#prepare a tokenizer for reviews on training data\n",
    "y_tokenizer = Tokenizer(num_words=tot_cnt-cnt) \n",
    "y_tokenizer.fit_on_texts(y_tr_i)\n",
    "\n",
    "#convert text sequences into integer sequences (i.e one hot encode the text in Y)\n",
    "y_tr_seq    =   y_tokenizer.texts_to_sequences(y_tr_i) \n",
    "y_val_seq   =   y_tokenizer.texts_to_sequences(y_val_i) \n",
    "\n",
    "#padding zero upto maximum length\n",
    "y_tr    =   pad_sequences(y_tr_seq, maxlen=max_summary_len, padding='post')\n",
    "y_val   =   pad_sequences(y_val_seq, maxlen=max_summary_len, padding='post')\n",
    "\n",
    "#size of vocabulary\n",
    "y_voc  =   y_tokenizer.num_words +1\n",
    "print(\"Size of vocabulary in Y = {}\".format(y_voc))"
   ]
  },
  {
   "cell_type": "code",
   "execution_count": 16,
   "metadata": {},
   "outputs": [
    {
     "name": "stdout",
     "output_type": "stream",
     "text": [
      "Size of vocabulary from the w2v model = 21871\n",
      "Model: \"model\"\n",
      "__________________________________________________________________________________________________\n",
      "Layer (type)                    Output Shape         Param #     Connected to                     \n",
      "==================================================================================================\n",
      "input_1 (InputLayer)            [(None, 5000)]       0                                            \n",
      "__________________________________________________________________________________________________\n",
      "embedding (Embedding)           (None, 5000, 200)    4374200     input_1[0][0]                    \n",
      "__________________________________________________________________________________________________\n",
      "lstm (LSTM)                     [(None, 5000, 300),  601200      embedding[0][0]                  \n",
      "__________________________________________________________________________________________________\n",
      "input_2 (InputLayer)            [(None, None)]       0                                            \n",
      "__________________________________________________________________________________________________\n",
      "lstm_1 (LSTM)                   [(None, 5000, 300),  721200      lstm[0][0]                       \n",
      "__________________________________________________________________________________________________\n",
      "embedding_1 (Embedding)         (None, None, 200)    474600      input_2[0][0]                    \n",
      "__________________________________________________________________________________________________\n",
      "lstm_2 (LSTM)                   [(None, 5000, 300),  721200      lstm_1[0][0]                     \n",
      "__________________________________________________________________________________________________\n",
      "lstm_3 (LSTM)                   [(None, None, 300),  601200      embedding_1[0][0]                \n",
      "                                                                 lstm_2[0][1]                     \n",
      "                                                                 lstm_2[0][2]                     \n",
      "__________________________________________________________________________________________________\n",
      "time_distributed (TimeDistribut (None, None, 2373)   714273      lstm_3[0][0]                     \n",
      "==================================================================================================\n",
      "Total params: 8,207,873\n",
      "Trainable params: 8,207,873\n",
      "Non-trainable params: 0\n",
      "__________________________________________________________________________________________________\n",
      "CPU times: user 2.81 s, sys: 410 ms, total: 3.22 s\n",
      "Wall time: 3.04 s\n"
     ]
    }
   ],
   "source": [
    "%%time\n",
    "print(\"Size of vocabulary from the w2v model = {}\".format(x_voc))\n",
    "\n",
    "K.clear_session()\n",
    "\n",
    "\n",
    "latent_dim = 300\n",
    "embedding_dim=200\n",
    "\n",
    "# Encoder\n",
    "encoder_inputs = Input(shape=(max_content_len,))\n",
    "\n",
    "#embedding layer\n",
    "enc_emb =  Embedding(x_voc, embedding_dim,trainable=True)(encoder_inputs)\n",
    "\n",
    "#encoder lstm 1\n",
    "encoder_lstm1 = LSTM(latent_dim, return_sequences=True, return_state=True, dropout=0.4, recurrent_dropout=0)\n",
    "encoder_output1, state_h1, state_c1 = encoder_lstm1(enc_emb)\n",
    "\n",
    "#encoder lstm 2\n",
    "encoder_lstm2 = LSTM(latent_dim,return_sequences=True,return_state=True,dropout=0.4,recurrent_dropout=0)\n",
    "encoder_output2, state_h2, state_c2 = encoder_lstm2(encoder_output1)\n",
    "\n",
    "#encoder lstm 3\n",
    "encoder_lstm3=LSTM(latent_dim, return_state=True, return_sequences=True,dropout=0.4,recurrent_dropout=0)\n",
    "encoder_outputs, state_h, state_c= encoder_lstm3(encoder_output2)\n",
    "\n",
    "# Set up the decoder, using `encoder_states` as initial state.\n",
    "decoder_inputs = Input(shape=(None,))\n",
    "\n",
    "#embedding layer\n",
    "dec_emb_layer = Embedding(y_voc, embedding_dim,trainable=True)\n",
    "dec_emb = dec_emb_layer(decoder_inputs)\n",
    "\n",
    "decoder_lstm = LSTM(latent_dim, return_sequences=True, return_state=True,dropout=0.4,recurrent_dropout=0)\n",
    "decoder_outputs,decoder_fwd_state, decoder_back_state = decoder_lstm(dec_emb,initial_state=[state_h, state_c])\n",
    "\n",
    "#dense layer\n",
    "decoder_dense =  TimeDistributed(Dense(y_voc, activation='softmax'))\n",
    "decoder_outputs = decoder_dense(decoder_outputs)\n",
    "\n",
    "# Define the model \n",
    "model = Model([encoder_inputs, decoder_inputs], decoder_outputs)\n",
    "\n",
    "model.summary()"
   ]
  },
  {
   "cell_type": "code",
   "execution_count": 17,
   "metadata": {},
   "outputs": [],
   "source": [
    "model.compile(optimizer='rmsprop', loss='sparse_categorical_crossentropy')"
   ]
  },
  {
   "cell_type": "code",
   "execution_count": 18,
   "metadata": {},
   "outputs": [],
   "source": [
    "es = EarlyStopping(monitor='val_loss', mode='min', verbose=1,patience=2)"
   ]
  },
  {
   "cell_type": "code",
   "execution_count": 19,
   "metadata": {},
   "outputs": [
    {
     "data": {
      "text/plain": [
       "((398, 49, 1), (3582, 49, 1), 3582, 398)"
      ]
     },
     "execution_count": 19,
     "metadata": {},
     "output_type": "execute_result"
    }
   ],
   "source": [
    "y_val.reshape(y_val.shape[0], y_val.shape[1], 1)[:,1:].shape, y_tr.reshape(y_tr.shape[0],y_tr.shape[1], 1)[:,1:].shape, len([x_tr,y_tr[:,:-1]][1]), len([x_val,y_val[:,:-1]][1])"
   ]
  },
  {
   "cell_type": "code",
   "execution_count": 22,
   "metadata": {},
   "outputs": [
    {
     "name": "stdout",
     "output_type": "stream",
     "text": [
      "Epoch 1/3\n",
      "224/224 [==============================] - 619s 3s/step - loss: 1.8338 - val_loss: 1.5607\n",
      "Epoch 2/3\n",
      "224/224 [==============================] - 641s 3s/step - loss: 1.5268 - val_loss: 1.4613\n",
      "Epoch 3/3\n",
      "224/224 [==============================] - 713s 3s/step - loss: 1.4050 - val_loss: 1.3607\n",
      "CPU times: user 26min 22s, sys: 5min 23s, total: 31min 46s\n",
      "Wall time: 32min 53s\n"
     ]
    }
   ],
   "source": [
    "%%time\n",
    "history=model.fit(\n",
    "    [x_tr,y_tr[:,:-1]], \n",
    "    y_tr.reshape(y_tr.shape[0],y_tr.shape[1], 1)[:,1:], \n",
    "    epochs=3, callbacks=[es], batch_size=16, \n",
    "    validation_data= ([x_val,y_val[:,:-1]], y_val.reshape(y_val.shape[0], y_val.shape[1], 1)[:,1:]))"
   ]
  },
  {
   "cell_type": "markdown",
   "metadata": {},
   "source": [
    "### "
   ]
  },
  {
   "cell_type": "code",
   "execution_count": 25,
   "metadata": {},
   "outputs": [
    {
     "data": {
      "image/png": "[encoded data removed]",
      "text/plain": [
       "<Figure size 432x288 with 1 Axes>"
      ]
     },
     "metadata": {},
     "output_type": "display_data"
    }
   ],
   "source": [
    "plt.plot(history.history['loss'], label='train')\n",
    "plt.plot(history.history['val_loss'], label='test')\n",
    "plt.legend()\n",
    "plt.show()"
   ]
  },
  {
   "cell_type": "code",
   "execution_count": 26,
   "metadata": {},
   "outputs": [],
   "source": [
    "reverse_target_word_index=y_tokenizer.index_word\n",
    "reverse_source_word_index=x_tokenizer.index_word\n",
    "target_word_index=y_tokenizer.word_index"
   ]
  },
  {
   "cell_type": "code",
   "execution_count": 28,
   "metadata": {},
   "outputs": [],
   "source": [
    "%%time\n",
    "# Encode the input sequence to get the feature vector\n",
    "encoder_model = Model(inputs=encoder_inputs,outputs=[encoder_outputs, state_h, state_c])\n",
    "\n",
    "# Decoder setup\n",
    "# Below tensors will hold the states of the previous time step\n",
    "decoder_state_input_h = Input(shape=(latent_dim,))\n",
    "decoder_state_input_c = Input(shape=(latent_dim,))\n",
    "decoder_hidden_state_input = Input(shape=(max_content_len,latent_dim))\n",
    "\n",
    "# Get the embeddings of the decoder sequence\n",
    "dec_emb2= dec_emb_layer(decoder_inputs) \n",
    "# To predict the next word in the sequence, set the initial states to the states from the previous time step\n",
    "decoder_outputs2, state_h2, state_c2 = decoder_lstm(dec_emb2, initial_state=[decoder_state_input_h, decoder_state_input_c])\n",
    "\n",
    "# A dense softmax layer to generate prob dist. over the target vocabulary\n",
    "decoder_outputs2 = decoder_dense(decoder_outputs2) \n",
    "\n",
    "# Final decoder model\n",
    "decoder_model = Model(\n",
    "    [decoder_inputs] + [decoder_hidden_state_input,decoder_state_input_h, decoder_state_input_c],\n",
    "    [decoder_outputs2] + [state_h2, state_c2])"
   ]
  },
  {
   "cell_type": "code",
   "execution_count": 29,
   "metadata": {},
   "outputs": [],
   "source": [
    "def decode_sequence(input_seq):\n",
    "    # Encode the input as state vectors.\n",
    "    e_out, e_h, e_c = encoder_model.predict(input_seq)\n",
    "    \n",
    "    # Generate empty target sequence of length 1.\n",
    "    target_seq = np.zeros((1,1))\n",
    "    \n",
    "    # Populate the first word of target sequence with the start word.\n",
    "    target_seq[0, 0] = target_word_index['sostok']\n",
    "\n",
    "    stop_condition = False\n",
    "    decoded_sentence = ''\n",
    "    while not stop_condition:\n",
    "      \n",
    "        output_tokens, h, c = decoder_model.predict([target_seq] + [e_out, e_h, e_c])\n",
    "\n",
    "        # Sample a token\n",
    "        sampled_token_index = np.argmax(output_tokens[0, -1, :])\n",
    "        sampled_token = reverse_target_word_index[sampled_token_index]\n",
    "        \n",
    "        if(sampled_token!='eostok'):\n",
    "            decoded_sentence += ' '+sampled_token\n",
    "\n",
    "        # Exit condition: either hit max length or find stop word.\n",
    "        if (sampled_token == 'eostok'  or len(decoded_sentence.split()) >= (max_summary_len-1)):\n",
    "            stop_condition = True\n",
    "\n",
    "        # Update the target sequence (of length 1).\n",
    "        target_seq = np.zeros((1,1))\n",
    "        target_seq[0, 0] = sampled_token_index\n",
    "\n",
    "        # Update internal states\n",
    "        e_h, e_c = h, c\n",
    "\n",
    "    return decoded_sentence"
   ]
  },
  {
   "cell_type": "code",
   "execution_count": null,
   "metadata": {},
   "outputs": [],
   "source": []
  },
  {
   "cell_type": "code",
   "execution_count": 30,
   "metadata": {},
   "outputs": [],
   "source": [
    "\n",
    "def seq2summary(input_seq):\n",
    "    newString=''\n",
    "    for i in input_seq:\n",
    "        if((i!=0 and i!=target_word_index['sostok']) and i!=target_word_index['eostok']):\n",
    "            newString=newString+reverse_target_word_index[i]+' '\n",
    "    return newString\n",
    "\n",
    "def seq2text(input_seq):\n",
    "    newString=''\n",
    "    for i in input_seq:\n",
    "        if(i!=0):\n",
    "            newString=newString+reverse_source_word_index[i]+' '\n",
    "    return newString\n"
   ]
  },
  {
   "cell_type": "code",
   "execution_count": 36,
   "metadata": {},
   "outputs": [
    {
     "name": "stdout",
     "output_type": "stream",
     "text": [
      "Review: chorrillos julio concejo municipal municipalidad distrital chorrillos vistos concejo municipal municipalidad distrital chorrillos sesión ordinaria fecha julio visto informe mdch fecha julio emitido gerencia administración tributaria memorándum mdch fecha julio emitido subgerencia fiscalización administrativa informe mdch fecha julio emitido subgerencia rentas memorándum mdch fecha julio emitido gerencia planeamiento presupuesto informe técnico mdch fecha julio emitido área funcional planeamiento institucional memorándum mdch fecha julio emitido subgerencia ejecutoría coactiva informe mdch fecha julio emitido subgerencia fiscalización tributaria informe mdch fecha julio emitido subgerencia obras privadas control urbano informe mdch fecha julio emitido subgerencia rentas informe mdch fecha julio emitido gerencia asesoría jurídica memorándum mdch fecha julio emitido gerencia municipal establecido constitución política perú modificado municipalidades provinciales distritales órganos gobierno local autonomía política económica administrativa asuntos competencia concordancia título preliminar orgánica municipalidades modificatorias señala autonomía constitución política perú otorga municipalidades radica facultad ejercer actos gobierno administrativos administración sujeción ordenamiento jurídico orgánica municipalidades establece ordenanzas municipalidades provinciales distritales materia competencia normas carácter general mayor jerarquía estructura normativa municipal medio cuales aprueba organización interna regulación administración supervisión servicios públicos materias municipalidad competencia normativa mediante ordenanzas crean modifican suprimen exoneran arbitrios tasas licencias derechos contribuciones dentro límites establecidos texto único ordenado código tributario aprobado mediante decreto supremo establece deuda tributaria sólo podrá condonada norma expresa rango excepcionalmente gobiernos locales pueden condonar carácter general interés moratorio sanciones respecto impuestos administren siendo caso contribuciones tasas dicha condonación podrá alcanzar tributo insoluto mediante informe mdch fecha julio subgerencia rentas propone aprobación ordenanza establece beneficios tributarios tributarios beneficio contribuyentes distrito chorrillos agosto debido economía país encuentra etapa reactivación habiéndose extendido emergencia nacional conforme dispone decreto supremo graves circunstancias afectan vida personas consecuencia covid resulta necesario brindar facilidades vecinos puedan cumplir obligaciones tributarias municipalidad chorrillos mediante memorándum mdch gerencia planeamiento presupuesto remite informe técnico mdch área funcional planeamiento institucional opina favorablemente recomienda realicen coordinaciones subgerencia obras privadas control urbano subgerencia fiscalización administrativa subgerencia fiscalización tributaria subgerencia ejecutoría coactiva emitan opinión respecto proyecto ordenanza beneficios tributarios tributarios informe mdch fecha julio gerencia asesoría jurídica emite opinión favorable respecto proyecto ordenanza elaborado subgerencia rentas encontrarse legalmente sustentada conforme fundamentos técnicos expuestos normatividad vigente expuesto conformidad dispuesto inciso orgánica municipalidades contando voto unanimidad señores regidores aprueba siguiente único otorgar agosto beneficios tributarios tributarios especiales contribuyentes distrito chorrillos acuerdo siguiente detalle beneficios tributarios beneficios tributarios multas impuestas subgerencia fiscalización administrativa multas impuestas subgerencia obras privadas control urbano primera cancelación total monto adeudado concepto tributos municipales multas administrativas coactivo conllevará suspensión procedimiento cobranza coactiva levantamiento medidas cautelares existieran respecto conforme procedimiento ejecución coactiva modificatorias texto único ordenado procedimiento ejecución coactiva produzca pago indicado procedimiento coactivo continuará trámite resultaría viable disponer medidas cautelares correspondan segunda administrados acojan voluntariamente beneficio dispuesto presente ordenanza reconocen tácitamente deuda comisión infracción objeto pago caso obligado trámite cualquier tipo reclamo impugnación deuda desea pagar acogerse presente ordenanza deberá presentar correspondiente desistimiento autoridad administrativa tercera pago multas administrativas libera infractor subsanación regularización hecho originó sanción decir medida complementaria ejecutable siempre regularizado conducta infractora cuarta facultar alcalde municipalidad distrital chorrillos mediante decreto alcaldía dicte disposiciones complementarias adecuación aplicación presente ordenanza establecer prórrogas vigencia misma quinta gerencia administración tributaria subgerencia rentas brindarán interesados información necesaria acojan adecuadamente alcances presente ordenanza través diferentes canales atención municipalidad sexta derogar toda norma mismo rango oponga presente ordenanza sétima presente ordenanza entrará vigencia mismo publicación diario oficial peruano realizada publicación disponiéndose publicación portal institucional municipalidad distrital chorrillos regístrese comuníquese publíquese cúmplase augusto sergio miyashiro ushikubo alcalde \n",
      "Original summary: start ordenanza establece beneficios tributarios tributarios contribuyentes distrito chorrillos end \n",
      "Predicted summary:  start aprueban plan general end\n",
      "\n",
      "\n",
      "Review: lima julio visto informe sssar subsecretaría simplificación análisis regulatorio secretaría gestión pública presidencia consejo ministros decreto legislativo decreto legislativo modifica decreto legislativo decreto legislativo aprueba medidas adicionales simplificación administrativa perfecciona marco institucional instrumentos rigen proceso mejora calidad regulatoria establece mejora calidad regulatoria proceso ordenado integral coordinado gradual continuo orientado promover eficiencia eficacia transparencia neutralidad ejercicio función normativa fomenta cultura gestión gubernamental centrada ciudadano administración pública decide usar regulación instrumento alcanzar objetivo política pública adoptando decisión regular basado evidencia racionalidad evaluación posibles impactos cargas administrativas finalidad generar facilitar desarrollo integral bienestar social según dispuesto marco modernización gestión sistema administrativo modernización gestión pública finalidad promover mejorar calidad regulaciones ámbito competencia presidencia consejo ministros asimismo establece entidad través secretaría gestión pública ejerce rectoría sistema administrativo modernización gestión pública mediante decreto supremo aprueba reglamento desarrolla marco institucional rige proceso mejora calidad regulatoria establece lineamientos generales aplicación análisis impacto regulatorio finalidad establecer reglas responsabilidades garantizar adecuado funcionamiento marco institucional mejora calidad regulatoria aplicación análisis impacto regulatorio sexta disposición complementaria final citado reglamento establece secretaría gestión pública presidencia consejo ministros articula entidades públicas competentes aprobación mediante resolución ministerial presidencia consejo ministros lineamientos aplicación agenda temprana refiere aplicación consulta pública refiere plazo mayor noventa días hábiles contados partir siguiente publicación citado reglamento única disposición complementaria final lineamientos aplicación agenda temprana consulta pública marco análisis impacto regulatorio aprobados resolución ministerial señalan mediante resolución secretaría gestión pública publicada diario oficial peruano aprueba formato único agenda temprana guía consulta pública marco análisis impacto regulatorio plazo mayor quince días hábiles contados partir siguiente publicación citados lineamientos resulta necesario aprobar formato único agenda temprana guía consulta pública marco análisis impacto regulatorio modo complementario citados lineamientos permitirá asegurar proceso implementación efectivo mejora progresiva calidad regulaciones considerando participación partes interesadas ciudadanía general contribuyendo desarrollo integral sostenible bienestar social conformidad establecido orgánica poder ejecutivo decreto legislativo decreto legislativo modifica decreto legislativo decreto legislativo aprueba medidas adicionales simplificación administrativa perfecciona marco institucional instrumentos rigen proceso mejora calidad regulatoria decreto legislativo decreto legislativo modifica marco modernización gestión reglamento desarrolla marco institucional rige proceso mejora calidad regulatoria establece lineamientos generales aplicación análisis impacto regulatorio aprobado decreto supremo lineamientos aplicación agenda temprana aplicación consulta pública marco análisis impacto regulatorio aprobados resolución ministerial resuelve aprobación apruébase formato único agenda temprana anexo forma parte integrante presente resolución aprobación apruébase guía consulta pública marco análisis impacto regulatorio anexo forma parte integrante presente resolución publicación publíquese presente resolución secretaría gestión pública anexos aprobados mediante plataforma digital única orientación ciudadano sede digital presidencia consejo ministros mismo publicación presente norma diario oficial peruano regístrese comuníquese publíquese sara maria arobes escobar secretaria gestión pública \n",
      "Original summary: start aprueban formato único agenda guía consulta pública marco análisis impacto regulatorio end \n",
      "Predicted summary:  start aprueban plan general end\n",
      "\n",
      "\n",
      "Review: carabayllo junio alcalde municipalidad distrital carabayllo vistos informe gscma fecha mayo emitido subgerencia medio ambiente informe gppci fecha mayo emitido subgerencia presupuesto informe gscma fecha mayo emitido gerencia servicios ciudad medio ambiente informe legal fecha mayo emitido gerencia asesoría jurídica memorándum fecha junio emitido gerencia municipal respecto plan anual valorización residuos sólidos inorgánicos municipales meta implementación sistema integrado manejo residuos sólidos municipales conforme establecido constitución política perú concordante título preliminar orgánica municipalidades gobiernos locales gozan autonomía política económica administrativa asuntos competencia dicha autonomía radica facultad ejercer actos gobierno administrativos administración sujeción ordenamiento jurídico referida orgánica municipalidades establece municipalidades materia saneamiento salubridad salud ejercen siguientes funciones funciones específicas exclusivas municipalidades distritales proveer servicio limpieza pública determinando áreas acumulación desechos rellenos sanitarios aprovechamiento industrial desperdicios gestión integral residuos sólidos aprobada mediante decreto legislativo señala gestión integral residuos sólidos deberá orientada establecer gradualmente segregación fuente residuos municipales recojo selectivo residuos sólidos admitiendo manejo conjunto excepción generen riesgos ambientales significativos asimismo modificado decreto legislativo establece segregación residuos gestión municipal municipal obligatoria debe realizarse fuente generación mediante decreto supremo minam aprobó política nacional ambiente política gestión integral calidad ambiental residuos sólidos establece lineamientos política fortalecer gestión gobiernos regionales locales materia residuos sólidos ámbito municipal priorizando aprovechamiento decreto supremo señala apruébase procedimientos cumplimiento metas asignación recursos programa incentivos mejora gestión municipal cuales constan diecisiete anexo anexos mismos forman parte integrante presente decreto supremo según anexo referido decreto supremo municipalidad distrital carabayllo municipalidad distrital tipo corresponde cumplimiento meta implementación sistema integrado manejo residuos sólidos municipales minam mediante informe gscma subgerencia medio ambiente presenta plan anual valorización residuos sólidos inorgánicos municipales mediante informe gppci subgerencia presupuesto otorga disponibilidad presupuestal importe cubrir valorización residuos sólidos inorgánicos municipales mediante informe gscma gerencia servicios ciudad medio ambiente eleva plan anual valorización residuos sólidos inorgánicos municipales mediante informe legal gerencia asesoría jurídica opina favorablemente respecto aprobación referido plan mediante memorándum gerencia municipal remite actuados secretaría general emisión acto resolutivo correspondiente expuesto ejerciendo facultades conferidas orgánica municipalidades visto bueno gerencia servicios ciudad medio ambiente gerencia planeamiento presupuesto cooperación institucional gerencia asesoría jurídica gerencia municipal resuelve primero aprobar plan anual valorización residuos sólidos inorgánicos municipales distrito carabayllo segundo encargar subgerencia medio ambiente efectuar acciones correspondientes necesarias principales actores involucrados correcta ejecución plan aprobado gerencia servicios ciudad medio ambiente supervisión seguimiento respectivos tercero encargar gerencia municipal gerencia planeamiento presupuesto cooperación institucional gerencia servicios ciudad medio ambiente subgerencia medio ambiente estricto cumplimiento dispuesto presente resolución alcaldía cuarto encargar secretaría general subgerencia logística publicación presente resolución diario oficial peruano subgerencia tecnología información estadística publicación portal institucional municarabayllo regístrese comuníquese publíquese cúmplase marcos lorenzo espinoza ortiz alcalde \n",
      "Original summary: start aprueban plan anual residuos sólidos municipales distrito carabayllo end \n",
      "Predicted summary:  start aprueban plan general end\n",
      "\n",
      "\n",
      "Review: lima junio visto informe técnico legal doua fecha junio emitido dirección organizaciones usuarios agua oficina asesoría jurídica organizaciones usuarios agua reglamento aprobado decreto supremo minagri reglamento regulan constitución funcionamiento juntas usuarios agua previstas recursos hídricos entidades cuya actividad gestión infraestructura hidráulica recursos hídricos interés público medidas emergencia sanitaria generada covid restringen derechos constitucionales reunión tránsito mediante cuarta disposición complementaria final decreto urgencia autoriza autoridad nacional agua plazo mayor seis meses contado partir junio realice convocatoria proceso electoral extraordinario organizaciones usuarios agua finalidad renueven consejos directivos periodo asimismo dispone continuidad mandato consejos directivos vencen diciembre comités administración temporal órganos similar denominación salvaguarda correcta operación mantenimiento infraestructura hidráulica cargo organizaciones mediante decreto supremo midagri establecen disposiciones renovación consejos directivos periodo organizaciones usuarios agua señaladas reglamento garantizar gestión multisectorial recursos hídricos seguridad hídrica alimentaria país primera disposición complementaria final referido decreto supremo establece autoridad nacional agua mediante resolución jefatural aprueba protocolos dicta demás disposiciones complementarias facilitar desarrollo proceso electoral extraordinario mediante resolución jefatural convoca proceso electoral extraordinario estableciendo respectivo cronograma electoral mediante resolución jefatural aprueban disposiciones necesarias cumplimiento dispuesto decreto urgencia decreto supremo midagri finalidad facilitar desarrollo proceso electoral extraordinario organizaciones usuarios agua renovación consejos directivos periodo mediante decreto supremo midagri establece disposiciones complementarias proceso electoral extraordinario organizaciones usuarios agua elección consejos directivos periodo existiendo comisiones usuarios integran junta usuarios cuyos consejos directivos deben renovados conformidad decreto urgencia marco decreto supremo mencionado corresponde dictar disposiciones complementarias desarrollo acto electoral dichas organizaciones usuarios agua asimismo finalidad viabilidad desarrollo acto público elección comité electoral comité impugnaciones resulta necesario modificar anexo resolución jefatural opinado dirección organizaciones usuarios agua oficina asesoría jurídica informe técnico legal visto facultades conferidas reglamento organización funciones autoridad nacional agua aprobado decreto supremo minagri resuelve objeto presente resolución jefatural objeto establecer disposiciones marco establecido decreto urgencia decreto supremo midagri decreto supremo midagri renovación consejos directivos comisiones usuarios integran junta usuarios modificar anexo resolución jefatural proceso electoral comisiones usuarios integran junta usuarios comisiones usuarios integran junta usuarios establecen fecha desarrollo acto electoral dentro plazo establecido decreto urgencia padrón electoral aprobado administración local agua base formato anexo resolución jefatural presidente consejo directivo comité administración temporal órganos similar denominación convoca acto electoral mínimo doce días calendarios anticipación desarrolla sujeción sanitarios vigentes eligen comité electoral comité impugnaciones compuesto tres miembros cada mismo acto electoral usuarios agua presentes siendo funciones siguientes comité electoral recibe listas candidatos enumera establecer orden elección asimismo organiza dirige acto electoral cumpliendo protocolos covid aprobados velando cumplimiento quorum comité impugnaciones determina existencia alguna impugnación realizada mismo acto electoral resolviendo inmediatamente acta elección debe redactada firmada libro respectivo comisión usuarios comité electoral indicando inexistencia alguna impugnación fundamentos resuelven misma comité impugnaciones contando firma convocó acto electoral integrantes comités mencionados modificación anexo resolución jefatural incorporar numeral anexo resolución jefatural actos preliminares acto público caso junta usuarios cumpla remitir relación mínima usuarios dispuesta numeral administración local agua sorteará miembros comité electoral comité impugnaciones usuarios agua figuren padrón electoral aprobado publicación disponer publicación presente resolución diario oficial peruano portal institucional mismo publicación diario oficial regístrese comuníquese publíquese roberto salazar gonzales jefe autoridad nacional agua \n",
      "Original summary: start establecen disposiciones marco establecido midagri renovación consejos directivos comisiones usuarios integran junta usuarios modifican anexo end \n",
      "Predicted summary:  start aprueban plan general end\n",
      "\n",
      "\n",
      "Review: supe mayo concejo municipal distrito supe visto debatido sesión ordinaria concejo fecha mayo informe memorándum fecha mayo informe fecha mayo memorándum informe ogaj oficina general asesoría jurídica emite opinión legal favorable conformidad constitución política modificado reforma constitucional fecha marzo concordado título preliminar orgánica municipalidades gobiernos locales gozan autonomía política económica administrativa asuntos competencia radica facultad ejercer actos gobierno administrativos administración sujeción ordenamiento jurídico municipalidad distrital supe viene afrontando diversas demandas laborales muchas cuales determinado sentencias judiciales ordenan pago sumas dinero favor trabajadores trabajadores municipales concepto principalmente beneficios sociales dejados percibir largo desempeño laboral entidad además costas procesales puede entenderse municipalidad distrital supe lejos exponer argumentos retrasar cumplimiento sentencias judiciales mostrado siempre compromiso cumplir obligaciones judiciales dentro marco normativo función recursos presupuestales financieros dispusieron afectando montos incluso encima asignación presupuestal norma obliga entidades mediante informe fecha mayo procuraduría publica municipal municipalidad distrital supe comunica expedientes judiciales etapa ejecución sentencia solicitudes embargo señalando dispongan acciones correspondientes efectos cautelar intereses municipalidad mediante memorándum fecha mayo gerencia municipal solicita oficina tesorería información cuentas corrientes libre disposición nombre municipalidad distrital supe responde mediante informe fecha mayo mediante informe ogaj oficina asesoría jurídica señala necesario realizar debate respecto declarar bienes dominio público cuentas intangibles cuentas corrientes impuestos municipales cuenta recursos directamente recaudados mantenidas sistema financiero nacional debido saldos mantienen citadas cuentas destinadas satisfacer fines públicos cumplimiento funciones constitución política establece administración económica financiera rige presupuesto anualmente aprueba congreso republica ello implica recursos municipalidad solo deben destinados fines determine parte numeral regula proceso contencioso administrativo aprobado decreto supremo prescribe caso cumplimiento sentencia financiamiento ordenado numeral anterior resulte insuficiente titular pliego presupuestario previa evaluación priorización metas presupuestarias podrá realizar modificaciones presupuestarias dentro días notificada hecho deberá comunicado órgano jurisdiccional correspondiente primer párrafo orgánica municipalidades prescriben concejos municipales ejercen interés público vecinal institucional expresan voluntad órgano gobierno practicar determinado acto sujetarse conducta norma institucional consideraciones expuestas atribuciones conferidas orgánica municipalidades aprobado mayoría sesión ordinaria concejo fecha mayo acuerda primero declarar bienes dominio público cuentas intangibles cuentas corrientes rubro impuestos municipales rubro mantenidas sistema financiero nacional debido saldos mantienen citadas cuentas destinadas satisfacer intereses finalidad pública cumplimiento funciones segundo comunicar presente acuerdo oficinas banco nación dichas cuentas corrientes efectos mismas carácter inembargables tercero publicar presente acuerdo concejo sola diario oficial peruano encargando responsable imagen institucional sistemas tecnologías efectuar trámite respectivo publicación cuarto autorizar procuraduría pública municipal adoptar acciones legales necesarias aquellas autoridades trasgredan disposiciones descritas parte considerativa presente acuerdo poner conocimiento respectivas autoridades acuerdo adoptado concejo municipal quinto encargar cumplimiento presente acuerdo gerencia municipal oficina general administración finanzas oficina general planeamiento presupuesto oficina contabilidad oficina tesorería municipalidad distrital supe regístrese comuníquese cúmplase luis alberto sosa hidalgo alcalde \n",
      "Original summary: start declaran bienes dominio público cuentas intangibles diversas cuentas end \n",
      "Predicted summary:  start aprueban plan general end\n",
      "\n",
      "\n"
     ]
    }
   ],
   "source": [
    "for i in range(25,30):\n",
    "    print(\"Review:\",seq2text(x_tr[i]))\n",
    "    print(\"Original summary:\",seq2summary(y_tr[i]))\n",
    "    print(\"Predicted summary:\",decode_sequence(x_tr[i].reshape(1,max_content_len)))\n",
    "    print(\"\\n\")"
   ]
  },
  {
   "cell_type": "code",
   "execution_count": null,
   "metadata": {},
   "outputs": [],
   "source": []
  }
 ],
 "metadata": {
  "kernelspec": {
   "display_name": "Python 3",
   "language": "python",
   "name": "python3"
  },
  "language_info": {
   "codemirror_mode": {
    "name": "ipython",
    "version": 3
   },
   "file_extension": ".py",
   "mimetype": "text/x-python",
   "name": "python",
   "nbconvert_exporter": "python",
   "pygments_lexer": "ipython3",
   "version": "3.9.0"
  }
 },
 "nbformat": 4,
 "nbformat_minor": 4
}
