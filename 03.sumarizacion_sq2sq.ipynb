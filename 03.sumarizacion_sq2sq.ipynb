{
 "cells": [
  {
   "cell_type": "markdown",
   "metadata": {},
   "source": [
    "# Curso: MCC639E\n",
    "\n",
    "#### Integrantes\n",
    "\n",
    "- Carlos Tello Tapia\n",
    "- Lennin Quiso Córdova\n",
    "- Milton Palacin Grijalva\n",
    "___\n",
    "\n",
    "# PARTE PARTE: TEXT SUMMARIZATION"
   ]
  },
  {
   "cell_type": "markdown",
   "metadata": {},
   "source": [
    "## I. Declaración de librerías"
   ]
  },
  {
   "cell_type": "code",
   "execution_count": 1,
   "metadata": {},
   "outputs": [],
   "source": [
    "# Librerías de apoyo\n",
    "# ==============================================================================\n",
    "from tqdm import tqdm\n",
    "\n",
    "# Tratamiento de datos\n",
    "# ==============================================================================\n",
    "import matplotlib.pyplot as plt\n",
    "import pandas as pd\n",
    "#import seaborn as sns\n",
    "#import numpy as np\n",
    "#import mglearn\n",
    "from sklearn.model_selection import train_test_split\n",
    "\n",
    "# Tratamiento de texto\n",
    "# ==============================================================================\n",
    "#from nltk import FreqDist\n",
    "#from nltk import word_tokenize\n",
    "#from sklearn.feature_extraction.text import TfidfVectorizer, CountVectorizer\n",
    "#from sklearn.decomposition import LatentDirichletAllocation\n",
    "#from sklearn.model_selection import GridSearchCV\n",
    "#from sklearn.manifold import TSNE\n",
    "from tensorflow.keras.models import Model\n",
    "from tensorflow.keras.callbacks import EarlyStopping\n",
    "from keras.preprocessing.text import Tokenizer \n",
    "from keras.preprocessing.sequence import pad_sequences\n",
    "from tensorflow.keras.layers import Input, LSTM, Embedding, Dense, Concatenate, TimeDistributed\n",
    "from tensorflow.keras import backend as K\n",
    "\n",
    "# Visualización Jupyter\n",
    "# ==============================================================================\n",
    "import warnings\n",
    "warnings.filterwarnings('ignore')\n",
    "\n",
    "\n",
    "\n",
    "# Configuración matplotlib\n",
    "# ==============================================================================\n",
    "# Para obtener el estilo de plot de seabonr\n",
    "plt.style.use('seaborn-whitegrid')\n",
    "plt.rcParams['image.cmap'] = \"bwr\"\n",
    "plt.rcParams['savefig.bbox'] = \"tight\"\n",
    "\n",
    "# otras configuraciones\n",
    "# ==============================================================================\n",
    "tqdm.pandas()\n",
    "#pd.set_option(\"display.max_colwidth\", 200)\n",
    "\n",
    "import os\n",
    "os.environ[\"TF_FORCE_GPU_ALLOW_GROWTH\"]=\"true\"\n"
   ]
  },
  {
   "cell_type": "markdown",
   "metadata": {},
   "source": [
    "## II. Cargar y explorar el dataset"
   ]
  },
  {
   "cell_type": "code",
   "execution_count": 2,
   "metadata": {},
   "outputs": [
    {
     "name": "stdout",
     "output_type": "stream",
     "text": [
      "CPU times: user 771 ms, sys: 43.3 ms, total: 814 ms\n",
      "Wall time: 812 ms\n"
     ]
    },
    {
     "data": {
      "text/html": [
       "<div>\n",
       "<style scoped>\n",
       "    .dataframe tbody tr th:only-of-type {\n",
       "        vertical-align: middle;\n",
       "    }\n",
       "\n",
       "    .dataframe tbody tr th {\n",
       "        vertical-align: top;\n",
       "    }\n",
       "\n",
       "    .dataframe thead th {\n",
       "        text-align: right;\n",
       "    }\n",
       "</style>\n",
       "<table border=\"1\" class=\"dataframe\">\n",
       "  <thead>\n",
       "    <tr style=\"text-align: right;\">\n",
       "      <th></th>\n",
       "      <th>category</th>\n",
       "      <th>title</th>\n",
       "      <th>date</th>\n",
       "      <th>abstract</th>\n",
       "      <th>content</th>\n",
       "      <th>content_for_topic</th>\n",
       "      <th>content_for_summary</th>\n",
       "      <th>abstract_for_summary</th>\n",
       "    </tr>\n",
       "  </thead>\n",
       "  <tbody>\n",
       "    <tr>\n",
       "      <th>1552</th>\n",
       "      <td>CONSEJO EJECUTIVO DEL PODER JUDICIAL</td>\n",
       "      <td>RESOLUCION ADMINISTRATIVA  N° 000204-2021-CE-PJ</td>\n",
       "      <td>15/07/2021</td>\n",
       "      <td>Rectifican de oficio error material incurrido ...</td>\n",
       "      <td>Lima, 8 de julio del 2021 VISTO: El Oficio N° ...</td>\n",
       "      <td>lima julio visto oficio cursado gerencia gener...</td>\n",
       "      <td>lima julio visto oficio cursado gerencia gener...</td>\n",
       "      <td>rectifican oficio error material incurrido dir...</td>\n",
       "    </tr>\n",
       "    <tr>\n",
       "      <th>3389</th>\n",
       "      <td>MUNICIPALIDAD DE MIRAFLORES</td>\n",
       "      <td>DECRETO DE ALCALDIA  N° 006-2021/MM</td>\n",
       "      <td>06/06/2021</td>\n",
       "      <td>Disponen el embanderamiento general y obligato...</td>\n",
       "      <td>Miraflores, 27 de mayo de 2021 EL ALCALDE DE M...</td>\n",
       "      <td>miraflor mayo alcalde miraflor constitución po...</td>\n",
       "      <td>miraflores mayo alcalde miraflores constitució...</td>\n",
       "      <td>disponen embanderamiento general obligatorio v...</td>\n",
       "    </tr>\n",
       "    <tr>\n",
       "      <th>2815</th>\n",
       "      <td>CULTURA</td>\n",
       "      <td>RESOLUCION VICE MINISTERIAL  N° 000139-2021-VM...</td>\n",
       "      <td>18/06/2021</td>\n",
       "      <td>Declaran Patrimonio Cultural de la Nación a lo...</td>\n",
       "      <td>San Borja, 15 de junio del 2021 VISTOS; el Inf...</td>\n",
       "      <td>borjo junio visto informe dirección general mu...</td>\n",
       "      <td>borja junio vistos informe dirección general m...</td>\n",
       "      <td>declaran patrimonio cultural nación ciento vei...</td>\n",
       "    </tr>\n",
       "    <tr>\n",
       "      <th>559</th>\n",
       "      <td>ORGANISMO SUPERVISOR DE INVERSION PRIVADA EN T...</td>\n",
       "      <td>RESOLUCION  N° 137-2021-CD/OSIPTEL</td>\n",
       "      <td>01/08/2021</td>\n",
       "      <td>Aprueban la Norma Técnica relativa a la implem...</td>\n",
       "      <td>Lima, 30 de julio de 2021 VISTO: El Proyecto d...</td>\n",
       "      <td>lima julio visto proyecto resolución presentad...</td>\n",
       "      <td>lima julio visto proyecto resolución presentad...</td>\n",
       "      <td>aprueban norma técnica relativa implementación...</td>\n",
       "    </tr>\n",
       "    <tr>\n",
       "      <th>3694</th>\n",
       "      <td>SEGURO INTEGRAL DE SALUD</td>\n",
       "      <td>RESOLUCION JEFATURAL  N° 066-2021/SIS</td>\n",
       "      <td>31/05/2021</td>\n",
       "      <td>Disponen acciones que resulten necesarias para...</td>\n",
       "      <td>Lima, 30 de mayo de 2021 VISTOS: El Informe Co...</td>\n",
       "      <td>lima mayo visto informe conjunto gadjsga sgpp ...</td>\n",
       "      <td>lima mayo vistos informe conjunto gadjsga sgpp...</td>\n",
       "      <td>disponen acciones resulten necesarias extensió...</td>\n",
       "    </tr>\n",
       "  </tbody>\n",
       "</table>\n",
       "</div>"
      ],
      "text/plain": [
       "                                               category  \\\n",
       "1552               CONSEJO EJECUTIVO DEL PODER JUDICIAL   \n",
       "3389                        MUNICIPALIDAD DE MIRAFLORES   \n",
       "2815                                            CULTURA   \n",
       "559   ORGANISMO SUPERVISOR DE INVERSION PRIVADA EN T...   \n",
       "3694                           SEGURO INTEGRAL DE SALUD   \n",
       "\n",
       "                                                  title        date  \\\n",
       "1552    RESOLUCION ADMINISTRATIVA  N° 000204-2021-CE-PJ  15/07/2021   \n",
       "3389                DECRETO DE ALCALDIA  N° 006-2021/MM  06/06/2021   \n",
       "2815  RESOLUCION VICE MINISTERIAL  N° 000139-2021-VM...  18/06/2021   \n",
       "559                  RESOLUCION  N° 137-2021-CD/OSIPTEL  01/08/2021   \n",
       "3694              RESOLUCION JEFATURAL  N° 066-2021/SIS  31/05/2021   \n",
       "\n",
       "                                               abstract  \\\n",
       "1552  Rectifican de oficio error material incurrido ...   \n",
       "3389  Disponen el embanderamiento general y obligato...   \n",
       "2815  Declaran Patrimonio Cultural de la Nación a lo...   \n",
       "559   Aprueban la Norma Técnica relativa a la implem...   \n",
       "3694  Disponen acciones que resulten necesarias para...   \n",
       "\n",
       "                                                content  \\\n",
       "1552  Lima, 8 de julio del 2021 VISTO: El Oficio N° ...   \n",
       "3389  Miraflores, 27 de mayo de 2021 EL ALCALDE DE M...   \n",
       "2815  San Borja, 15 de junio del 2021 VISTOS; el Inf...   \n",
       "559   Lima, 30 de julio de 2021 VISTO: El Proyecto d...   \n",
       "3694  Lima, 30 de mayo de 2021 VISTOS: El Informe Co...   \n",
       "\n",
       "                                      content_for_topic  \\\n",
       "1552  lima julio visto oficio cursado gerencia gener...   \n",
       "3389  miraflor mayo alcalde miraflor constitución po...   \n",
       "2815  borjo junio visto informe dirección general mu...   \n",
       "559   lima julio visto proyecto resolución presentad...   \n",
       "3694  lima mayo visto informe conjunto gadjsga sgpp ...   \n",
       "\n",
       "                                    content_for_summary  \\\n",
       "1552  lima julio visto oficio cursado gerencia gener...   \n",
       "3389  miraflores mayo alcalde miraflores constitució...   \n",
       "2815  borja junio vistos informe dirección general m...   \n",
       "559   lima julio visto proyecto resolución presentad...   \n",
       "3694  lima mayo vistos informe conjunto gadjsga sgpp...   \n",
       "\n",
       "                                   abstract_for_summary  \n",
       "1552  rectifican oficio error material incurrido dir...  \n",
       "3389  disponen embanderamiento general obligatorio v...  \n",
       "2815  declaran patrimonio cultural nación ciento vei...  \n",
       "559   aprueban norma técnica relativa implementación...  \n",
       "3694  disponen acciones resulten necesarias extensió...  "
      ]
     },
     "execution_count": 2,
     "metadata": {},
     "output_type": "execute_result"
    }
   ],
   "source": [
    "%%time\n",
    "dataset_base = pd.read_csv(\"dataset_base.csv\", sep='\\t', encoding='utf-8')\n",
    "dataset_base.sample(5)"
   ]
  },
  {
   "cell_type": "markdown",
   "metadata": {},
   "source": [
    "___\n",
    "Utilizar las columnas: \n",
    "* **content_for_summary**\n",
    "* **abstract_for_summary**\n",
    "\n",
    "Estas columnas a diferencia de **content_for_topic** son textos pre-procesados sin stemmer o lemmatizer. Es necesario mantener la palabras originales para ayudar a la red a mejorar su exactitus en la generación del \"summary\" \n",
    "___"
   ]
  },
  {
   "cell_type": "code",
   "execution_count": 3,
   "metadata": {},
   "outputs": [
    {
     "name": "stdout",
     "output_type": "stream",
     "text": [
      "Dimensiones: (4099, 8)\n",
      "Filas que no contiene valores nulos: 4063\n",
      "Filas con valores nulos: 36\n"
     ]
    }
   ],
   "source": [
    "# Limpieza del dataset\n",
    "print(\"Dimensiones:\", dataset_base.shape)\n",
    "print(\"Filas que no contiene valores nulos:\", len(dataset_base[dataset_base.content_for_topic.notna()]))\n",
    "print(\"Filas con valores nulos:\", len(dataset_base[dataset_base.isnull().any(axis=1)]))"
   ]
  },
  {
   "cell_type": "code",
   "execution_count": 4,
   "metadata": {},
   "outputs": [
    {
     "name": "stdout",
     "output_type": "stream",
     "text": [
      "Dimensiones: (4063, 8)\n"
     ]
    }
   ],
   "source": [
    "# Eliminar registros que contienen valores nulos\n",
    "dataset_base.dropna(inplace=True)\n",
    "print(\"Dimensiones:\", dataset_base.shape)"
   ]
  },
  {
   "cell_type": "code",
   "execution_count": 5,
   "metadata": {},
   "outputs": [
    {
     "name": "stdout",
     "output_type": "stream",
     "text": [
      "Filas con errata: 52\n",
      "Nuevas dimensiones: (4011, 8)\n",
      "CPU times: user 4.08 ms, sys: 23 µs, total: 4.1 ms\n",
      "Wall time: 3.33 ms\n"
     ]
    }
   ],
   "source": [
    "%%time\n",
    "# Eliminar registros que viene de una corrección, identificado como \"errata\"\n",
    "print(\"Filas con errata:\", dataset_base[dataset_base.abstract_for_summary == \"errata\"].shape[0])\n",
    "\n",
    "# Eliminar las filas\n",
    "dataset_base.drop(dataset_base[dataset_base.abstract_for_summary == \"errata\"].index, inplace = True)\n",
    "print(\"Nuevas dimensiones:\", dataset_base.shape)"
   ]
  },
  {
   "cell_type": "code",
   "execution_count": null,
   "metadata": {},
   "outputs": [],
   "source": []
  },
  {
   "cell_type": "code",
   "execution_count": null,
   "metadata": {},
   "outputs": [],
   "source": []
  },
  {
   "cell_type": "code",
   "execution_count": 6,
   "metadata": {},
   "outputs": [
    {
     "name": "stdout",
     "output_type": "stream",
     "text": [
      "CPU times: user 5.49 ms, sys: 0 ns, total: 5.49 ms\n",
      "Wall time: 4.2 ms\n"
     ]
    },
    {
     "data": {
      "text/html": [
       "<div>\n",
       "<style scoped>\n",
       "    .dataframe tbody tr th:only-of-type {\n",
       "        vertical-align: middle;\n",
       "    }\n",
       "\n",
       "    .dataframe tbody tr th {\n",
       "        vertical-align: top;\n",
       "    }\n",
       "\n",
       "    .dataframe thead th {\n",
       "        text-align: right;\n",
       "    }\n",
       "</style>\n",
       "<table border=\"1\" class=\"dataframe\">\n",
       "  <thead>\n",
       "    <tr style=\"text-align: right;\">\n",
       "      <th></th>\n",
       "      <th>category</th>\n",
       "      <th>title</th>\n",
       "      <th>date</th>\n",
       "      <th>abstract</th>\n",
       "      <th>content</th>\n",
       "      <th>content_for_topic</th>\n",
       "      <th>content_for_summary</th>\n",
       "      <th>abstract_for_summary</th>\n",
       "      <th>abstract_for_decoder</th>\n",
       "    </tr>\n",
       "  </thead>\n",
       "  <tbody>\n",
       "    <tr>\n",
       "      <th>628</th>\n",
       "      <td>MUNICIPALIDAD DE VILLA MARIA DEL TRIUNFO</td>\n",
       "      <td>DECRETO DE ALCALDIA  N° 008-2021-MVMT</td>\n",
       "      <td>30/07/2021</td>\n",
       "      <td>Prorrogan vigencia de la Ordenanza N° 315-MVMT...</td>\n",
       "      <td>Villa María del Triunfo, 20 de julio de 2021 E...</td>\n",
       "      <td>villo maría triunfo julio alcalde villo maría ...</td>\n",
       "      <td>villa maría triunfo julio alcalde villa maría ...</td>\n",
       "      <td>prorrogan vigencia ordenanza mvmt establece be...</td>\n",
       "      <td>_START_ prorrogan vigencia ordenanza mvmt esta...</td>\n",
       "    </tr>\n",
       "    <tr>\n",
       "      <th>266</th>\n",
       "      <td>EDUCACION</td>\n",
       "      <td>RESOLUCION VICE MINISTERIAL  N° 248-2021-MINEDU</td>\n",
       "      <td>11/08/2021</td>\n",
       "      <td>Aprueban el documento normativo denominado Ori...</td>\n",
       "      <td>Lima, 10 de agosto de 2021 VISTOS, el Expedien...</td>\n",
       "      <td>lima agosto visto expediente informe minedu vm...</td>\n",
       "      <td>lima agosto vistos expediente informes minedu ...</td>\n",
       "      <td>aprueban documento normativo denominado orient...</td>\n",
       "      <td>_START_ aprueban documento normativo denominad...</td>\n",
       "    </tr>\n",
       "    <tr>\n",
       "      <th>2494</th>\n",
       "      <td>MUNICIPALIDAD PROVINCIAL DEL CALLAO</td>\n",
       "      <td>DECRETO DE ALCALDIA  N° 03-2021-DA/MPC</td>\n",
       "      <td>25/06/2021</td>\n",
       "      <td>Prorrogan plazo para la inscripción de los rep...</td>\n",
       "      <td>Callao, 24 de junio del 2021 EL ALCALDE DE LA ...</td>\n",
       "      <td>callao junio alcalde municipalidad provincial ...</td>\n",
       "      <td>callao junio alcalde municipalidad provincial ...</td>\n",
       "      <td>prorrogan plazo inscripción representantes soc...</td>\n",
       "      <td>_START_ prorrogan plazo inscripción representa...</td>\n",
       "    </tr>\n",
       "    <tr>\n",
       "      <th>3505</th>\n",
       "      <td>MUNICIPALIDAD DISTRITAL DE PAPAYAL</td>\n",
       "      <td>ORDENANZA  N° 006-2020-MDP</td>\n",
       "      <td>04/06/2021</td>\n",
       "      <td>Ordenanza que aprueba el Cuadro para Asignació...</td>\n",
       "      <td>Papayal, 29 de diciembre del 2020 EL ALCALDE D...</td>\n",
       "      <td>papayal diciembre alcalde municipalidad distri...</td>\n",
       "      <td>papayal diciembre alcalde municipalidad distri...</td>\n",
       "      <td>ordenanza aprueba cuadro asignación personal p...</td>\n",
       "      <td>_START_ ordenanza aprueba cuadro asignación pe...</td>\n",
       "    </tr>\n",
       "    <tr>\n",
       "      <th>2407</th>\n",
       "      <td>JUSTICIA Y DERECHOS HUMANOS</td>\n",
       "      <td>RESOLUCION VICE MINISTERIAL  N° 003-2021-JUS-VMJ.</td>\n",
       "      <td>26/06/2021</td>\n",
       "      <td>Aprueban el Lineamiento para la atención de so...</td>\n",
       "      <td>Lima, 24 de junio de 2021 VISTOS, el Memorando...</td>\n",
       "      <td>lima junio visto memorando dgdncr informe dgdn...</td>\n",
       "      <td>lima junio vistos memorando dgdncr informes dg...</td>\n",
       "      <td>aprueban lineamiento atención solicitudes dict...</td>\n",
       "      <td>_START_ aprueban lineamiento atención solicitu...</td>\n",
       "    </tr>\n",
       "  </tbody>\n",
       "</table>\n",
       "</div>"
      ],
      "text/plain": [
       "                                      category  \\\n",
       "628   MUNICIPALIDAD DE VILLA MARIA DEL TRIUNFO   \n",
       "266                                  EDUCACION   \n",
       "2494       MUNICIPALIDAD PROVINCIAL DEL CALLAO   \n",
       "3505        MUNICIPALIDAD DISTRITAL DE PAPAYAL   \n",
       "2407               JUSTICIA Y DERECHOS HUMANOS   \n",
       "\n",
       "                                                  title        date  \\\n",
       "628               DECRETO DE ALCALDIA  N° 008-2021-MVMT  30/07/2021   \n",
       "266     RESOLUCION VICE MINISTERIAL  N° 248-2021-MINEDU  11/08/2021   \n",
       "2494             DECRETO DE ALCALDIA  N° 03-2021-DA/MPC  25/06/2021   \n",
       "3505                         ORDENANZA  N° 006-2020-MDP  04/06/2021   \n",
       "2407  RESOLUCION VICE MINISTERIAL  N° 003-2021-JUS-VMJ.  26/06/2021   \n",
       "\n",
       "                                               abstract  \\\n",
       "628   Prorrogan vigencia de la Ordenanza N° 315-MVMT...   \n",
       "266   Aprueban el documento normativo denominado Ori...   \n",
       "2494  Prorrogan plazo para la inscripción de los rep...   \n",
       "3505  Ordenanza que aprueba el Cuadro para Asignació...   \n",
       "2407  Aprueban el Lineamiento para la atención de so...   \n",
       "\n",
       "                                                content  \\\n",
       "628   Villa María del Triunfo, 20 de julio de 2021 E...   \n",
       "266   Lima, 10 de agosto de 2021 VISTOS, el Expedien...   \n",
       "2494  Callao, 24 de junio del 2021 EL ALCALDE DE LA ...   \n",
       "3505  Papayal, 29 de diciembre del 2020 EL ALCALDE D...   \n",
       "2407  Lima, 24 de junio de 2021 VISTOS, el Memorando...   \n",
       "\n",
       "                                      content_for_topic  \\\n",
       "628   villo maría triunfo julio alcalde villo maría ...   \n",
       "266   lima agosto visto expediente informe minedu vm...   \n",
       "2494  callao junio alcalde municipalidad provincial ...   \n",
       "3505  papayal diciembre alcalde municipalidad distri...   \n",
       "2407  lima junio visto memorando dgdncr informe dgdn...   \n",
       "\n",
       "                                    content_for_summary  \\\n",
       "628   villa maría triunfo julio alcalde villa maría ...   \n",
       "266   lima agosto vistos expediente informes minedu ...   \n",
       "2494  callao junio alcalde municipalidad provincial ...   \n",
       "3505  papayal diciembre alcalde municipalidad distri...   \n",
       "2407  lima junio vistos memorando dgdncr informes dg...   \n",
       "\n",
       "                                   abstract_for_summary  \\\n",
       "628   prorrogan vigencia ordenanza mvmt establece be...   \n",
       "266   aprueban documento normativo denominado orient...   \n",
       "2494  prorrogan plazo inscripción representantes soc...   \n",
       "3505  ordenanza aprueba cuadro asignación personal p...   \n",
       "2407  aprueban lineamiento atención solicitudes dict...   \n",
       "\n",
       "                                   abstract_for_decoder  \n",
       "628   _START_ prorrogan vigencia ordenanza mvmt esta...  \n",
       "266   _START_ aprueban documento normativo denominad...  \n",
       "2494  _START_ prorrogan plazo inscripción representa...  \n",
       "3505  _START_ ordenanza aprueba cuadro asignación pe...  \n",
       "2407  _START_ aprueban lineamiento atención solicitu...  "
      ]
     },
     "execution_count": 6,
     "metadata": {},
     "output_type": "execute_result"
    }
   ],
   "source": [
    "%%time\n",
    "# Función para marcar el texto que servira al Decoder del modelo Seq2Seq\n",
    "dataset_base[\"abstract_for_decoder\"] = dataset_base.abstract_for_summary.apply(lambda t: \"_START_ \" + t + \" _END_\")\n",
    "dataset_base.sample(5)"
   ]
  },
  {
   "cell_type": "code",
   "execution_count": 7,
   "metadata": {},
   "outputs": [
    {
     "data": {
      "image/png": "[encoded data removed]",
      "text/plain": [
       "<Figure size 432x288 with 2 Axes>"
      ]
     },
     "metadata": {},
     "output_type": "display_data"
    }
   ],
   "source": [
    "text_count = []\n",
    "summary_count = []\n",
    "\n",
    "\n",
    "for sent in dataset_base.content_for_summary:\n",
    "    text_count.append(len(sent.split()))\n",
    "for sent in dataset_base.abstract_for_decoder:\n",
    "    summary_count.append(len(sent.split()))\n",
    "\n",
    "graph_df= pd.DataFrame()\n",
    "graph_df['text']=text_count\n",
    "graph_df['summary']=summary_count\n",
    "\n",
    "graph_df.hist(bins = 5)\n",
    "plt.show()"
   ]
  },
  {
   "cell_type": "code",
   "execution_count": 8,
   "metadata": {},
   "outputs": [
    {
     "name": "stdout",
     "output_type": "stream",
     "text": [
      "==================================================\n",
      "% content de palabras entre 1 y 5000: 0.9930191972076788\n",
      "% abstract de palabras entre 1 y 50: 0.9992520568436799\n",
      "==================================================\n",
      "CPU times: user 444 ms, sys: 4.3 ms, total: 448 ms\n",
      "Wall time: 445 ms\n"
     ]
    }
   ],
   "source": [
    "%%time\n",
    "# El modelo realizará resumen entre 1-50 palabras para contenidos/textos\n",
    "# entre 1 y 5000 palabras.\n",
    "max_content_len=5000\n",
    "max_summary_len=50\n",
    "\n",
    "print(\"=\"*50)\n",
    "# Verificar el porcentaje de palabras en el content entre 1 y max_content_len\n",
    "\n",
    "print(\"% content de palabras entre 1 y \" + str(max_content_len) + \":\",\n",
    "dataset_base[\n",
    "    dataset_base.apply(lambda v: \n",
    "                       len(v.content_for_summary.split()) > 0 and\n",
    "                       len(v.content_for_summary.split()) <= max_content_len, axis=1)\n",
    "].shape[0]/len(dataset_base.content_for_summary)\n",
    ")\n",
    "\n",
    "# Verificar el porcentaje de palabras en el abstract entre 1 y max_summary_len\n",
    "\n",
    "print(\"% abstract de palabras entre 1 y \" + str(max_summary_len) + \":\",\n",
    "dataset_base[\n",
    "    dataset_base.apply(lambda v: \n",
    "                       len(v.abstract_for_decoder.split()) > 0 and\n",
    "                       len(v.abstract_for_decoder.split()) <= max_summary_len, axis=1)\n",
    "].shape[0]/len(dataset_base.abstract_for_decoder)\n",
    ")\n",
    "print(\"=\"*50)"
   ]
  },
  {
   "cell_type": "code",
   "execution_count": 9,
   "metadata": {},
   "outputs": [
    {
     "name": "stdout",
     "output_type": "stream",
     "text": [
      "CPU times: user 447 ms, sys: 0 ns, total: 447 ms\n",
      "Wall time: 446 ms\n"
     ]
    },
    {
     "data": {
      "text/html": [
       "<div>\n",
       "<style scoped>\n",
       "    .dataframe tbody tr th:only-of-type {\n",
       "        vertical-align: middle;\n",
       "    }\n",
       "\n",
       "    .dataframe tbody tr th {\n",
       "        vertical-align: top;\n",
       "    }\n",
       "\n",
       "    .dataframe thead th {\n",
       "        text-align: right;\n",
       "    }\n",
       "</style>\n",
       "<table border=\"1\" class=\"dataframe\">\n",
       "  <thead>\n",
       "    <tr style=\"text-align: right;\">\n",
       "      <th></th>\n",
       "      <th>content</th>\n",
       "      <th>summary</th>\n",
       "    </tr>\n",
       "  </thead>\n",
       "  <tbody>\n",
       "    <tr>\n",
       "      <th>1589</th>\n",
       "      <td>lima julio vistos expediente informes minedu v...</td>\n",
       "      <td>_START_ aprueban documento normativo denominad...</td>\n",
       "    </tr>\n",
       "    <tr>\n",
       "      <th>3067</th>\n",
       "      <td>lima junio vistos informe mimp optp oficina pr...</td>\n",
       "      <td>_START_ designan director general oficina gene...</td>\n",
       "    </tr>\n",
       "    <tr>\n",
       "      <th>3618</th>\n",
       "      <td>expediente ignacio cajamarca vacancia convocat...</td>\n",
       "      <td>_START_ convocan ciudadano asuma cargo regidor...</td>\n",
       "    </tr>\n",
       "    <tr>\n",
       "      <th>1715</th>\n",
       "      <td>lima julio vistos informe minam vmga dgca dcae...</td>\n",
       "      <td>_START_ disponen publicación proyecto guía eva...</td>\n",
       "    </tr>\n",
       "    <tr>\n",
       "      <th>852</th>\n",
       "      <td>lima julio vistos recurso apelación interpuest...</td>\n",
       "      <td>_START_ declaran infundado recurso apelación i...</td>\n",
       "    </tr>\n",
       "  </tbody>\n",
       "</table>\n",
       "</div>"
      ],
      "text/plain": [
       "                                                content  \\\n",
       "1589  lima julio vistos expediente informes minedu v...   \n",
       "3067  lima junio vistos informe mimp optp oficina pr...   \n",
       "3618  expediente ignacio cajamarca vacancia convocat...   \n",
       "1715  lima julio vistos informe minam vmga dgca dcae...   \n",
       "852   lima julio vistos recurso apelación interpuest...   \n",
       "\n",
       "                                                summary  \n",
       "1589  _START_ aprueban documento normativo denominad...  \n",
       "3067  _START_ designan director general oficina gene...  \n",
       "3618  _START_ convocan ciudadano asuma cargo regidor...  \n",
       "1715  _START_ disponen publicación proyecto guía eva...  \n",
       "852   _START_ declaran infundado recurso apelación i...  "
      ]
     },
     "execution_count": 9,
     "metadata": {},
     "output_type": "execute_result"
    }
   ],
   "source": [
    "%%time\n",
    "dataset_pre = \\\n",
    "dataset_base[\n",
    "    dataset_base.apply(lambda v: \n",
    "                       len(v.content_for_summary.split()) > 0 and\n",
    "                       len(v.content_for_summary.split()) <= max_content_len and\n",
    "                       len(v.abstract_for_decoder.split()) > 0 and\n",
    "                       len(v.abstract_for_decoder.split()) <= max_summary_len, axis=1)\n",
    "][[\"content_for_summary\",\"abstract_for_decoder\"]]\n",
    "\n",
    "dataset_pre.rename(columns={\"content_for_summary\":\"content\",\"abstract_for_decoder\":\"summary\"}, inplace=True)\n",
    "dataset_pre.sample(5)"
   ]
  },
  {
   "cell_type": "code",
   "execution_count": 10,
   "metadata": {},
   "outputs": [
    {
     "name": "stdout",
     "output_type": "stream",
     "text": [
      "CPU times: user 1.91 ms, sys: 526 µs, total: 2.43 ms\n",
      "Wall time: 2.18 ms\n"
     ]
    },
    {
     "data": {
      "text/html": [
       "<div>\n",
       "<style scoped>\n",
       "    .dataframe tbody tr th:only-of-type {\n",
       "        vertical-align: middle;\n",
       "    }\n",
       "\n",
       "    .dataframe tbody tr th {\n",
       "        vertical-align: top;\n",
       "    }\n",
       "\n",
       "    .dataframe thead th {\n",
       "        text-align: right;\n",
       "    }\n",
       "</style>\n",
       "<table border=\"1\" class=\"dataframe\">\n",
       "  <thead>\n",
       "    <tr style=\"text-align: right;\">\n",
       "      <th></th>\n",
       "      <th>content</th>\n",
       "      <th>summary</th>\n",
       "    </tr>\n",
       "  </thead>\n",
       "  <tbody>\n",
       "    <tr>\n",
       "      <th>3532</th>\n",
       "      <td>constitución política perú consagra derecho vo...</td>\n",
       "      <td>sostok _START_ decreto supremo otorga facilida...</td>\n",
       "    </tr>\n",
       "    <tr>\n",
       "      <th>3726</th>\n",
       "      <td>lima mayo vistos expedientes contienen informe...</td>\n",
       "      <td>sostok _START_ oficializan examen nacional nut...</td>\n",
       "    </tr>\n",
       "  </tbody>\n",
       "</table>\n",
       "</div>"
      ],
      "text/plain": [
       "                                                content  \\\n",
       "3532  constitución política perú consagra derecho vo...   \n",
       "3726  lima mayo vistos expedientes contienen informe...   \n",
       "\n",
       "                                                summary  \n",
       "3532  sostok _START_ decreto supremo otorga facilida...  \n",
       "3726  sostok _START_ oficializan examen nacional nut...  "
      ]
     },
     "execution_count": 10,
     "metadata": {},
     "output_type": "execute_result"
    }
   ],
   "source": [
    "%%time\n",
    "#Add sostok and eostok at \n",
    "dataset_pre.summary = dataset_pre.summary.apply(lambda v : \"sostok \" + v + \" eostok\")\n",
    "dataset_pre.sample(2)"
   ]
  },
  {
   "cell_type": "code",
   "execution_count": 11,
   "metadata": {},
   "outputs": [
    {
     "name": "stdout",
     "output_type": "stream",
     "text": [
      "CPU times: user 5.78 ms, sys: 352 µs, total: 6.13 ms\n",
      "Wall time: 4.94 ms\n"
     ]
    },
    {
     "data": {
      "text/plain": [
       "((3582,), (398,))"
      ]
     },
     "execution_count": 11,
     "metadata": {},
     "output_type": "execute_result"
    }
   ],
   "source": [
    "%%time\n",
    "x_tr_i, x_val_i, y_tr_i, y_val_i = train_test_split(dataset_pre.content, dataset_pre.summary, test_size=0.1, random_state=0, shuffle=True)\n",
    "x_tr_i.shape, x_val_i.shape"
   ]
  },
  {
   "cell_type": "code",
   "execution_count": 12,
   "metadata": {},
   "outputs": [],
   "source": [
    "#from keras import backend as K\n",
    "#from tensorflow.keras import backend as K"
   ]
  },
  {
   "cell_type": "markdown",
   "metadata": {},
   "source": [
    "\n",
    "\n",
    "RARE WORD ANALYSIS FOR Y i.e 'summary'\n",
    "\n",
    "    tot_cnt gives the size of vocabulary (which means every unique words in the text)\n",
    "\n",
    "    cnt gives me the no. of rare words whose count falls below threshold\n",
    "\n",
    "    tot_cnt - cnt gives me the top most common words\n",
    "\n"
   ]
  },
  {
   "cell_type": "code",
   "execution_count": 13,
   "metadata": {},
   "outputs": [
    {
     "name": "stdout",
     "output_type": "stream",
     "text": [
      "% of rare words in vocabulary: 41.938566915337034\n",
      "Total Coverage of rare words: 0.8440977418155561\n",
      "Size of vocabulary in X = 21871\n",
      "CPU times: user 7.51 s, sys: 14.5 ms, total: 7.52 s\n",
      "Wall time: 7.52 s\n"
     ]
    },
    {
     "data": {
      "text/plain": [
       "37667"
      ]
     },
     "execution_count": 13,
     "metadata": {},
     "output_type": "execute_result"
    }
   ],
   "source": [
    "%%time\n",
    "#prepare a tokenizer for reviews on training data\n",
    "x_tokenizer = Tokenizer() \n",
    "x_tokenizer.fit_on_texts(x_tr_i)\n",
    "\n",
    "thresh=3\n",
    "\n",
    "cnt=0\n",
    "tot_cnt=0\n",
    "freq=0\n",
    "tot_freq=0\n",
    "\n",
    "for key,value in x_tokenizer.word_counts.items():\n",
    "    tot_cnt=tot_cnt+1\n",
    "    tot_freq=tot_freq+value\n",
    "    if(value<thresh):\n",
    "        cnt=cnt+1\n",
    "        freq=freq+value\n",
    "    \n",
    "print(\"% of rare words in vocabulary:\",(cnt/tot_cnt)*100)\n",
    "print(\"Total Coverage of rare words:\",(freq/tot_freq)*100)\n",
    "tot_cnt,cnt, tot_cnt-cnt, len(x_tokenizer.word_counts)\n",
    "\n",
    "#prepare a tokenizer for reviews on training data\n",
    "x_tokenizer = Tokenizer(num_words=tot_cnt-cnt) \n",
    "x_tokenizer.fit_on_texts(x_tr_i)\n",
    "\n",
    "#convert text sequences into integer sequences (i.e one-hot encodeing all the words)\n",
    "x_tr_seq    =   x_tokenizer.texts_to_sequences(x_tr_i) \n",
    "x_val_seq   =   x_tokenizer.texts_to_sequences(x_val_i)\n",
    "\n",
    "#padding zero upto maximum length\n",
    "x_tr    =   pad_sequences(x_tr_seq,  maxlen=max_content_len, padding='post')\n",
    "x_val   =   pad_sequences(x_val_seq, maxlen=max_content_len, padding='post')\n",
    "\n",
    "#size of vocabulary ( +1 for padding token)\n",
    "x_voc   =  x_tokenizer.num_words + 1\n",
    "\n",
    "print(\"Size of vocabulary in X = {}\".format(x_voc))\n",
    "len(x_tokenizer.word_counts)"
   ]
  },
  {
   "cell_type": "code",
   "execution_count": 14,
   "metadata": {},
   "outputs": [
    {
     "name": "stdout",
     "output_type": "stream",
     "text": [
      "% of rare words in vocabulary: 59.243986254295535\n",
      "Total Coverage of rare words: 7.164159538557337\n",
      "Size of vocabulary in Y = 2373\n",
      "CPU times: user 269 ms, sys: 0 ns, total: 269 ms\n",
      "Wall time: 268 ms\n"
     ]
    }
   ],
   "source": [
    "%%time\n",
    "#prepare a tokenizer for reviews on training data\n",
    "y_tokenizer = Tokenizer()   \n",
    "y_tokenizer.fit_on_texts(y_tr_i)\n",
    "\n",
    "\n",
    "\n",
    "thresh=3\n",
    "\n",
    "cnt=0\n",
    "tot_cnt=0\n",
    "freq=0\n",
    "tot_freq=0\n",
    "\n",
    "for key,value in y_tokenizer.word_counts.items():\n",
    "    tot_cnt=tot_cnt+1\n",
    "    tot_freq=tot_freq+value\n",
    "    if(value<thresh):\n",
    "        cnt=cnt+1\n",
    "        freq=freq+value\n",
    "    \n",
    "print(\"% of rare words in vocabulary:\",(cnt/tot_cnt)*100)\n",
    "print(\"Total Coverage of rare words:\",(freq/tot_freq)*100)\n",
    "\n",
    "\n",
    "#prepare a tokenizer for reviews on training data\n",
    "y_tokenizer = Tokenizer(num_words=tot_cnt-cnt) \n",
    "y_tokenizer.fit_on_texts(y_tr_i)\n",
    "\n",
    "#convert text sequences into integer sequences (i.e one hot encode the text in Y)\n",
    "y_tr_seq    =   y_tokenizer.texts_to_sequences(y_tr_i) \n",
    "y_val_seq   =   y_tokenizer.texts_to_sequences(y_val_i) \n",
    "\n",
    "#padding zero upto maximum length\n",
    "y_tr    =   pad_sequences(y_tr_seq, maxlen=max_summary_len, padding='post')\n",
    "y_val   =   pad_sequences(y_val_seq, maxlen=max_summary_len, padding='post')\n",
    "\n",
    "#size of vocabulary\n",
    "y_voc  =   y_tokenizer.num_words +1\n",
    "print(\"Size of vocabulary in Y = {}\".format(y_voc))"
   ]
  },
  {
   "cell_type": "code",
   "execution_count": 15,
   "metadata": {},
   "outputs": [
    {
     "name": "stdout",
     "output_type": "stream",
     "text": [
      "Size of vocabulary from the w2v model = 21871\n",
      "Model: \"model\"\n",
      "__________________________________________________________________________________________________\n",
      "Layer (type)                    Output Shape         Param #     Connected to                     \n",
      "==================================================================================================\n",
      "input_1 (InputLayer)            [(None, 5000)]       0                                            \n",
      "__________________________________________________________________________________________________\n",
      "embedding (Embedding)           (None, 5000, 200)    4374200     input_1[0][0]                    \n",
      "__________________________________________________________________________________________________\n",
      "lstm (LSTM)                     [(None, 5000, 300),  601200      embedding[0][0]                  \n",
      "__________________________________________________________________________________________________\n",
      "input_2 (InputLayer)            [(None, None)]       0                                            \n",
      "__________________________________________________________________________________________________\n",
      "lstm_1 (LSTM)                   [(None, 5000, 300),  721200      lstm[0][0]                       \n",
      "__________________________________________________________________________________________________\n",
      "embedding_1 (Embedding)         (None, None, 200)    474600      input_2[0][0]                    \n",
      "__________________________________________________________________________________________________\n",
      "lstm_2 (LSTM)                   [(None, 5000, 300),  721200      lstm_1[0][0]                     \n",
      "__________________________________________________________________________________________________\n",
      "lstm_3 (LSTM)                   [(None, None, 300),  601200      embedding_1[0][0]                \n",
      "                                                                 lstm_2[0][1]                     \n",
      "                                                                 lstm_2[0][2]                     \n",
      "__________________________________________________________________________________________________\n",
      "time_distributed (TimeDistribut (None, None, 2373)   714273      lstm_3[0][0]                     \n",
      "==================================================================================================\n",
      "Total params: 8,207,873\n",
      "Trainable params: 8,207,873\n",
      "Non-trainable params: 0\n",
      "__________________________________________________________________________________________________\n",
      "CPU times: user 958 ms, sys: 171 ms, total: 1.13 s\n",
      "Wall time: 1.05 s\n"
     ]
    }
   ],
   "source": [
    "%%time\n",
    "print(\"Size of vocabulary from the w2v model = {}\".format(x_voc))\n",
    "\n",
    "K.clear_session()\n",
    "\n",
    "\n",
    "latent_dim = 300\n",
    "embedding_dim=200\n",
    "\n",
    "# Encoder\n",
    "encoder_inputs = Input(shape=(max_content_len,))\n",
    "\n",
    "#embedding layer\n",
    "enc_emb =  Embedding(x_voc, embedding_dim,trainable=True)(encoder_inputs)\n",
    "\n",
    "#encoder lstm 1\n",
    "encoder_lstm1 = LSTM(latent_dim, return_sequences=True, return_state=True, dropout=0.4, recurrent_dropout=0)\n",
    "encoder_output1, state_h1, state_c1 = encoder_lstm1(enc_emb)\n",
    "\n",
    "#encoder lstm 2\n",
    "encoder_lstm2 = LSTM(latent_dim,return_sequences=True,return_state=True,dropout=0.4,recurrent_dropout=0)\n",
    "encoder_output2, state_h2, state_c2 = encoder_lstm2(encoder_output1)\n",
    "\n",
    "#encoder lstm 3\n",
    "encoder_lstm3=LSTM(latent_dim, return_state=True, return_sequences=True,dropout=0.4,recurrent_dropout=0)\n",
    "encoder_outputs, state_h, state_c= encoder_lstm3(encoder_output2)\n",
    "\n",
    "# Set up the decoder, using `encoder_states` as initial state.\n",
    "decoder_inputs = Input(shape=(None,))\n",
    "\n",
    "#embedding layer\n",
    "dec_emb_layer = Embedding(y_voc, embedding_dim,trainable=True)\n",
    "dec_emb = dec_emb_layer(decoder_inputs)\n",
    "\n",
    "decoder_lstm = LSTM(latent_dim, return_sequences=True, return_state=True,dropout=0.4,recurrent_dropout=0)\n",
    "decoder_outputs,decoder_fwd_state, decoder_back_state = decoder_lstm(dec_emb,initial_state=[state_h, state_c])\n",
    "\n",
    "#dense layer\n",
    "decoder_dense =  TimeDistributed(Dense(y_voc, activation='softmax'))\n",
    "decoder_outputs = decoder_dense(decoder_outputs)\n",
    "\n",
    "# Define the model \n",
    "model = Model([encoder_inputs, decoder_inputs], decoder_outputs)\n",
    "\n",
    "model.summary()"
   ]
  },
  {
   "cell_type": "code",
   "execution_count": 16,
   "metadata": {},
   "outputs": [],
   "source": [
    "model.compile(optimizer='rmsprop', loss='sparse_categorical_crossentropy')"
   ]
  },
  {
   "cell_type": "code",
   "execution_count": 17,
   "metadata": {},
   "outputs": [],
   "source": [
    "es = EarlyStopping(monitor='val_loss', mode='min', verbose=1,patience=2)"
   ]
  },
  {
   "cell_type": "code",
   "execution_count": 18,
   "metadata": {},
   "outputs": [
    {
     "data": {
      "text/plain": [
       "((398, 49, 1), (3582, 49, 1), 3582, 398)"
      ]
     },
     "execution_count": 18,
     "metadata": {},
     "output_type": "execute_result"
    }
   ],
   "source": [
    "y_val.reshape(y_val.shape[0], y_val.shape[1], 1)[:,1:].shape, y_tr.reshape(y_tr.shape[0],y_tr.shape[1], 1)[:,1:].shape, len([x_tr,y_tr[:,:-1]][1]), len([x_val,y_val[:,:-1]][1])"
   ]
  },
  {
   "cell_type": "code",
   "execution_count": 19,
   "metadata": {},
   "outputs": [
    {
     "name": "stdout",
     "output_type": "stream",
     "text": [
      "Epoch 1/50\n"
     ]
    },
    {
     "ename": "CancelledError",
     "evalue": " [_Derived_]RecvAsync is cancelled.\n\t [[{{node gradient_tape/model/embedding/embedding_lookup/Reshape/_36}}]] [Op:__inference_train_function_11176]\n\nFunction call stack:\ntrain_function\n",
     "output_type": "error",
     "traceback": [
      "\u001b[0;31m---------------------------------------------------------------------------\u001b[0m",
      "\u001b[0;31mCancelledError\u001b[0m                            Traceback (most recent call last)",
      "\u001b[0;32m<ipython-input-19-4f8d48e0aead>\u001b[0m in \u001b[0;36m<module>\u001b[0;34m\u001b[0m\n\u001b[0;32m----> 1\u001b[0;31m history=model.fit(\n\u001b[0m\u001b[1;32m      2\u001b[0m     \u001b[0;34m[\u001b[0m\u001b[0mx_tr\u001b[0m\u001b[0;34m,\u001b[0m\u001b[0my_tr\u001b[0m\u001b[0;34m[\u001b[0m\u001b[0;34m:\u001b[0m\u001b[0;34m,\u001b[0m\u001b[0;34m:\u001b[0m\u001b[0;34m-\u001b[0m\u001b[0;36m1\u001b[0m\u001b[0;34m]\u001b[0m\u001b[0;34m]\u001b[0m\u001b[0;34m,\u001b[0m\u001b[0;34m\u001b[0m\u001b[0;34m\u001b[0m\u001b[0m\n\u001b[1;32m      3\u001b[0m     \u001b[0my_tr\u001b[0m\u001b[0;34m.\u001b[0m\u001b[0mreshape\u001b[0m\u001b[0;34m(\u001b[0m\u001b[0my_tr\u001b[0m\u001b[0;34m.\u001b[0m\u001b[0mshape\u001b[0m\u001b[0;34m[\u001b[0m\u001b[0;36m0\u001b[0m\u001b[0;34m]\u001b[0m\u001b[0;34m,\u001b[0m\u001b[0my_tr\u001b[0m\u001b[0;34m.\u001b[0m\u001b[0mshape\u001b[0m\u001b[0;34m[\u001b[0m\u001b[0;36m1\u001b[0m\u001b[0;34m]\u001b[0m\u001b[0;34m,\u001b[0m \u001b[0;36m1\u001b[0m\u001b[0;34m)\u001b[0m\u001b[0;34m[\u001b[0m\u001b[0;34m:\u001b[0m\u001b[0;34m,\u001b[0m\u001b[0;36m1\u001b[0m\u001b[0;34m:\u001b[0m\u001b[0;34m]\u001b[0m\u001b[0;34m,\u001b[0m\u001b[0;34m\u001b[0m\u001b[0;34m\u001b[0m\u001b[0m\n\u001b[1;32m      4\u001b[0m     \u001b[0mepochs\u001b[0m\u001b[0;34m=\u001b[0m\u001b[0;36m50\u001b[0m\u001b[0;34m,\u001b[0m \u001b[0mcallbacks\u001b[0m\u001b[0;34m=\u001b[0m\u001b[0;34m[\u001b[0m\u001b[0mes\u001b[0m\u001b[0;34m]\u001b[0m\u001b[0;34m,\u001b[0m \u001b[0mbatch_size\u001b[0m\u001b[0;34m=\u001b[0m\u001b[0;36m128\u001b[0m\u001b[0;34m,\u001b[0m\u001b[0;34m\u001b[0m\u001b[0;34m\u001b[0m\u001b[0m\n\u001b[1;32m      5\u001b[0m     validation_data= ([x_val,y_val[:,:-1]], y_val.reshape(y_val.shape[0], y_val.shape[1], 1)[:,1:]))\n",
      "\u001b[0;32m/usr/local/lib/python3.9/site-packages/tensorflow/python/keras/engine/training.py\u001b[0m in \u001b[0;36mfit\u001b[0;34m(self, x, y, batch_size, epochs, verbose, callbacks, validation_split, validation_data, shuffle, class_weight, sample_weight, initial_epoch, steps_per_epoch, validation_steps, validation_batch_size, validation_freq, max_queue_size, workers, use_multiprocessing)\u001b[0m\n\u001b[1;32m   1181\u001b[0m                 _r=1):\n\u001b[1;32m   1182\u001b[0m               \u001b[0mcallbacks\u001b[0m\u001b[0;34m.\u001b[0m\u001b[0mon_train_batch_begin\u001b[0m\u001b[0;34m(\u001b[0m\u001b[0mstep\u001b[0m\u001b[0;34m)\u001b[0m\u001b[0;34m\u001b[0m\u001b[0;34m\u001b[0m\u001b[0m\n\u001b[0;32m-> 1183\u001b[0;31m               \u001b[0mtmp_logs\u001b[0m \u001b[0;34m=\u001b[0m \u001b[0mself\u001b[0m\u001b[0;34m.\u001b[0m\u001b[0mtrain_function\u001b[0m\u001b[0;34m(\u001b[0m\u001b[0miterator\u001b[0m\u001b[0;34m)\u001b[0m\u001b[0;34m\u001b[0m\u001b[0;34m\u001b[0m\u001b[0m\n\u001b[0m\u001b[1;32m   1184\u001b[0m               \u001b[0;32mif\u001b[0m \u001b[0mdata_handler\u001b[0m\u001b[0;34m.\u001b[0m\u001b[0mshould_sync\u001b[0m\u001b[0;34m:\u001b[0m\u001b[0;34m\u001b[0m\u001b[0;34m\u001b[0m\u001b[0m\n\u001b[1;32m   1185\u001b[0m                 \u001b[0mcontext\u001b[0m\u001b[0;34m.\u001b[0m\u001b[0masync_wait\u001b[0m\u001b[0;34m(\u001b[0m\u001b[0;34m)\u001b[0m\u001b[0;34m\u001b[0m\u001b[0;34m\u001b[0m\u001b[0m\n",
      "\u001b[0;32m/usr/local/lib/python3.9/site-packages/tensorflow/python/eager/def_function.py\u001b[0m in \u001b[0;36m__call__\u001b[0;34m(self, *args, **kwds)\u001b[0m\n\u001b[1;32m    887\u001b[0m \u001b[0;34m\u001b[0m\u001b[0m\n\u001b[1;32m    888\u001b[0m       \u001b[0;32mwith\u001b[0m \u001b[0mOptionalXlaContext\u001b[0m\u001b[0;34m(\u001b[0m\u001b[0mself\u001b[0m\u001b[0;34m.\u001b[0m\u001b[0m_jit_compile\u001b[0m\u001b[0;34m)\u001b[0m\u001b[0;34m:\u001b[0m\u001b[0;34m\u001b[0m\u001b[0;34m\u001b[0m\u001b[0m\n\u001b[0;32m--> 889\u001b[0;31m         \u001b[0mresult\u001b[0m \u001b[0;34m=\u001b[0m \u001b[0mself\u001b[0m\u001b[0;34m.\u001b[0m\u001b[0m_call\u001b[0m\u001b[0;34m(\u001b[0m\u001b[0;34m*\u001b[0m\u001b[0margs\u001b[0m\u001b[0;34m,\u001b[0m \u001b[0;34m**\u001b[0m\u001b[0mkwds\u001b[0m\u001b[0;34m)\u001b[0m\u001b[0;34m\u001b[0m\u001b[0;34m\u001b[0m\u001b[0m\n\u001b[0m\u001b[1;32m    890\u001b[0m \u001b[0;34m\u001b[0m\u001b[0m\n\u001b[1;32m    891\u001b[0m       \u001b[0mnew_tracing_count\u001b[0m \u001b[0;34m=\u001b[0m \u001b[0mself\u001b[0m\u001b[0;34m.\u001b[0m\u001b[0mexperimental_get_tracing_count\u001b[0m\u001b[0;34m(\u001b[0m\u001b[0;34m)\u001b[0m\u001b[0;34m\u001b[0m\u001b[0;34m\u001b[0m\u001b[0m\n",
      "\u001b[0;32m/usr/local/lib/python3.9/site-packages/tensorflow/python/eager/def_function.py\u001b[0m in \u001b[0;36m_call\u001b[0;34m(self, *args, **kwds)\u001b[0m\n\u001b[1;32m    948\u001b[0m         \u001b[0;31m# Lifting succeeded, so variables are initialized and we can run the\u001b[0m\u001b[0;34m\u001b[0m\u001b[0;34m\u001b[0m\u001b[0;34m\u001b[0m\u001b[0m\n\u001b[1;32m    949\u001b[0m         \u001b[0;31m# stateless function.\u001b[0m\u001b[0;34m\u001b[0m\u001b[0;34m\u001b[0m\u001b[0;34m\u001b[0m\u001b[0m\n\u001b[0;32m--> 950\u001b[0;31m         \u001b[0;32mreturn\u001b[0m \u001b[0mself\u001b[0m\u001b[0;34m.\u001b[0m\u001b[0m_stateless_fn\u001b[0m\u001b[0;34m(\u001b[0m\u001b[0;34m*\u001b[0m\u001b[0margs\u001b[0m\u001b[0;34m,\u001b[0m \u001b[0;34m**\u001b[0m\u001b[0mkwds\u001b[0m\u001b[0;34m)\u001b[0m\u001b[0;34m\u001b[0m\u001b[0;34m\u001b[0m\u001b[0m\n\u001b[0m\u001b[1;32m    951\u001b[0m     \u001b[0;32melse\u001b[0m\u001b[0;34m:\u001b[0m\u001b[0;34m\u001b[0m\u001b[0;34m\u001b[0m\u001b[0m\n\u001b[1;32m    952\u001b[0m       \u001b[0m_\u001b[0m\u001b[0;34m,\u001b[0m \u001b[0m_\u001b[0m\u001b[0;34m,\u001b[0m \u001b[0m_\u001b[0m\u001b[0;34m,\u001b[0m \u001b[0mfiltered_flat_args\u001b[0m \u001b[0;34m=\u001b[0m\u001b[0;31m \u001b[0m\u001b[0;31m\\\u001b[0m\u001b[0;34m\u001b[0m\u001b[0;34m\u001b[0m\u001b[0m\n",
      "\u001b[0;32m/usr/local/lib/python3.9/site-packages/tensorflow/python/eager/function.py\u001b[0m in \u001b[0;36m__call__\u001b[0;34m(self, *args, **kwargs)\u001b[0m\n\u001b[1;32m   3021\u001b[0m       (graph_function,\n\u001b[1;32m   3022\u001b[0m        filtered_flat_args) = self._maybe_define_function(args, kwargs)\n\u001b[0;32m-> 3023\u001b[0;31m     return graph_function._call_flat(\n\u001b[0m\u001b[1;32m   3024\u001b[0m         filtered_flat_args, captured_inputs=graph_function.captured_inputs)  # pylint: disable=protected-access\n\u001b[1;32m   3025\u001b[0m \u001b[0;34m\u001b[0m\u001b[0m\n",
      "\u001b[0;32m/usr/local/lib/python3.9/site-packages/tensorflow/python/eager/function.py\u001b[0m in \u001b[0;36m_call_flat\u001b[0;34m(self, args, captured_inputs, cancellation_manager)\u001b[0m\n\u001b[1;32m   1958\u001b[0m         and executing_eagerly):\n\u001b[1;32m   1959\u001b[0m       \u001b[0;31m# No tape is watching; skip to running the function.\u001b[0m\u001b[0;34m\u001b[0m\u001b[0;34m\u001b[0m\u001b[0;34m\u001b[0m\u001b[0m\n\u001b[0;32m-> 1960\u001b[0;31m       return self._build_call_outputs(self._inference_function.call(\n\u001b[0m\u001b[1;32m   1961\u001b[0m           ctx, args, cancellation_manager=cancellation_manager))\n\u001b[1;32m   1962\u001b[0m     forward_backward = self._select_forward_and_backward_functions(\n",
      "\u001b[0;32m/usr/local/lib/python3.9/site-packages/tensorflow/python/eager/function.py\u001b[0m in \u001b[0;36mcall\u001b[0;34m(self, ctx, args, cancellation_manager)\u001b[0m\n\u001b[1;32m    589\u001b[0m       \u001b[0;32mwith\u001b[0m \u001b[0m_InterpolateFunctionError\u001b[0m\u001b[0;34m(\u001b[0m\u001b[0mself\u001b[0m\u001b[0;34m)\u001b[0m\u001b[0;34m:\u001b[0m\u001b[0;34m\u001b[0m\u001b[0;34m\u001b[0m\u001b[0m\n\u001b[1;32m    590\u001b[0m         \u001b[0;32mif\u001b[0m \u001b[0mcancellation_manager\u001b[0m \u001b[0;32mis\u001b[0m \u001b[0;32mNone\u001b[0m\u001b[0;34m:\u001b[0m\u001b[0;34m\u001b[0m\u001b[0;34m\u001b[0m\u001b[0m\n\u001b[0;32m--> 591\u001b[0;31m           outputs = execute.execute(\n\u001b[0m\u001b[1;32m    592\u001b[0m               \u001b[0mstr\u001b[0m\u001b[0;34m(\u001b[0m\u001b[0mself\u001b[0m\u001b[0;34m.\u001b[0m\u001b[0msignature\u001b[0m\u001b[0;34m.\u001b[0m\u001b[0mname\u001b[0m\u001b[0;34m)\u001b[0m\u001b[0;34m,\u001b[0m\u001b[0;34m\u001b[0m\u001b[0;34m\u001b[0m\u001b[0m\n\u001b[1;32m    593\u001b[0m               \u001b[0mnum_outputs\u001b[0m\u001b[0;34m=\u001b[0m\u001b[0mself\u001b[0m\u001b[0;34m.\u001b[0m\u001b[0m_num_outputs\u001b[0m\u001b[0;34m,\u001b[0m\u001b[0;34m\u001b[0m\u001b[0;34m\u001b[0m\u001b[0m\n",
      "\u001b[0;32m/usr/local/lib/python3.9/site-packages/tensorflow/python/eager/execute.py\u001b[0m in \u001b[0;36mquick_execute\u001b[0;34m(op_name, num_outputs, inputs, attrs, ctx, name)\u001b[0m\n\u001b[1;32m     57\u001b[0m   \u001b[0;32mtry\u001b[0m\u001b[0;34m:\u001b[0m\u001b[0;34m\u001b[0m\u001b[0;34m\u001b[0m\u001b[0m\n\u001b[1;32m     58\u001b[0m     \u001b[0mctx\u001b[0m\u001b[0;34m.\u001b[0m\u001b[0mensure_initialized\u001b[0m\u001b[0;34m(\u001b[0m\u001b[0;34m)\u001b[0m\u001b[0;34m\u001b[0m\u001b[0;34m\u001b[0m\u001b[0m\n\u001b[0;32m---> 59\u001b[0;31m     tensors = pywrap_tfe.TFE_Py_Execute(ctx._handle, device_name, op_name,\n\u001b[0m\u001b[1;32m     60\u001b[0m                                         inputs, attrs, num_outputs)\n\u001b[1;32m     61\u001b[0m   \u001b[0;32mexcept\u001b[0m \u001b[0mcore\u001b[0m\u001b[0;34m.\u001b[0m\u001b[0m_NotOkStatusException\u001b[0m \u001b[0;32mas\u001b[0m \u001b[0me\u001b[0m\u001b[0;34m:\u001b[0m\u001b[0;34m\u001b[0m\u001b[0;34m\u001b[0m\u001b[0m\n",
      "\u001b[0;31mCancelledError\u001b[0m:  [_Derived_]RecvAsync is cancelled.\n\t [[{{node gradient_tape/model/embedding/embedding_lookup/Reshape/_36}}]] [Op:__inference_train_function_11176]\n\nFunction call stack:\ntrain_function\n"
     ]
    }
   ],
   "source": [
    "history=model.fit(\n",
    "    [x_tr,y_tr[:,:-1]], \n",
    "    y_tr.reshape(y_tr.shape[0],y_tr.shape[1], 1)[:,1:], \n",
    "    epochs=50, callbacks=[es], batch_size=128, \n",
    "    validation_data= ([x_val,y_val[:,:-1]], y_val.reshape(y_val.shape[0], y_val.shape[1], 1)[:,1:]))"
   ]
  },
  {
   "cell_type": "code",
   "execution_count": null,
   "metadata": {},
   "outputs": [],
   "source": []
  }
 ],
 "metadata": {
  "kernelspec": {
   "display_name": "Python 3",
   "language": "python",
   "name": "python3"
  },
  "language_info": {
   "codemirror_mode": {
    "name": "ipython",
    "version": 3
   },
   "file_extension": ".py",
   "mimetype": "text/x-python",
   "name": "python",
   "nbconvert_exporter": "python",
   "pygments_lexer": "ipython3",
   "version": "3.9.0"
  }
 },
 "nbformat": 4,
 "nbformat_minor": 4
}
