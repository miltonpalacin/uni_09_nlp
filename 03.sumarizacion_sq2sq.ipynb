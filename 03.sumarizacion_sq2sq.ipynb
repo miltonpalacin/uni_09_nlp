{
 "cells": [
  {
   "cell_type": "markdown",
   "metadata": {},
   "source": [
    "# Curso: MCC639E\n",
    "\n",
    "#### Integrantes\n",
    "\n",
    "- Carlos Tello Tapia\n",
    "- Lennin Quiso Córdova\n",
    "- Milton Palacin Grijalva\n",
    "___\n",
    "\n",
    "# PARTE PARTE: TEXT SUMMARIZATION"
   ]
  },
  {
   "cell_type": "markdown",
   "metadata": {},
   "source": [
    "## I. Declaración de librerías"
   ]
  },
  {
   "cell_type": "code",
   "execution_count": 1,
   "metadata": {},
   "outputs": [],
   "source": [
    "# Tratamiento de datos\n",
    "# ==============================================================================\n",
    "import matplotlib.pyplot as plt\n",
    "import pandas as pd\n",
    "import numpy as np\n",
    "from sklearn.model_selection import train_test_split\n",
    "\n",
    "# Tratamiento de texto\n",
    "# ==============================================================================\n",
    "\n",
    "from tensorflow.keras.models import Model\n",
    "from tensorflow.keras.callbacks import EarlyStopping\n",
    "from keras.preprocessing.text import Tokenizer \n",
    "from keras.preprocessing.sequence import pad_sequences\n",
    "from tensorflow.keras.layers import Input, LSTM, Embedding, Dense, Concatenate, TimeDistributed\n",
    "from tensorflow.keras import backend as K\n",
    "\n",
    "# Visualización Jupyter\n",
    "# ==============================================================================\n",
    "import warnings\n",
    "warnings.filterwarnings('ignore')\n",
    "\n",
    "# Configuración matplotlib\n",
    "# ==============================================================================\n",
    "# Para obtener el estilo de plot de seabonr\n",
    "plt.style.use('seaborn-whitegrid')\n",
    "plt.rcParams['image.cmap'] = \"bwr\"\n",
    "plt.rcParams['savefig.bbox'] = \"tight\""
   ]
  },
  {
   "cell_type": "markdown",
   "metadata": {},
   "source": [
    "## II. Cargar y explorar el dataset"
   ]
  },
  {
   "cell_type": "code",
   "execution_count": 2,
   "metadata": {},
   "outputs": [
    {
     "name": "stdout",
     "output_type": "stream",
     "text": [
      "CPU times: user 983 ms, sys: 88.2 ms, total: 1.07 s\n",
      "Wall time: 1.07 s\n"
     ]
    },
    {
     "data": {
      "text/html": [
       "<div>\n",
       "<style scoped>\n",
       "    .dataframe tbody tr th:only-of-type {\n",
       "        vertical-align: middle;\n",
       "    }\n",
       "\n",
       "    .dataframe tbody tr th {\n",
       "        vertical-align: top;\n",
       "    }\n",
       "\n",
       "    .dataframe thead th {\n",
       "        text-align: right;\n",
       "    }\n",
       "</style>\n",
       "<table border=\"1\" class=\"dataframe\">\n",
       "  <thead>\n",
       "    <tr style=\"text-align: right;\">\n",
       "      <th></th>\n",
       "      <th>category</th>\n",
       "      <th>title</th>\n",
       "      <th>date</th>\n",
       "      <th>abstract</th>\n",
       "      <th>content</th>\n",
       "      <th>content_for_summary</th>\n",
       "      <th>abstract_for_summary</th>\n",
       "      <th>content_for_topic</th>\n",
       "      <th>content_for_topic_lemma</th>\n",
       "    </tr>\n",
       "  </thead>\n",
       "  <tbody>\n",
       "    <tr>\n",
       "      <th>3770</th>\n",
       "      <td>TRANSPORTES Y COMUNICACIONES</td>\n",
       "      <td>RESOLUCION MINISTERIAL  N° 499-2021-MTC/01.02</td>\n",
       "      <td>29/05/2021</td>\n",
       "      <td>Aprueban ejecución de expropiación de área de ...</td>\n",
       "      <td>Lima, 27 de mayo de 2021 VISTO: El Memorándum ...</td>\n",
       "      <td>lima de mayo de visto el memorándum mtc de la ...</td>\n",
       "      <td>aprueban ejecución de expropiación de área de ...</td>\n",
       "      <td>lima mayo visto memorándum dirección ejecutiva...</td>\n",
       "      <td>lima mayo visto memorándum dirección ejecutivo...</td>\n",
       "    </tr>\n",
       "    <tr>\n",
       "      <th>3952</th>\n",
       "      <td>TRANSPORTES Y COMUNICACIONES</td>\n",
       "      <td>RESOLUCION MINISTERIAL  N° 477-2021-MTC/01.02</td>\n",
       "      <td>26/05/2021</td>\n",
       "      <td>Aprueban ejecución de expropiación de área de ...</td>\n",
       "      <td>Lima, 24 de mayo de 2021 VISTA: La Nota de Ele...</td>\n",
       "      <td>lima de mayo de vista la nota de elevación mtc...</td>\n",
       "      <td>aprueban ejecución de expropiación de área de ...</td>\n",
       "      <td>lima mayo vista nota elevación dirección ejecu...</td>\n",
       "      <td>lima mayo visto nota elevación dirección ejecu...</td>\n",
       "    </tr>\n",
       "    <tr>\n",
       "      <th>1733</th>\n",
       "      <td>MUNICIPALIDAD DE SAN BORJA</td>\n",
       "      <td>DECRETO DE ALCALDIA  N° 008-2021-MSB-A</td>\n",
       "      <td>12/07/2021</td>\n",
       "      <td>Disponen el embanderamiento general del distrito</td>\n",
       "      <td>San Borja, 7 de julio de 2021 EL ALCALDE DE LA...</td>\n",
       "      <td>san borja de julio de el alcalde de la municip...</td>\n",
       "      <td>disponen el embanderamiento general del distrito</td>\n",
       "      <td>borja julio alcalde municipalidad distrital bo...</td>\n",
       "      <td>borjo julio alcalde municipalidad distrital bo...</td>\n",
       "    </tr>\n",
       "    <tr>\n",
       "      <th>1325</th>\n",
       "      <td>BIBLIOTECA NACIONAL DEL PERU</td>\n",
       "      <td>RESOLUCION JEFATURAL  N° 000080-2021-BNP</td>\n",
       "      <td>21/07/2021</td>\n",
       "      <td>Crean la Red de Bibliotecas Públicas Municipal...</td>\n",
       "      <td>Lima, 20 de julio de 2021 VISTOS: El Informe N...</td>\n",
       "      <td>lima de julio de vistos el informe bnp ddpb de...</td>\n",
       "      <td>crean la red de bibliotecas públicas municipales</td>\n",
       "      <td>lima julio vistos informe ddpb fecha junio dir...</td>\n",
       "      <td>lima julio visto informe ddpb fecha junio dire...</td>\n",
       "    </tr>\n",
       "    <tr>\n",
       "      <th>3497</th>\n",
       "      <td>ORGANISMO SUPERVISOR DE INVERSION PRIVADA EN T...</td>\n",
       "      <td>RESOLUCION  N° 088 -2021-CD/OSIPTEL</td>\n",
       "      <td>04/06/2021</td>\n",
       "      <td>Declaran infundado recurso de apelación interp...</td>\n",
       "      <td>Lima, 1 de junio de 2021  VISTOS:  (i) El Recu...</td>\n",
       "      <td>lima de junio de vistos el recurso de apelació...</td>\n",
       "      <td>declaran infundado recurso de apelación interp...</td>\n",
       "      <td>lima junio vistos recurso apelación interpuest...</td>\n",
       "      <td>lima junio visto recurso apelación interpuesto...</td>\n",
       "    </tr>\n",
       "  </tbody>\n",
       "</table>\n",
       "</div>"
      ],
      "text/plain": [
       "                                               category  \\\n",
       "3770                       TRANSPORTES Y COMUNICACIONES   \n",
       "3952                       TRANSPORTES Y COMUNICACIONES   \n",
       "1733                         MUNICIPALIDAD DE SAN BORJA   \n",
       "1325                       BIBLIOTECA NACIONAL DEL PERU   \n",
       "3497  ORGANISMO SUPERVISOR DE INVERSION PRIVADA EN T...   \n",
       "\n",
       "                                              title        date  \\\n",
       "3770  RESOLUCION MINISTERIAL  N° 499-2021-MTC/01.02  29/05/2021   \n",
       "3952  RESOLUCION MINISTERIAL  N° 477-2021-MTC/01.02  26/05/2021   \n",
       "1733         DECRETO DE ALCALDIA  N° 008-2021-MSB-A  12/07/2021   \n",
       "1325       RESOLUCION JEFATURAL  N° 000080-2021-BNP  21/07/2021   \n",
       "3497            RESOLUCION  N° 088 -2021-CD/OSIPTEL  04/06/2021   \n",
       "\n",
       "                                               abstract  \\\n",
       "3770  Aprueban ejecución de expropiación de área de ...   \n",
       "3952  Aprueban ejecución de expropiación de área de ...   \n",
       "1733   Disponen el embanderamiento general del distrito   \n",
       "1325  Crean la Red de Bibliotecas Públicas Municipal...   \n",
       "3497  Declaran infundado recurso de apelación interp...   \n",
       "\n",
       "                                                content  \\\n",
       "3770  Lima, 27 de mayo de 2021 VISTO: El Memorándum ...   \n",
       "3952  Lima, 24 de mayo de 2021 VISTA: La Nota de Ele...   \n",
       "1733  San Borja, 7 de julio de 2021 EL ALCALDE DE LA...   \n",
       "1325  Lima, 20 de julio de 2021 VISTOS: El Informe N...   \n",
       "3497  Lima, 1 de junio de 2021  VISTOS:  (i) El Recu...   \n",
       "\n",
       "                                    content_for_summary  \\\n",
       "3770  lima de mayo de visto el memorándum mtc de la ...   \n",
       "3952  lima de mayo de vista la nota de elevación mtc...   \n",
       "1733  san borja de julio de el alcalde de la municip...   \n",
       "1325  lima de julio de vistos el informe bnp ddpb de...   \n",
       "3497  lima de junio de vistos el recurso de apelació...   \n",
       "\n",
       "                                   abstract_for_summary  \\\n",
       "3770  aprueban ejecución de expropiación de área de ...   \n",
       "3952  aprueban ejecución de expropiación de área de ...   \n",
       "1733   disponen el embanderamiento general del distrito   \n",
       "1325   crean la red de bibliotecas públicas municipales   \n",
       "3497  declaran infundado recurso de apelación interp...   \n",
       "\n",
       "                                      content_for_topic  \\\n",
       "3770  lima mayo visto memorándum dirección ejecutiva...   \n",
       "3952  lima mayo vista nota elevación dirección ejecu...   \n",
       "1733  borja julio alcalde municipalidad distrital bo...   \n",
       "1325  lima julio vistos informe ddpb fecha junio dir...   \n",
       "3497  lima junio vistos recurso apelación interpuest...   \n",
       "\n",
       "                                content_for_topic_lemma  \n",
       "3770  lima mayo visto memorándum dirección ejecutivo...  \n",
       "3952  lima mayo visto nota elevación dirección ejecu...  \n",
       "1733  borjo julio alcalde municipalidad distrital bo...  \n",
       "1325  lima julio visto informe ddpb fecha junio dire...  \n",
       "3497  lima junio visto recurso apelación interpuesto...  "
      ]
     },
     "execution_count": 2,
     "metadata": {},
     "output_type": "execute_result"
    }
   ],
   "source": [
    "%%time\n",
    "dataset_base = pd.read_csv(\"dataset_base.csv\", sep='\\t', encoding='utf-8')\n",
    "dataset_base.sample(5)"
   ]
  },
  {
   "cell_type": "markdown",
   "metadata": {},
   "source": [
    "___\n",
    "Utilizar las columnas: \n",
    "* **content_for_summary**\n",
    "* **abstract_for_summary**\n",
    "\n",
    "Estas columnas a diferencia de **content_for_topic** son textos pre-procesados sin stemmer o lemmatizer. Es necesario mantener la palabras originales para ayudar a la red a mejorar la exactitud en la generación del \"summary\" \n",
    "___"
   ]
  },
  {
   "cell_type": "code",
   "execution_count": 3,
   "metadata": {},
   "outputs": [
    {
     "name": "stdout",
     "output_type": "stream",
     "text": [
      "Total de normas legales en el dataset: 4037\n"
     ]
    }
   ],
   "source": [
    "print(\"Total de normas legales en el dataset:\", dataset_base.shape[0])"
   ]
  },
  {
   "cell_type": "markdown",
   "metadata": {},
   "source": [
    "___\n",
    "Agregar la palablas (tokens) especiales al inicio y fin del abstract\n",
    "___"
   ]
  },
  {
   "cell_type": "code",
   "execution_count": 4,
   "metadata": {},
   "outputs": [
    {
     "name": "stdout",
     "output_type": "stream",
     "text": [
      "CPU times: user 2.28 ms, sys: 0 ns, total: 2.28 ms\n",
      "Wall time: 2.05 ms\n"
     ]
    },
    {
     "data": {
      "text/html": [
       "<div>\n",
       "<style scoped>\n",
       "    .dataframe tbody tr th:only-of-type {\n",
       "        vertical-align: middle;\n",
       "    }\n",
       "\n",
       "    .dataframe tbody tr th {\n",
       "        vertical-align: top;\n",
       "    }\n",
       "\n",
       "    .dataframe thead th {\n",
       "        text-align: right;\n",
       "    }\n",
       "</style>\n",
       "<table border=\"1\" class=\"dataframe\">\n",
       "  <thead>\n",
       "    <tr style=\"text-align: right;\">\n",
       "      <th></th>\n",
       "      <th>category</th>\n",
       "      <th>title</th>\n",
       "      <th>date</th>\n",
       "      <th>abstract</th>\n",
       "      <th>content</th>\n",
       "      <th>content_for_summary</th>\n",
       "      <th>abstract_for_summary</th>\n",
       "      <th>content_for_topic</th>\n",
       "      <th>content_for_topic_lemma</th>\n",
       "    </tr>\n",
       "  </thead>\n",
       "  <tbody>\n",
       "    <tr>\n",
       "      <th>3838</th>\n",
       "      <td>CONSEJO NACIONAL DE CIENCIA, TECNOLOGIA E INNO...</td>\n",
       "      <td>RESOLUCION  N° 052-2021-CONCYTEC-P</td>\n",
       "      <td>28/05/2021</td>\n",
       "      <td>Aprueban transferencias financieras a favor de...</td>\n",
       "      <td>Lima, 21 de mayo de 2021 VISTOS: El Informe Té...</td>\n",
       "      <td>lima de mayo de vistos el informe técnico lega...</td>\n",
       "      <td>_START_ aprueban transferencias financieras fa...</td>\n",
       "      <td>lima mayo vistos informe técnico legal fondecy...</td>\n",
       "      <td>lima mayo visto informe técnico legal fondecyt...</td>\n",
       "    </tr>\n",
       "    <tr>\n",
       "      <th>2953</th>\n",
       "      <td>CONSEJO NACIONAL DE CIENCIA, TECNOLOGIA E INNO...</td>\n",
       "      <td>RESOLUCION  N° 060-2021-CONCYTEC-P</td>\n",
       "      <td>17/06/2021</td>\n",
       "      <td>Modifican el Clasificador de Cargos del Pliego...</td>\n",
       "      <td>Lima, 16 de junio de 2021 VISTOS: El Informe N...</td>\n",
       "      <td>lima de junio de vistos el informe concytec og...</td>\n",
       "      <td>_START_ modifican el clasificador de cargos de...</td>\n",
       "      <td>lima junio vistos informe concytec oficina per...</td>\n",
       "      <td>lima junio visto informe concytec ogar oficina...</td>\n",
       "    </tr>\n",
       "    <tr>\n",
       "      <th>3956</th>\n",
       "      <td>ORGANISMO SUPERVISOR DE INVERSION PRIVADA EN T...</td>\n",
       "      <td>RESOLUCION  N° 081 -2021-CD/OSIPTEL</td>\n",
       "      <td>26/05/2021</td>\n",
       "      <td>Declaran infundado el Recurso de Apelación int...</td>\n",
       "      <td>Lima, 22 de mayo de 2021  VISTOS:  (i) El Recu...</td>\n",
       "      <td>lima de mayo de vistos el recurso de apelación...</td>\n",
       "      <td>_START_ declaran infundado el recurso de apela...</td>\n",
       "      <td>lima mayo vistos recurso apelación interpuesto...</td>\n",
       "      <td>lima mayo visto recurso apelación interpuesto ...</td>\n",
       "    </tr>\n",
       "    <tr>\n",
       "      <th>2220</th>\n",
       "      <td>SEGURO INTEGRAL DE SALUD</td>\n",
       "      <td>RESOLUCION JEFATURAL  N° 082-2021/SIS</td>\n",
       "      <td>01/07/2021</td>\n",
       "      <td>Aprueban Transferencia Financiera a favor de d...</td>\n",
       "      <td>Lima, 1 de julio de 2021 VISTOS: El Informe Co...</td>\n",
       "      <td>lima de julio de vistos el informe conjunto si...</td>\n",
       "      <td>_START_ aprueban transferencia financiera favo...</td>\n",
       "      <td>lima julio vistos informe conjunto pmra vhsn p...</td>\n",
       "      <td>lima julio visto informe conjunto pmra vhsn pr...</td>\n",
       "    </tr>\n",
       "    <tr>\n",
       "      <th>762</th>\n",
       "      <td>CULTURA</td>\n",
       "      <td>RESOLUCION VICE MINISTERIAL  N° 000181-2021-VM...</td>\n",
       "      <td>28/07/2021</td>\n",
       "      <td>Declaran Monumento integrante del Patrimonio C...</td>\n",
       "      <td>San Borja, 26 de julio del 2021 VISTOS; el Inf...</td>\n",
       "      <td>san borja de julio del vistos el informe dgpc ...</td>\n",
       "      <td>_START_ declaran monumento integrante del patr...</td>\n",
       "      <td>borja julio vistos informe dgpc dirección gene...</td>\n",
       "      <td>borjo julio visto informe dgpc dirección gener...</td>\n",
       "    </tr>\n",
       "  </tbody>\n",
       "</table>\n",
       "</div>"
      ],
      "text/plain": [
       "                                               category  \\\n",
       "3838  CONSEJO NACIONAL DE CIENCIA, TECNOLOGIA E INNO...   \n",
       "2953  CONSEJO NACIONAL DE CIENCIA, TECNOLOGIA E INNO...   \n",
       "3956  ORGANISMO SUPERVISOR DE INVERSION PRIVADA EN T...   \n",
       "2220                           SEGURO INTEGRAL DE SALUD   \n",
       "762                                             CULTURA   \n",
       "\n",
       "                                                  title        date  \\\n",
       "3838                 RESOLUCION  N° 052-2021-CONCYTEC-P  28/05/2021   \n",
       "2953                 RESOLUCION  N° 060-2021-CONCYTEC-P  17/06/2021   \n",
       "3956                RESOLUCION  N° 081 -2021-CD/OSIPTEL  26/05/2021   \n",
       "2220              RESOLUCION JEFATURAL  N° 082-2021/SIS  01/07/2021   \n",
       "762   RESOLUCION VICE MINISTERIAL  N° 000181-2021-VM...  28/07/2021   \n",
       "\n",
       "                                               abstract  \\\n",
       "3838  Aprueban transferencias financieras a favor de...   \n",
       "2953  Modifican el Clasificador de Cargos del Pliego...   \n",
       "3956  Declaran infundado el Recurso de Apelación int...   \n",
       "2220  Aprueban Transferencia Financiera a favor de d...   \n",
       "762   Declaran Monumento integrante del Patrimonio C...   \n",
       "\n",
       "                                                content  \\\n",
       "3838  Lima, 21 de mayo de 2021 VISTOS: El Informe Té...   \n",
       "2953  Lima, 16 de junio de 2021 VISTOS: El Informe N...   \n",
       "3956  Lima, 22 de mayo de 2021  VISTOS:  (i) El Recu...   \n",
       "2220  Lima, 1 de julio de 2021 VISTOS: El Informe Co...   \n",
       "762   San Borja, 26 de julio del 2021 VISTOS; el Inf...   \n",
       "\n",
       "                                    content_for_summary  \\\n",
       "3838  lima de mayo de vistos el informe técnico lega...   \n",
       "2953  lima de junio de vistos el informe concytec og...   \n",
       "3956  lima de mayo de vistos el recurso de apelación...   \n",
       "2220  lima de julio de vistos el informe conjunto si...   \n",
       "762   san borja de julio del vistos el informe dgpc ...   \n",
       "\n",
       "                                   abstract_for_summary  \\\n",
       "3838  _START_ aprueban transferencias financieras fa...   \n",
       "2953  _START_ modifican el clasificador de cargos de...   \n",
       "3956  _START_ declaran infundado el recurso de apela...   \n",
       "2220  _START_ aprueban transferencia financiera favo...   \n",
       "762   _START_ declaran monumento integrante del patr...   \n",
       "\n",
       "                                      content_for_topic  \\\n",
       "3838  lima mayo vistos informe técnico legal fondecy...   \n",
       "2953  lima junio vistos informe concytec oficina per...   \n",
       "3956  lima mayo vistos recurso apelación interpuesto...   \n",
       "2220  lima julio vistos informe conjunto pmra vhsn p...   \n",
       "762   borja julio vistos informe dgpc dirección gene...   \n",
       "\n",
       "                                content_for_topic_lemma  \n",
       "3838  lima mayo visto informe técnico legal fondecyt...  \n",
       "2953  lima junio visto informe concytec ogar oficina...  \n",
       "3956  lima mayo visto recurso apelación interpuesto ...  \n",
       "2220  lima julio visto informe conjunto pmra vhsn pr...  \n",
       "762   borjo julio visto informe dgpc dirección gener...  "
      ]
     },
     "execution_count": 4,
     "metadata": {},
     "output_type": "execute_result"
    }
   ],
   "source": [
    "%%time\n",
    "# Función para marcar el texto que servira al Decoder del modelo Seq2Seq\n",
    "dataset_base.abstract_for_summary = dataset_base.abstract_for_summary.apply(lambda t: \"_START_ \" + t + \" _END_\")\n",
    "dataset_base.sample(5)"
   ]
  },
  {
   "cell_type": "markdown",
   "metadata": {},
   "source": [
    "___\n",
    "Entender la distribución de las secuencias: anlizando el tamaño del contenido y el abstract. Este ejercicio ayuda a encontrar el tamaño máximo de las secuencias\n",
    "___"
   ]
  },
  {
   "cell_type": "code",
   "execution_count": 7,
   "metadata": {},
   "outputs": [
    {
     "data": {
      "image/png": "[encoded data removed]",
      "text/plain": [
       "<Figure size 2160x432 with 2 Axes>"
      ]
     },
     "metadata": {},
     "output_type": "display_data"
    },
    {
     "name": "stdout",
     "output_type": "stream",
     "text": [
      "CPU times: user 550 ms, sys: 0 ns, total: 550 ms\n",
      "Wall time: 549 ms\n"
     ]
    }
   ],
   "source": [
    "%%time\n",
    "text_count = []\n",
    "summary_count = []\n",
    "\n",
    "\n",
    "for sent in dataset_base.content_for_summary:\n",
    "    text_count.append(len(sent.split()))\n",
    "for sent in dataset_base.abstract_for_summary:\n",
    "    summary_count.append(len(sent.split()))\n",
    "\n",
    "# Crear dataset para graficar histograma\n",
    "graph_df = pd.DataFrame()\n",
    "graph_df['content']=text_count\n",
    "graph_df['summary']=summary_count\n",
    "\n",
    "graph_df.hist(bins = 60, figsize=(30,6))\n",
    "plt.show()"
   ]
  },
  {
   "cell_type": "markdown",
   "metadata": {},
   "source": [
    "## III. Configurar dataset para dividir en el dataset de entranamiento y pruebas"
   ]
  },
  {
   "cell_type": "markdown",
   "metadata": {},
   "source": [
    "___\n",
    "Seleccionar el número máximo de secuencias (tokens-palabras) de acuero a la gráfica, de tal manera que concentre la mayor parte de contenido promedio y evitar los **outliers**.\n",
    "___"
   ]
  },
  {
   "cell_type": "code",
   "execution_count": 9,
   "metadata": {},
   "outputs": [
    {
     "name": "stdout",
     "output_type": "stream",
     "text": [
      "==================================================\n",
      "% content de palabras entre 1 y 3000: 0.9046321525885559\n",
      "% abstract de palabras entre 1 y 35: 0.9202378003467921\n",
      "==================================================\n",
      "CPU times: user 656 ms, sys: 14.5 ms, total: 671 ms\n",
      "Wall time: 668 ms\n"
     ]
    }
   ],
   "source": [
    "%%time\n",
    "# El modelo realizará las siguientes secuencias: abstract/summary entre 1-max_summary_len tokens y para contenido/content entre 1 y max_content_len tokesn.\n",
    "max_len_content = 3000\n",
    "max_len_summary = 35\n",
    "\n",
    "print(\"=\"*50)\n",
    "\n",
    "# Verificar el porcentaje de palabras en el content entre 1 y max_content_len\n",
    "print(\"% content de palabras entre 1 y \" + str(max_len_content) + \":\",\n",
    "dataset_base[\n",
    "    dataset_base.apply(lambda v: \n",
    "                       len(v.content_for_summary.split()) > 100 and\n",
    "                       len(v.content_for_summary.split()) <= 100 + max_len_content, axis=1)\n",
    "            ].shape[0]/len(dataset_base.content_for_summary)\n",
    ")\n",
    "\n",
    "# Verificar el porcentaje de palabras en el abstract entre 1 y max_summary_len\n",
    "print(\"% abstract de palabras entre 1 y \" + str(max_len_summary) + \":\",\n",
    "dataset_base[\n",
    "    dataset_base.apply(lambda v: \n",
    "                       len(v.abstract_for_summary.split()) > 5 and\n",
    "                       len(v.abstract_for_summary.split()) <= 5 + max_len_summary, axis=1)\n",
    "            ].shape[0]/len(dataset_base.abstract_for_summary)\n",
    ")\n",
    "\n",
    "print(\"=\"*50)"
   ]
  },
  {
   "cell_type": "markdown",
   "metadata": {},
   "source": [
    "___\n",
    "Elegir secuencias mayores a 5 y menores a max_content_len, max_summary_len según sea el caso\n",
    "___"
   ]
  },
  {
   "cell_type": "code",
   "execution_count": 11,
   "metadata": {},
   "outputs": [
    {
     "name": "stdout",
     "output_type": "stream",
     "text": [
      "CPU times: user 691 ms, sys: 2.92 ms, total: 694 ms\n",
      "Wall time: 692 ms\n"
     ]
    },
    {
     "data": {
      "text/html": [
       "<div>\n",
       "<style scoped>\n",
       "    .dataframe tbody tr th:only-of-type {\n",
       "        vertical-align: middle;\n",
       "    }\n",
       "\n",
       "    .dataframe tbody tr th {\n",
       "        vertical-align: top;\n",
       "    }\n",
       "\n",
       "    .dataframe thead th {\n",
       "        text-align: right;\n",
       "    }\n",
       "</style>\n",
       "<table border=\"1\" class=\"dataframe\">\n",
       "  <thead>\n",
       "    <tr style=\"text-align: right;\">\n",
       "      <th></th>\n",
       "      <th>content_for_summary</th>\n",
       "      <th>abstract_for_summary</th>\n",
       "    </tr>\n",
       "  </thead>\n",
       "  <tbody>\n",
       "    <tr>\n",
       "      <th>889</th>\n",
       "      <td>que el ministerio de cultura creado por la ley...</td>\n",
       "      <td>_START_ decreto supremo que aprueba el reglame...</td>\n",
       "    </tr>\n",
       "    <tr>\n",
       "      <th>3088</th>\n",
       "      <td>lima de junio de vistos el informe mimp optp d...</td>\n",
       "      <td>_START_ designan director general de la oficin...</td>\n",
       "    </tr>\n",
       "    <tr>\n",
       "      <th>1618</th>\n",
       "      <td>lima de julio del visto el oficio cr ueti cpp ...</td>\n",
       "      <td>_START_ modifican la resolución administrativa...</td>\n",
       "    </tr>\n",
       "    <tr>\n",
       "      <th>893</th>\n",
       "      <td>lima de julio de vistos el informe minedu vmgi...</td>\n",
       "      <td>_START_ designan coordinador iii de gestión de...</td>\n",
       "    </tr>\n",
       "    <tr>\n",
       "      <th>1814</th>\n",
       "      <td>ate de julio del el concejo municipal del dist...</td>\n",
       "      <td>_START_ ordenanza que otorga beneficios tribut...</td>\n",
       "    </tr>\n",
       "  </tbody>\n",
       "</table>\n",
       "</div>"
      ],
      "text/plain": [
       "                                    content_for_summary  \\\n",
       "889   que el ministerio de cultura creado por la ley...   \n",
       "3088  lima de junio de vistos el informe mimp optp d...   \n",
       "1618  lima de julio del visto el oficio cr ueti cpp ...   \n",
       "893   lima de julio de vistos el informe minedu vmgi...   \n",
       "1814  ate de julio del el concejo municipal del dist...   \n",
       "\n",
       "                                   abstract_for_summary  \n",
       "889   _START_ decreto supremo que aprueba el reglame...  \n",
       "3088  _START_ designan director general de la oficin...  \n",
       "1618  _START_ modifican la resolución administrativa...  \n",
       "893   _START_ designan coordinador iii de gestión de...  \n",
       "1814  _START_ ordenanza que otorga beneficios tribut...  "
      ]
     },
     "execution_count": 11,
     "metadata": {},
     "output_type": "execute_result"
    }
   ],
   "source": [
    "%%time\n",
    "dataset_pre = \\\n",
    "dataset_base[\n",
    "    dataset_base.apply(lambda v: \n",
    "                       len(v.content_for_summary.split()) > 5 and\n",
    "                       len(v.content_for_summary.split()) <= max_len_content and\n",
    "                       len(v.abstract_for_summary.split()) > 5 and\n",
    "                       len(v.abstract_for_summary.split()) <= max_len_summary, axis=1)\n",
    "][[\"content_for_summary\",\"abstract_for_summary\"]]\n",
    "\n",
    "dataset_pre.sample(5)"
   ]
  },
  {
   "cell_type": "markdown",
   "metadata": {},
   "source": [
    "___\n",
    "Dividir el dataset base en conjunto de entranamiento y pruebas\n",
    "* $x\\_tr\\_i$, $y\\_tr\\_i$: datos (datasets) de entrenamiento\n",
    "* $x\\_val\\_i$, $y\\_val\\_i$: datos (datasets) de validación\n",
    "___"
   ]
  },
  {
   "cell_type": "code",
   "execution_count": 12,
   "metadata": {},
   "outputs": [
    {
     "name": "stdout",
     "output_type": "stream",
     "text": [
      "CPU times: user 6.3 ms, sys: 0 ns, total: 6.3 ms\n",
      "Wall time: 4.99 ms\n"
     ]
    },
    {
     "data": {
      "text/plain": [
       "((2901,), (323,))"
      ]
     },
     "execution_count": 12,
     "metadata": {},
     "output_type": "execute_result"
    }
   ],
   "source": [
    "%%time\n",
    "x_tr_i, x_val_i, y_tr_i, y_val_i = train_test_split(dataset_pre.content_for_summary.to_numpy(), dataset_pre.abstract_for_summary.to_numpy(), test_size=0.1, random_state=0, shuffle=True)\n",
    "x_tr_i.shape, x_val_i.shape"
   ]
  },
  {
   "cell_type": "markdown",
   "metadata": {},
   "source": [
    "## III. Tokenizar los dataset"
   ]
  },
  {
   "cell_type": "markdown",
   "metadata": {},
   "source": [
    "___\n",
    "<h3>Tratar palabras que aparecen raras veces</h3>  \n",
    "\n",
    "____\n",
    "Luego de tokenizar se revisará las  palabras que tiene menos uso, con la cantidad obtnida se vuelve a tokenizar para tomar el grupo más frecuente.\n",
    "\n",
    "* total_token: tamaño del vocabulario, es decir conteo por palabras única.\n",
    "* total_thresh: Umbral de la frecuencia mímima\n",
    "* total_rare: cantidad de palabras (conteo po palabra) con una frecuencia menor al total_thresh.\n",
    "* total_token -  total_thresh: determina el número de palabras más comunes\n",
    "___"
   ]
  },
  {
   "cell_type": "markdown",
   "metadata": {},
   "source": [
    "___\n",
    "Preparar tokenizer para el contenido en los datos de entranamiento\n",
    "___"
   ]
  },
  {
   "cell_type": "code",
   "execution_count": 14,
   "metadata": {},
   "outputs": [
    {
     "name": "stdout",
     "output_type": "stream",
     "text": [
      "% of rare words in vocabulary: 41.76464710388702\n",
      "Total Coverage of rare words: 0.6242729971210313\n",
      "Size of vocabulary in X = 17485\n",
      "CPU times: user 7.37 s, sys: 4.3 ms, total: 7.37 s\n",
      "Wall time: 7.4 s\n"
     ]
    },
    {
     "data": {
      "text/plain": [
       "30023"
      ]
     },
     "execution_count": 14,
     "metadata": {},
     "output_type": "execute_result"
    }
   ],
   "source": [
    "%%time\n",
    "# Preparar tokenizer para el contenido en los datos de entranamiento\n",
    "x_tokenizer = Tokenizer() \n",
    "x_tokenizer.fit_on_texts(x_tr_i)\n",
    "total_thresh = 5 # sin contar al _START_ y _END_\n",
    "\n",
    "total_token = 0\n",
    "total_rare  = 0\n",
    "freq = 0\n",
    "total_freq = 0\n",
    "\n",
    "# Leer el diccionario\n",
    "for key,value in x_tokenizer.word_counts.items():\n",
    "    total_token = total_token + 1\n",
    "    total_freq = total_freq + value\n",
    "    if value < thresh:\n",
    "        total_rare = total_rare + 1\n",
    "        freq = freq + value\n",
    "\n",
    "\n",
    "print(\"=\"*50)\n",
    "print(\"% de palabras raras en el vocabulario:\",(total_rare/total_token)*100)\n",
    "print(\"Covertura todal de las palabras raras:\",(freq/total_freq)*100)\n",
    "print(\"=\"*50)\n",
    "\n",
    "# Preparar tokenizer para el contenido en los datos de entranamiento\n",
    "x_tokenizer = Tokenizer(num_words=tot_cnt-cnt) \n",
    "x_tokenizer.fit_on_texts(x_tr_i)\n",
    "\n",
    "#Convertir la secuencias de texto en una secuencia de enteros (i.e one-hot encodeing all the words)\n",
    "x_tr_seq    =   x_tokenizer.texts_to_sequences(x_tr_i) \n",
    "x_val_seq   =   x_tokenizer.texts_to_sequences(x_val_i)\n",
    "\n",
    "#padding zero upto maximum length\n",
    "x_tr    =   pad_sequences(x_tr_seq,  maxlen=max_len_content, padding='post')\n",
    "x_val   =   pad_sequences(x_val_seq, maxlen=max_len_content, padding='post')\n",
    "\n",
    "#size of vocabulary ( +1 for padding token)\n",
    "x_voc   =  x_tokenizer.num_words + 1\n",
    "\n",
    "print(\"Size of vocabulary in X = {}\".format(x_voc))\n",
    "len(x_tokenizer.word_counts)"
   ]
  },
  {
   "cell_type": "code",
   "execution_count": 36,
   "metadata": {},
   "outputs": [
    {
     "name": "stdout",
     "output_type": "stream",
     "text": [
      "% of rare words in vocabulary: 60.200601805416255\n",
      "Total Coverage of rare words: 5.602215734710682\n",
      "Size of vocabulary in Y = 1985\n",
      "CPU times: user 259 ms, sys: 525 µs, total: 260 ms\n",
      "Wall time: 258 ms\n"
     ]
    }
   ],
   "source": [
    "%%time\n",
    "#prepare a tokenizer for reviews on training data\n",
    "y_tokenizer = Tokenizer()   \n",
    "y_tokenizer.fit_on_texts(y_tr_i)\n",
    "\n",
    "\n",
    "\n",
    "thresh=3\n",
    "\n",
    "cnt=0\n",
    "tot_cnt=0\n",
    "freq=0\n",
    "tot_freq=0\n",
    "\n",
    "for key,value in y_tokenizer.word_counts.items():\n",
    "    tot_cnt=tot_cnt+1\n",
    "    tot_freq=tot_freq+value\n",
    "    if(value<thresh):\n",
    "        cnt=cnt+1\n",
    "        freq=freq+value\n",
    "    \n",
    "print(\"% of rare words in vocabulary:\",(cnt/tot_cnt)*100)\n",
    "print(\"Total Coverage of rare words:\",(freq/tot_freq)*100)\n",
    "\n",
    "\n",
    "#prepare a tokenizer for reviews on training data\n",
    "y_tokenizer = Tokenizer(num_words=tot_cnt-cnt) \n",
    "y_tokenizer.fit_on_texts(y_tr_i)\n",
    "\n",
    "#convert text sequences into integer sequences (i.e one hot encode the text in Y)\n",
    "y_tr_seq    =   y_tokenizer.texts_to_sequences(y_tr_i) \n",
    "y_val_seq   =   y_tokenizer.texts_to_sequences(y_val_i) \n",
    "\n",
    "#padding zero upto maximum length\n",
    "y_tr    =   pad_sequences(y_tr_seq, maxlen=max_summary_len, padding='post')\n",
    "y_val   =   pad_sequences(y_val_seq, maxlen=max_summary_len, padding='post')\n",
    "\n",
    "#size of vocabulary\n",
    "y_voc  =   y_tokenizer.num_words +1\n",
    "print(\"Size of vocabulary in Y = {}\".format(y_voc))"
   ]
  },
  {
   "cell_type": "code",
   "execution_count": 99,
   "metadata": {},
   "outputs": [
    {
     "name": "stdout",
     "output_type": "stream",
     "text": [
      "Model: \"model\"\n",
      "__________________________________________________________________________________________________\n",
      "Layer (type)                    Output Shape         Param #     Connected to                     \n",
      "==================================================================================================\n",
      "input_1 (InputLayer)            [(None, 3000)]       0                                            \n",
      "__________________________________________________________________________________________________\n",
      "embedding (Embedding)           (None, 3000, 300)    5245500     input_1[0][0]                    \n",
      "__________________________________________________________________________________________________\n",
      "lstm (LSTM)                     [(None, 3000, 300),  721200      embedding[0][0]                  \n",
      "__________________________________________________________________________________________________\n",
      "input_2 (InputLayer)            [(None, None)]       0                                            \n",
      "__________________________________________________________________________________________________\n",
      "lstm_1 (LSTM)                   [(None, 3000, 300),  721200      lstm[0][0]                       \n",
      "__________________________________________________________________________________________________\n",
      "embedding_1 (Embedding)         (None, None, 300)    595500      input_2[0][0]                    \n",
      "__________________________________________________________________________________________________\n",
      "lstm_2 (LSTM)                   [(None, 3000, 300),  721200      lstm_1[0][0]                     \n",
      "__________________________________________________________________________________________________\n",
      "lstm_3 (LSTM)                   [(None, None, 300),  721200      embedding_1[0][0]                \n",
      "                                                                 lstm_2[0][1]                     \n",
      "                                                                 lstm_2[0][2]                     \n",
      "__________________________________________________________________________________________________\n",
      "time_distributed (TimeDistribut (None, None, 1985)   597485      lstm_3[0][0]                     \n",
      "==================================================================================================\n",
      "Total params: 9,323,285\n",
      "Trainable params: 9,323,285\n",
      "Non-trainable params: 0\n",
      "__________________________________________________________________________________________________\n",
      "CPU times: user 2.24 s, sys: 110 ms, total: 2.35 s\n",
      "Wall time: 2.04 s\n"
     ]
    }
   ],
   "source": [
    "%%time\n",
    "\n",
    "K.clear_session()\n",
    "\n",
    "\n",
    "latent_dim = 300\n",
    "#embedding_dim=200\n",
    "\n",
    "# Encoder\n",
    "encoder_inputs = Input(shape=(max_content_len,))\n",
    "\n",
    "#embedding layer\n",
    "enc_emb =  Embedding(x_voc, latent_dim,trainable=True)(encoder_inputs)\n",
    "\n",
    "#encoder lstm 1\n",
    "encoder_lstm1 = LSTM(latent_dim, return_sequences=True, return_state=True, dropout=0.4, recurrent_dropout=0)\n",
    "encoder_output1, state_h1, state_c1 = encoder_lstm1(enc_emb)\n",
    "\n",
    "#encoder lstm 2\n",
    "encoder_lstm2 = LSTM(latent_dim,return_sequences=True,return_state=True,dropout=0.4,recurrent_dropout=0)\n",
    "encoder_output2, state_h2, state_c2 = encoder_lstm2(encoder_output1)\n",
    "\n",
    "#encoder lstm 3\n",
    "encoder_lstm3=LSTM(latent_dim, return_state=True, return_sequences=True,dropout=0.4,recurrent_dropout=0)\n",
    "encoder_outputs, state_h, state_c= encoder_lstm3(encoder_output2)\n",
    "\n",
    "# Set up the decoder, using `encoder_states` as initial state.\n",
    "decoder_inputs = Input(shape=(None,))\n",
    "\n",
    "#embedding layer\n",
    "dec_emb_layer = Embedding(y_voc, latent_dim,trainable=True)\n",
    "dec_emb = dec_emb_layer(decoder_inputs)\n",
    "\n",
    "decoder_lstm = LSTM(latent_dim, return_sequences=True, return_state=True,dropout=0.4,recurrent_dropout=0)\n",
    "decoder_outputs,decoder_fwd_state, decoder_back_state = decoder_lstm(dec_emb,initial_state=[state_h, state_c])\n",
    "\n",
    "#dense layer\n",
    "decoder_dense =  TimeDistributed(Dense(y_voc, activation='softmax'))\n",
    "decoder_outputs = decoder_dense(decoder_outputs)\n",
    "\n",
    "# Define the model \n",
    "model = Model([encoder_inputs, decoder_inputs], decoder_outputs)\n",
    "\n",
    "model.summary()"
   ]
  },
  {
   "cell_type": "code",
   "execution_count": 100,
   "metadata": {},
   "outputs": [],
   "source": [
    "model.compile(optimizer='rmsprop', loss='sparse_categorical_crossentropy')"
   ]
  },
  {
   "cell_type": "code",
   "execution_count": 101,
   "metadata": {},
   "outputs": [],
   "source": [
    "es = EarlyStopping(monitor='val_loss', mode='min', verbose=1,patience=2)"
   ]
  },
  {
   "cell_type": "code",
   "execution_count": 102,
   "metadata": {},
   "outputs": [
    {
     "data": {
      "text/plain": [
       "((323, 34, 1), (2901, 34, 1), 2901, 323)"
      ]
     },
     "execution_count": 102,
     "metadata": {},
     "output_type": "execute_result"
    }
   ],
   "source": [
    "y_val.reshape(y_val.shape[0], y_val.shape[1], 1)[:,1:].shape, y_tr.reshape(y_tr.shape[0],y_tr.shape[1], 1)[:,1:].shape, len([x_tr,y_tr[:,:-1]][1]), len([x_val,y_val[:,:-1]][1])"
   ]
  },
  {
   "cell_type": "code",
   "execution_count": 103,
   "metadata": {},
   "outputs": [
    {
     "name": "stdout",
     "output_type": "stream",
     "text": [
      "Epoch 1/3\n",
      "182/182 [==============================] - 324s 2s/step - loss: 3.0631 - val_loss: 2.5841\n",
      "Epoch 2/3\n",
      "182/182 [==============================] - 310s 2s/step - loss: 2.4756 - val_loss: 2.3025\n",
      "Epoch 3/3\n",
      "182/182 [==============================] - 289s 2s/step - loss: 2.1975 - val_loss: 2.0905\n",
      "CPU times: user 13min 5s, sys: 2min 21s, total: 15min 27s\n",
      "Wall time: 15min 22s\n"
     ]
    }
   ],
   "source": [
    "%%time\n",
    "history=model.fit(\n",
    "    [x_tr,y_tr[:,:-1]], \n",
    "    y_tr.reshape(y_tr.shape[0],y_tr.shape[1], 1)[:,1:], \n",
    "    epochs=3, callbacks=[es], batch_size=16, \n",
    "    validation_data= ([x_val,y_val[:,:-1]], y_val.reshape(y_val.shape[0], y_val.shape[1], 1)[:,1:]))"
   ]
  },
  {
   "cell_type": "markdown",
   "metadata": {},
   "source": [
    "### "
   ]
  },
  {
   "cell_type": "code",
   "execution_count": 104,
   "metadata": {},
   "outputs": [
    {
     "data": {
      "image/png": "[encoded data removed]",
      "text/plain": [
       "<Figure size 432x288 with 1 Axes>"
      ]
     },
     "metadata": {},
     "output_type": "display_data"
    }
   ],
   "source": [
    "plt.plot(history.history['loss'], label='train')\n",
    "plt.plot(history.history['val_loss'], label='test')\n",
    "plt.legend()\n",
    "plt.show()"
   ]
  },
  {
   "cell_type": "code",
   "execution_count": 105,
   "metadata": {},
   "outputs": [],
   "source": [
    "reverse_target_word_index=y_tokenizer.index_word\n",
    "reverse_source_word_index=x_tokenizer.index_word\n",
    "target_word_index=y_tokenizer.word_index"
   ]
  },
  {
   "cell_type": "code",
   "execution_count": null,
   "metadata": {},
   "outputs": [],
   "source": []
  },
  {
   "cell_type": "code",
   "execution_count": 106,
   "metadata": {},
   "outputs": [
    {
     "name": "stdout",
     "output_type": "stream",
     "text": [
      "CPU times: user 445 ms, sys: 7.5 ms, total: 453 ms\n",
      "Wall time: 451 ms\n"
     ]
    }
   ],
   "source": [
    "%%time\n",
    "# Encode the input sequence to get the feature vector\n",
    "encoder_model = Model(inputs=encoder_inputs,outputs=[encoder_outputs, state_h, state_c])\n",
    "\n",
    "# Decoder setup\n",
    "# Below tensors will hold the states of the previous time step\n",
    "decoder_state_input_h = Input(shape=(latent_dim,))\n",
    "decoder_state_input_c = Input(shape=(latent_dim,))\n",
    "decoder_hidden_state_input = Input(shape=(max_content_len,latent_dim))\n",
    "\n",
    "# Get the embeddings of the decoder sequence\n",
    "dec_emb2= dec_emb_layer(decoder_inputs) \n",
    "\n",
    "# To predict the next word in the sequence, set the initial states to the states from the previous time step\n",
    "decoder_outputs2, state_h2, state_c2 = decoder_lstm(dec_emb2, initial_state=[decoder_state_input_h, decoder_state_input_c])\n",
    "\n",
    "# A dense softmax layer to generate prob dist. over the target vocabulary\n",
    "decoder_outputs2 = decoder_dense(decoder_outputs2) \n",
    "\n",
    "# Final decoder model\n",
    "decoder_model = Model(\n",
    "    [decoder_inputs] + [decoder_hidden_state_input,decoder_state_input_h, decoder_state_input_c],\n",
    "    [decoder_outputs2] + [state_h2, state_c2])"
   ]
  },
  {
   "cell_type": "code",
   "execution_count": 107,
   "metadata": {},
   "outputs": [],
   "source": [
    "def decode_sequence(input_seq):\n",
    "    # Encode the input as state vectors.\n",
    "    e_out, e_h, e_c = encoder_model.predict(input_seq)\n",
    "    \n",
    "    # Generate empty target sequence of length 1.\n",
    "    target_seq = np.zeros((1,1))\n",
    "    \n",
    "    # Populate the first word of target sequence with the start word.\n",
    "    target_seq[0, 0] = target_word_index['oooooo']\n",
    "\n",
    "    stop_condition = False\n",
    "    decoded_sentence = ''\n",
    "    while not stop_condition:\n",
    "      \n",
    "        output_tokens, h, c = decoder_model.predict([target_seq] + [e_out, e_h, e_c])\n",
    "\n",
    "        # Sample a token\n",
    "        sampled_token_index = np.argmax(output_tokens[0, -1, :])\n",
    "        sampled_token = reverse_target_word_index[sampled_token_index]\n",
    "        \n",
    "        if(sampled_token!='eeeeee'):\n",
    "            decoded_sentence += ' '+sampled_token\n",
    "\n",
    "        # Exit condition: either hit max length or find stop word.\n",
    "        if (sampled_token == 'eeeeee'  or len(decoded_sentence.split()) >= (max_summary_len-1)):\n",
    "            stop_condition = True\n",
    "\n",
    "        # Update the target sequence (of length 1).\n",
    "        target_seq = np.zeros((1,1))\n",
    "        target_seq[0, 0] = sampled_token_index\n",
    "\n",
    "        # Update internal states\n",
    "        e_h, e_c = h, c\n",
    "\n",
    "    return decoded_sentence"
   ]
  },
  {
   "cell_type": "code",
   "execution_count": null,
   "metadata": {},
   "outputs": [],
   "source": []
  },
  {
   "cell_type": "code",
   "execution_count": 108,
   "metadata": {},
   "outputs": [],
   "source": [
    "\n",
    "def seq2summary(input_seq):\n",
    "    newString=''\n",
    "    for i in input_seq:\n",
    "        if((i!=0 and i!=target_word_index['oooooo']) and i!=target_word_index['eeeeee']):\n",
    "            newString=newString+reverse_target_word_index[i]+' '\n",
    "    return newString\n",
    "\n",
    "def seq2text(input_seq):\n",
    "    newString=''\n",
    "    for i in input_seq:\n",
    "        if(i!=0):\n",
    "            newString=newString+reverse_source_word_index[i]+' '\n",
    "    return newString\n"
   ]
  },
  {
   "cell_type": "code",
   "execution_count": 109,
   "metadata": {},
   "outputs": [],
   "source": [
    "#y_val.reshape(y_val.shape[0], y_val.shape[1], 1)[:,1:]\n",
    "#y_val[0].shape[1]"
   ]
  },
  {
   "cell_type": "code",
   "execution_count": null,
   "metadata": {},
   "outputs": [],
   "source": [
    "\n",
    "#encoder_model.predict(x_val[12].reshape(1,max_content_len))"
   ]
  },
  {
   "cell_type": "code",
   "execution_count": null,
   "metadata": {},
   "outputs": [],
   "source": [
    "%%time\n",
    "for i in range(12,15):\n",
    "    print(\"Review:\",seq2text(x_val[i]))\n",
    "    print(\"Original summary:\",seq2summary(y_val[i]))\n",
    "    print(\"Predicted summary:\",decode_sequence(x_val[i].reshape(1,max_content_len)))\n",
    "    print(\"\\n\")\n",
    "\n",
    "#     print(\"Review:\",seq2text(x_tr[i]))\n",
    "#     print(\"Original summary:\",seq2summary(y_tr[i]))\n",
    "#     print(\"Predicted summary:\",decode_sequence(x_tr[i].reshape(1,max_content_len)))\n",
    "#     print(\"\\n\")"
   ]
  },
  {
   "cell_type": "code",
   "execution_count": null,
   "metadata": {},
   "outputs": [],
   "source": []
  }
 ],
 "metadata": {
  "kernelspec": {
   "display_name": "Python 3",
   "language": "python",
   "name": "python3"
  },
  "language_info": {
   "codemirror_mode": {
    "name": "ipython",
    "version": 3
   },
   "file_extension": ".py",
   "mimetype": "text/x-python",
   "name": "python",
   "nbconvert_exporter": "python",
   "pygments_lexer": "ipython3",
   "version": "3.9.0"
  }
 },
 "nbformat": 4,
 "nbformat_minor": 4
}
