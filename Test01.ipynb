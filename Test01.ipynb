{
 "cells": [
  {
   "cell_type": "code",
   "execution_count": 1,
   "metadata": {},
   "outputs": [],
   "source": [
    "from attention import AttentionLayer\n",
    "import numpy as np  \n",
    "import pandas as pd \n",
    "import re           \n",
    "from bs4 import BeautifulSoup \n",
    "from keras.preprocessing.text import Tokenizer \n",
    "from keras.preprocessing.sequence import pad_sequences\n",
    "from nltk.corpus import stopwords   \n",
    "from tensorflow.keras.layers import Input, LSTM, Embedding, Dense, Concatenate, TimeDistributed, Bidirectional\n",
    "from tensorflow.keras.models import Model\n",
    "from tensorflow.keras.callbacks import EarlyStopping\n",
    "import warnings\n",
    "pd.set_option(\"display.max_colwidth\", 200)\n",
    "warnings.filterwarnings(\"ignore\")\n",
    "from sklearn.model_selection import train_test_split\n",
    "from keras import backend as K \n",
    "#import tensorflow as tf\n",
    "# physical_devices = tf.config.list_physical_devices('GPU')\n",
    "# tf.config.experimental.set_memory_growth(physical_devices[0], enable=True)\n",
    "\n",
    "#gpu_options = tf.GPUOptions(allow_growth=True)\n",
    "#session = tf.InteractiveSession(config=tf.ConfigProto(gpu_options=gpu_options))"
   ]
  },
  {
   "cell_type": "code",
   "execution_count": 2,
   "metadata": {},
   "outputs": [
    {
     "name": "stdout",
     "output_type": "stream",
     "text": [
      "CPU times: user 2 µs, sys: 1e+03 ns, total: 3 µs\n",
      "Wall time: 4.53 µs\n"
     ]
    },
    {
     "data": {
      "text/html": [
       "<div>\n",
       "<style scoped>\n",
       "    .dataframe tbody tr th:only-of-type {\n",
       "        vertical-align: middle;\n",
       "    }\n",
       "\n",
       "    .dataframe tbody tr th {\n",
       "        vertical-align: top;\n",
       "    }\n",
       "\n",
       "    .dataframe thead th {\n",
       "        text-align: right;\n",
       "    }\n",
       "</style>\n",
       "<table border=\"1\" class=\"dataframe\">\n",
       "  <thead>\n",
       "    <tr style=\"text-align: right;\">\n",
       "      <th></th>\n",
       "      <th>category</th>\n",
       "      <th>title</th>\n",
       "      <th>date</th>\n",
       "      <th>abstract</th>\n",
       "      <th>content</th>\n",
       "      <th>content_for_topic</th>\n",
       "      <th>content_for_summary</th>\n",
       "      <th>abstract_for_summary</th>\n",
       "    </tr>\n",
       "  </thead>\n",
       "  <tbody>\n",
       "    <tr>\n",
       "      <th>2651</th>\n",
       "      <td>SEGURO INTEGRAL DE SALUD</td>\n",
       "      <td>RESOLUCION JEFATURAL  N° 076-2021/SIS</td>\n",
       "      <td>22/06/2021</td>\n",
       "      <td>Aprueban la actualización de la Directiva Administrativa N° 002-2020-SIS/GNF-V.01 la que se denominará: Directiva Administrativa N° 001-2021-SIS/GNF-V.02 Directiva Administrativa para el Control F...</td>\n",
       "      <td>Lima, 21 de junio de 2021 VISTOS: El Informe Conjunto N° 001-2021-SIS/GNF-SGRF-SGF/DMEG-JGMN-JJCM-KERA-RELS-VICA con Proveído N° 329-2021-SIS/GNF e Informe Conjunto N° 002-2021-SIS/GNF-SGRF-SGF/DM...</td>\n",
       "      <td>lima junio visto informe conjunto sgrf dmeg jgmn jjcm kero rels vico proveído informe conjunto sgrf dmeg jgmn jjcm kero rels vico proveído gerencia negocio financiamiento informe ogppdo aamz prove...</td>\n",
       "      <td>lima junio vistos informe conjunto sgrf dmeg jgmn jjcm kera rels vica proveído informe conjunto sgrf dmeg jgmn jjcm kera rels vica proveído gerencia negocios financiamiento informe ogppdo aamz pro...</td>\n",
       "      <td>aprueban actualización directiva administrativa denominará directiva administrativa directiva administrativa control financiero procedimientos monitoreo supervisión seguimiento trasferencias finan...</td>\n",
       "    </tr>\n",
       "    <tr>\n",
       "      <th>1853</th>\n",
       "      <td>MUNICIPALIDAD DE SANTA ANITA</td>\n",
       "      <td>DECRETO DE ALCALDIA  N° 000005-2021/MDSA</td>\n",
       "      <td>08/07/2021</td>\n",
       "      <td>Prorrogan vigencia de la Ordenanza N° 000303/MDSA que aprobó la Amnistía General Tributaria 2021</td>\n",
       "      <td>Santa Anita, 30 de junio de 2021 EL ALCALDE DE LA MUNICIPALIDAD DISTRITAL DE SANTA ANITA VISTO: El Informe Nº 0136-2021-SGRCRT/GSAT/MDSA de la Subgerencia de Registro, Control y Recaudación Tribut...</td>\n",
       "      <td>santo anito junio alcalde municipalidad distrital santa anito visto informe sgrcrt gsat mdsa subgerencia registro control recaudación tributario memorándum gsat mdsa gerencia servicio administraci...</td>\n",
       "      <td>santa anita junio alcalde municipalidad distrital santa anita visto informe sgrcrt gsat mdsa subgerencia registro control recaudación tributaria memorándum gsat mdsa gerencia servicios administrac...</td>\n",
       "      <td>prorrogan vigencia ordenanza mdsa aprobó amnistía general tributaria</td>\n",
       "    </tr>\n",
       "    <tr>\n",
       "      <th>654</th>\n",
       "      <td>ORGANISMO DE EVALUACION Y FISCALIZACION AMBIENTAL</td>\n",
       "      <td>RESOLUCION  N° 00040-2021-OEFA/PCD</td>\n",
       "      <td>28/07/2021</td>\n",
       "      <td>Autorizan Transferencia Financiera a favor del Ministerio del Ambiente - MINAM Instituto de Investigaciones de la Amazonía Peruana - IIAP Instituto Geofísico del Perú - IGP y del Servicio Nacional...</td>\n",
       "      <td>Lima, 27 de julio de 2021 VISTOS: El Oficio Múltiple N° 00020-2021-MINAM/SG/OGPP, emitido por la Oficina General de Planeamiento y Presupuesto del Ministerio del Ambiente; el Informe N° 00150-2021...</td>\n",
       "      <td>lima julio visto oficio múltiple minam ogpp emitido oficina general planeamiento presupuesto ministerio ambiente informe oefar emitido oficina planeamiento presupuesto informe oefar emitido oficin...</td>\n",
       "      <td>lima julio vistos oficio múltiple minam ogpp emitido oficina general planeamiento presupuesto ministerio ambiente informe oefa emitido oficina planeamiento presupuesto informe oefa emitido oficina...</td>\n",
       "      <td>autorizan transferencia financiera favor ministerio ambiente minam instituto investigaciones amazonía peruana iiap instituto geofísico perú servicio nacional áreas protegidas sernanp</td>\n",
       "    </tr>\n",
       "    <tr>\n",
       "      <th>1088</th>\n",
       "      <td>MUNICIPALIDAD METROPOLITANA DE LIMA</td>\n",
       "      <td>ORDENANZA  N° 2376-2021</td>\n",
       "      <td>23/07/2021</td>\n",
       "      <td>Ordenanza que modifica el plano de zonificacion del distrito de Ate aprobado por Ordenanza N° 1099</td>\n",
       "      <td>Lima, 16 de julio de 2021 EL TENIENTE ALCALDE ENCARGADO DEL DESPACHO DE ALCALDÍA POR CUANTO: El Concejo Metropolitano de Lima, en Sesión Ordinaria de la fecha; CONSIDERANDO: Que, el Artículo 194 d...</td>\n",
       "      <td>lima julio teniente alcalde encargado despacho alcaldía concejo metropolitano limo sesión ordinario fecha constitución político perú concordancia título preliminar orgánico municipalidad establece...</td>\n",
       "      <td>lima julio teniente alcalde encargado despacho alcaldía concejo metropolitano lima sesión ordinaria fecha constitución política perú concordancia título preliminar orgánica municipalidades estable...</td>\n",
       "      <td>ordenanza modifica plano zonificacion distrito aprobado ordenanza</td>\n",
       "    </tr>\n",
       "    <tr>\n",
       "      <th>3889</th>\n",
       "      <td>MUNICIPALIDAD DE LOS OLIVOS</td>\n",
       "      <td>RESOLUCION DE ALCALDIA  N° 110-2021</td>\n",
       "      <td>27/05/2021</td>\n",
       "      <td>Designan Ejecutor Coactivo de la Municipalidad Distrital de Los Olivos</td>\n",
       "      <td>Los Olivos, 17 de mayo de 2021 VISTO: El Informe N° 109-2021-MDLO/GRRHH de la Gerencia de Recursos Humanos, Informe N° 124-2021/MDLO/GAJ de la Gerencia de Asesoría Jurídica, Proveído N° 712 -2021 ...</td>\n",
       "      <td>olivo mayo visto informe mdlo grrhh gerencia recurso humano informe mdlo gerencia asesoría jurídico proveído gerencia municipal conforme establecer constitución político perú concordante título pr...</td>\n",
       "      <td>olivos mayo visto informe mdlo grrhh gerencia recursos humanos informe mdlo gerencia asesoría jurídica proveído gerencia municipal conforme establece constitución política perú concordante título ...</td>\n",
       "      <td>designan ejecutor coactivo municipalidad distrital olivos</td>\n",
       "    </tr>\n",
       "  </tbody>\n",
       "</table>\n",
       "</div>"
      ],
      "text/plain": [
       "                                               category  \\\n",
       "2651                           SEGURO INTEGRAL DE SALUD   \n",
       "1853                       MUNICIPALIDAD DE SANTA ANITA   \n",
       "654   ORGANISMO DE EVALUACION Y FISCALIZACION AMBIENTAL   \n",
       "1088                MUNICIPALIDAD METROPOLITANA DE LIMA   \n",
       "3889                        MUNICIPALIDAD DE LOS OLIVOS   \n",
       "\n",
       "                                         title        date  \\\n",
       "2651     RESOLUCION JEFATURAL  N° 076-2021/SIS  22/06/2021   \n",
       "1853  DECRETO DE ALCALDIA  N° 000005-2021/MDSA  08/07/2021   \n",
       "654         RESOLUCION  N° 00040-2021-OEFA/PCD  28/07/2021   \n",
       "1088                   ORDENANZA  N° 2376-2021  23/07/2021   \n",
       "3889       RESOLUCION DE ALCALDIA  N° 110-2021  27/05/2021   \n",
       "\n",
       "                                                                                                                                                                                                     abstract  \\\n",
       "2651  Aprueban la actualización de la Directiva Administrativa N° 002-2020-SIS/GNF-V.01 la que se denominará: Directiva Administrativa N° 001-2021-SIS/GNF-V.02 Directiva Administrativa para el Control F...   \n",
       "1853                                                                                                         Prorrogan vigencia de la Ordenanza N° 000303/MDSA que aprobó la Amnistía General Tributaria 2021   \n",
       "654   Autorizan Transferencia Financiera a favor del Ministerio del Ambiente - MINAM Instituto de Investigaciones de la Amazonía Peruana - IIAP Instituto Geofísico del Perú - IGP y del Servicio Nacional...   \n",
       "1088                                                                                                       Ordenanza que modifica el plano de zonificacion del distrito de Ate aprobado por Ordenanza N° 1099   \n",
       "3889                                                                                                                                   Designan Ejecutor Coactivo de la Municipalidad Distrital de Los Olivos   \n",
       "\n",
       "                                                                                                                                                                                                      content  \\\n",
       "2651  Lima, 21 de junio de 2021 VISTOS: El Informe Conjunto N° 001-2021-SIS/GNF-SGRF-SGF/DMEG-JGMN-JJCM-KERA-RELS-VICA con Proveído N° 329-2021-SIS/GNF e Informe Conjunto N° 002-2021-SIS/GNF-SGRF-SGF/DM...   \n",
       "1853  Santa Anita, 30 de junio de 2021 EL ALCALDE DE LA MUNICIPALIDAD DISTRITAL DE SANTA ANITA VISTO: El Informe Nº 0136-2021-SGRCRT/GSAT/MDSA de la Subgerencia de Registro, Control y Recaudación Tribut...   \n",
       "654   Lima, 27 de julio de 2021 VISTOS: El Oficio Múltiple N° 00020-2021-MINAM/SG/OGPP, emitido por la Oficina General de Planeamiento y Presupuesto del Ministerio del Ambiente; el Informe N° 00150-2021...   \n",
       "1088  Lima, 16 de julio de 2021 EL TENIENTE ALCALDE ENCARGADO DEL DESPACHO DE ALCALDÍA POR CUANTO: El Concejo Metropolitano de Lima, en Sesión Ordinaria de la fecha; CONSIDERANDO: Que, el Artículo 194 d...   \n",
       "3889  Los Olivos, 17 de mayo de 2021 VISTO: El Informe N° 109-2021-MDLO/GRRHH de la Gerencia de Recursos Humanos, Informe N° 124-2021/MDLO/GAJ de la Gerencia de Asesoría Jurídica, Proveído N° 712 -2021 ...   \n",
       "\n",
       "                                                                                                                                                                                            content_for_topic  \\\n",
       "2651  lima junio visto informe conjunto sgrf dmeg jgmn jjcm kero rels vico proveído informe conjunto sgrf dmeg jgmn jjcm kero rels vico proveído gerencia negocio financiamiento informe ogppdo aamz prove...   \n",
       "1853  santo anito junio alcalde municipalidad distrital santa anito visto informe sgrcrt gsat mdsa subgerencia registro control recaudación tributario memorándum gsat mdsa gerencia servicio administraci...   \n",
       "654   lima julio visto oficio múltiple minam ogpp emitido oficina general planeamiento presupuesto ministerio ambiente informe oefar emitido oficina planeamiento presupuesto informe oefar emitido oficin...   \n",
       "1088  lima julio teniente alcalde encargado despacho alcaldía concejo metropolitano limo sesión ordinario fecha constitución político perú concordancia título preliminar orgánico municipalidad establece...   \n",
       "3889  olivo mayo visto informe mdlo grrhh gerencia recurso humano informe mdlo gerencia asesoría jurídico proveído gerencia municipal conforme establecer constitución político perú concordante título pr...   \n",
       "\n",
       "                                                                                                                                                                                          content_for_summary  \\\n",
       "2651  lima junio vistos informe conjunto sgrf dmeg jgmn jjcm kera rels vica proveído informe conjunto sgrf dmeg jgmn jjcm kera rels vica proveído gerencia negocios financiamiento informe ogppdo aamz pro...   \n",
       "1853  santa anita junio alcalde municipalidad distrital santa anita visto informe sgrcrt gsat mdsa subgerencia registro control recaudación tributaria memorándum gsat mdsa gerencia servicios administrac...   \n",
       "654   lima julio vistos oficio múltiple minam ogpp emitido oficina general planeamiento presupuesto ministerio ambiente informe oefa emitido oficina planeamiento presupuesto informe oefa emitido oficina...   \n",
       "1088  lima julio teniente alcalde encargado despacho alcaldía concejo metropolitano lima sesión ordinaria fecha constitución política perú concordancia título preliminar orgánica municipalidades estable...   \n",
       "3889  olivos mayo visto informe mdlo grrhh gerencia recursos humanos informe mdlo gerencia asesoría jurídica proveído gerencia municipal conforme establece constitución política perú concordante título ...   \n",
       "\n",
       "                                                                                                                                                                                         abstract_for_summary  \n",
       "2651  aprueban actualización directiva administrativa denominará directiva administrativa directiva administrativa control financiero procedimientos monitoreo supervisión seguimiento trasferencias finan...  \n",
       "1853                                                                                                                                     prorrogan vigencia ordenanza mdsa aprobó amnistía general tributaria  \n",
       "654                    autorizan transferencia financiera favor ministerio ambiente minam instituto investigaciones amazonía peruana iiap instituto geofísico perú servicio nacional áreas protegidas sernanp  \n",
       "1088                                                                                                                                        ordenanza modifica plano zonificacion distrito aprobado ordenanza  \n",
       "3889                                                                                                                                                designan ejecutor coactivo municipalidad distrital olivos  "
      ]
     },
     "execution_count": 2,
     "metadata": {},
     "output_type": "execute_result"
    }
   ],
   "source": [
    "%time\n",
    "dataset_base = pd.read_csv(\"dataset_base.csv\", sep='\\t', encoding='utf-8')\n",
    "dataset_base.sample(5)"
   ]
  },
  {
   "cell_type": "code",
   "execution_count": 3,
   "metadata": {},
   "outputs": [
    {
     "name": "stdout",
     "output_type": "stream",
     "text": [
      "Dimensiones: (4163, 8)\n",
      "Filas que no contiene valores nulos: 4126\n",
      "Filas con valores nulos: 37\n"
     ]
    }
   ],
   "source": [
    "# Limpieza del dataset\n",
    "print(\"Dimensiones:\", dataset_base.shape)\n",
    "print(\"Filas que no contiene valores nulos:\", len(dataset_base[dataset_base.content_for_topic.notna()]))\n",
    "print(\"Filas con valores nulos:\", len(dataset_base[dataset_base.isnull().any(axis=1)]))"
   ]
  },
  {
   "cell_type": "code",
   "execution_count": 4,
   "metadata": {},
   "outputs": [
    {
     "name": "stdout",
     "output_type": "stream",
     "text": [
      "Dimensiones: (4126, 8)\n"
     ]
    }
   ],
   "source": [
    "# Eliminado los que contien valores nulos\n",
    "dataset_base.dropna(inplace=True)\n",
    "print(\"Dimensiones:\", dataset_base.shape)"
   ]
  },
  {
   "cell_type": "code",
   "execution_count": 5,
   "metadata": {},
   "outputs": [],
   "source": [
    "max_len_text=80 \n",
    "max_len_summary=20"
   ]
  },
  {
   "cell_type": "code",
   "execution_count": 6,
   "metadata": {},
   "outputs": [],
   "source": [
    "x_tr,x_val,y_tr,y_val=train_test_split(dataset_base.content_for_summary,dataset_base.abstract_for_summary,test_size=0.1,random_state=0,shuffle=True) "
   ]
  },
  {
   "cell_type": "code",
   "execution_count": 7,
   "metadata": {},
   "outputs": [
    {
     "name": "stdout",
     "output_type": "stream",
     "text": [
      "CPU times: user 5.19 s, sys: 29.4 ms, total: 5.22 s\n",
      "Wall time: 5.22 s\n"
     ]
    }
   ],
   "source": [
    "%%time\n",
    "x_tokenizer = Tokenizer()\n",
    "x_tokenizer.fit_on_texts(list(x_tr))\n",
    "\n",
    "#convert text sequences into integer sequences\n",
    "x_tr    =   x_tokenizer.texts_to_sequences(x_tr) \n",
    "x_val   =   x_tokenizer.texts_to_sequences(x_val)\n",
    "\n",
    "#padding zero upto maximum length\n",
    "x_tr    =   pad_sequences(x_tr,  maxlen=max_len_text, padding='post') \n",
    "x_val   =   pad_sequences(x_val, maxlen=max_len_text, padding='post')\n",
    "\n",
    "x_voc_size   =  len(x_tokenizer.word_index) +1"
   ]
  },
  {
   "cell_type": "code",
   "execution_count": 8,
   "metadata": {},
   "outputs": [
    {
     "name": "stdout",
     "output_type": "stream",
     "text": [
      "CPU times: user 161 ms, sys: 170 µs, total: 161 ms\n",
      "Wall time: 159 ms\n"
     ]
    }
   ],
   "source": [
    "%%time\n",
    "#preparing a tokenizer for summary on training data \n",
    "y_tokenizer = Tokenizer()\n",
    "y_tokenizer.fit_on_texts(list(y_tr))\n",
    "\n",
    "#convert summary sequences into integer sequences\n",
    "y_tr    =   y_tokenizer.texts_to_sequences(y_tr) \n",
    "y_val   =   y_tokenizer.texts_to_sequences(y_val) \n",
    "\n",
    "#padding zero upto maximum length\n",
    "y_tr    =   pad_sequences(y_tr, maxlen=max_len_summary, padding='post')\n",
    "y_val   =   pad_sequences(y_val, maxlen=max_len_summary, padding='post')\n",
    "\n",
    "y_voc_size  =   len(y_tokenizer.word_index) +1"
   ]
  },
  {
   "cell_type": "code",
   "execution_count": 9,
   "metadata": {},
   "outputs": [
    {
     "name": "stdout",
     "output_type": "stream",
     "text": [
      "Model: \"model\"\n",
      "__________________________________________________________________________________________________\n",
      "Layer (type)                    Output Shape         Param #     Connected to                     \n",
      "==================================================================================================\n",
      "input_1 (InputLayer)            [(None, 80)]         0                                            \n",
      "__________________________________________________________________________________________________\n",
      "embedding (Embedding)           (None, 80, 500)      19700000    input_1[0][0]                    \n",
      "__________________________________________________________________________________________________\n",
      "lstm (LSTM)                     [(None, 80, 500), (N 2002000     embedding[0][0]                  \n",
      "__________________________________________________________________________________________________\n",
      "input_2 (InputLayer)            [(None, None)]       0                                            \n",
      "__________________________________________________________________________________________________\n",
      "lstm_1 (LSTM)                   [(None, 80, 500), (N 2002000     lstm[0][0]                       \n",
      "__________________________________________________________________________________________________\n",
      "embedding_1 (Embedding)         (None, None, 500)    2955500     input_2[0][0]                    \n",
      "__________________________________________________________________________________________________\n",
      "lstm_2 (LSTM)                   [(None, 80, 500), (N 2002000     lstm_1[0][0]                     \n",
      "__________________________________________________________________________________________________\n",
      "lstm_3 (LSTM)                   [(None, None, 500),  2002000     embedding_1[0][0]                \n",
      "                                                                 lstm_2[0][1]                     \n",
      "                                                                 lstm_2[0][2]                     \n",
      "__________________________________________________________________________________________________\n",
      "attention_layer (AttentionLayer ((None, None, 500),  500500      lstm_2[0][0]                     \n",
      "                                                                 lstm_3[0][0]                     \n",
      "__________________________________________________________________________________________________\n",
      "concat_layer (Concatenate)      (None, None, 1000)   0           lstm_3[0][0]                     \n",
      "                                                                 attention_layer[0][0]            \n",
      "__________________________________________________________________________________________________\n",
      "time_distributed (TimeDistribut (None, None, 5911)   5916911     concat_layer[0][0]               \n",
      "==================================================================================================\n",
      "Total params: 37,080,911\n",
      "Trainable params: 37,080,911\n",
      "Non-trainable params: 0\n",
      "__________________________________________________________________________________________________\n"
     ]
    }
   ],
   "source": [
    "K.clear_session() \n",
    "latent_dim = 500 \n",
    "\n",
    "# Encoder \n",
    "encoder_inputs = Input(shape=(max_len_text,)) \n",
    "enc_emb = Embedding(x_voc_size, latent_dim,trainable=True)(encoder_inputs) \n",
    "\n",
    "#LSTM 1 \n",
    "encoder_lstm1 = LSTM(latent_dim,return_sequences=True,return_state=True) \n",
    "encoder_output1, state_h1, state_c1 = encoder_lstm1(enc_emb) \n",
    "\n",
    "#LSTM 2 \n",
    "encoder_lstm2 = LSTM(latent_dim,return_sequences=True,return_state=True) \n",
    "encoder_output2, state_h2, state_c2 = encoder_lstm2(encoder_output1) \n",
    "\n",
    "#LSTM 3 \n",
    "encoder_lstm3=LSTM(latent_dim, return_state=True, return_sequences=True) \n",
    "encoder_outputs, state_h, state_c= encoder_lstm3(encoder_output2) \n",
    "\n",
    "# Set up the decoder. \n",
    "decoder_inputs = Input(shape=(None,)) \n",
    "dec_emb_layer = Embedding(y_voc_size, latent_dim,trainable=True) \n",
    "dec_emb = dec_emb_layer(decoder_inputs) \n",
    "\n",
    "#LSTM using encoder_states as initial state\n",
    "decoder_lstm = LSTM(latent_dim, return_sequences=True, return_state=True) \n",
    "decoder_outputs,decoder_fwd_state, decoder_back_state = decoder_lstm(dec_emb,initial_state=[state_h, state_c]) \n",
    "\n",
    "#Attention Layer\n",
    "attn_layer = AttentionLayer(name='attention_layer') \n",
    "attn_out, attn_states = attn_layer([encoder_outputs, decoder_outputs]) \n",
    "\n",
    "# Concat attention output and decoder LSTM output \n",
    "decoder_concat_input = Concatenate(axis=-1, name='concat_layer')([decoder_outputs, attn_out])\n",
    "\n",
    "#Dense layer\n",
    "decoder_dense = TimeDistributed(Dense(y_voc_size, activation='softmax')) \n",
    "decoder_outputs = decoder_dense(decoder_concat_input) \n",
    "\n",
    "# Define the model\n",
    "model = Model([encoder_inputs, decoder_inputs], decoder_outputs) \n",
    "model.summary()"
   ]
  },
  {
   "cell_type": "code",
   "execution_count": 10,
   "metadata": {},
   "outputs": [],
   "source": [
    "model.compile(optimizer='rmsprop', loss='sparse_categorical_crossentropy')"
   ]
  },
  {
   "cell_type": "code",
   "execution_count": 11,
   "metadata": {},
   "outputs": [],
   "source": [
    "es = EarlyStopping(monitor='val_loss', mode='min', verbose=1)"
   ]
  },
  {
   "cell_type": "code",
   "execution_count": 12,
   "metadata": {},
   "outputs": [
    {
     "name": "stdout",
     "output_type": "stream",
     "text": [
      "Epoch 1/50\n"
     ]
    },
    {
     "ename": "ResourceExhaustedError",
     "evalue": "2 root error(s) found.\n  (0) Resource exhausted:  OOM when allocating tensor with shape[9728,5911] and type float on /job:localhost/replica:0/task:0/device:GPU:0 by allocator GPU_0_bfc\n\t [[node model/time_distributed/dense/MatMul (defined at <ipython-input-12-93aee35d4b44>:1) ]]\nHint: If you want to see a list of allocated tensors when OOM happens, add report_tensor_allocations_upon_oom to RunOptions for current allocation info.\n\n\t [[gradient_tape/model/embedding/embedding_lookup/Reshape/_114]]\nHint: If you want to see a list of allocated tensors when OOM happens, add report_tensor_allocations_upon_oom to RunOptions for current allocation info.\n\n  (1) Resource exhausted:  OOM when allocating tensor with shape[9728,5911] and type float on /job:localhost/replica:0/task:0/device:GPU:0 by allocator GPU_0_bfc\n\t [[node model/time_distributed/dense/MatMul (defined at <ipython-input-12-93aee35d4b44>:1) ]]\nHint: If you want to see a list of allocated tensors when OOM happens, add report_tensor_allocations_upon_oom to RunOptions for current allocation info.\n\n0 successful operations.\n0 derived errors ignored. [Op:__inference_train_function_13097]\n\nFunction call stack:\ntrain_function -> train_function\n",
     "output_type": "error",
     "traceback": [
      "\u001b[0;31m---------------------------------------------------------------------------\u001b[0m",
      "\u001b[0;31mResourceExhaustedError\u001b[0m                    Traceback (most recent call last)",
      "\u001b[0;32m<ipython-input-12-93aee35d4b44>\u001b[0m in \u001b[0;36m<module>\u001b[0;34m\u001b[0m\n\u001b[0;32m----> 1\u001b[0;31m \u001b[0mhistory\u001b[0m\u001b[0;34m=\u001b[0m\u001b[0mmodel\u001b[0m\u001b[0;34m.\u001b[0m\u001b[0mfit\u001b[0m\u001b[0;34m(\u001b[0m\u001b[0;34m[\u001b[0m\u001b[0mx_tr\u001b[0m\u001b[0;34m,\u001b[0m\u001b[0my_tr\u001b[0m\u001b[0;34m[\u001b[0m\u001b[0;34m:\u001b[0m\u001b[0;34m,\u001b[0m\u001b[0;34m:\u001b[0m\u001b[0;34m-\u001b[0m\u001b[0;36m1\u001b[0m\u001b[0;34m]\u001b[0m\u001b[0;34m]\u001b[0m\u001b[0;34m,\u001b[0m \u001b[0my_tr\u001b[0m\u001b[0;34m.\u001b[0m\u001b[0mreshape\u001b[0m\u001b[0;34m(\u001b[0m\u001b[0my_tr\u001b[0m\u001b[0;34m.\u001b[0m\u001b[0mshape\u001b[0m\u001b[0;34m[\u001b[0m\u001b[0;36m0\u001b[0m\u001b[0;34m]\u001b[0m\u001b[0;34m,\u001b[0m\u001b[0my_tr\u001b[0m\u001b[0;34m.\u001b[0m\u001b[0mshape\u001b[0m\u001b[0;34m[\u001b[0m\u001b[0;36m1\u001b[0m\u001b[0;34m]\u001b[0m\u001b[0;34m,\u001b[0m \u001b[0;36m1\u001b[0m\u001b[0;34m)\u001b[0m\u001b[0;34m[\u001b[0m\u001b[0;34m:\u001b[0m\u001b[0;34m,\u001b[0m\u001b[0;36m1\u001b[0m\u001b[0;34m:\u001b[0m\u001b[0;34m]\u001b[0m \u001b[0;34m,\u001b[0m\u001b[0mepochs\u001b[0m\u001b[0;34m=\u001b[0m\u001b[0;36m50\u001b[0m\u001b[0;34m,\u001b[0m\u001b[0mcallbacks\u001b[0m\u001b[0;34m=\u001b[0m\u001b[0;34m[\u001b[0m\u001b[0mes\u001b[0m\u001b[0;34m]\u001b[0m\u001b[0;34m,\u001b[0m\u001b[0mbatch_size\u001b[0m\u001b[0;34m=\u001b[0m\u001b[0;36m512\u001b[0m\u001b[0;34m,\u001b[0m \u001b[0mvalidation_data\u001b[0m\u001b[0;34m=\u001b[0m\u001b[0;34m(\u001b[0m\u001b[0;34m[\u001b[0m\u001b[0mx_val\u001b[0m\u001b[0;34m,\u001b[0m\u001b[0my_val\u001b[0m\u001b[0;34m[\u001b[0m\u001b[0;34m:\u001b[0m\u001b[0;34m,\u001b[0m\u001b[0;34m:\u001b[0m\u001b[0;34m-\u001b[0m\u001b[0;36m1\u001b[0m\u001b[0;34m]\u001b[0m\u001b[0;34m]\u001b[0m\u001b[0;34m,\u001b[0m \u001b[0my_val\u001b[0m\u001b[0;34m.\u001b[0m\u001b[0mreshape\u001b[0m\u001b[0;34m(\u001b[0m\u001b[0my_val\u001b[0m\u001b[0;34m.\u001b[0m\u001b[0mshape\u001b[0m\u001b[0;34m[\u001b[0m\u001b[0;36m0\u001b[0m\u001b[0;34m]\u001b[0m\u001b[0;34m,\u001b[0m\u001b[0my_val\u001b[0m\u001b[0;34m.\u001b[0m\u001b[0mshape\u001b[0m\u001b[0;34m[\u001b[0m\u001b[0;36m1\u001b[0m\u001b[0;34m]\u001b[0m\u001b[0;34m,\u001b[0m \u001b[0;36m1\u001b[0m\u001b[0;34m)\u001b[0m\u001b[0;34m[\u001b[0m\u001b[0;34m:\u001b[0m\u001b[0;34m,\u001b[0m\u001b[0;36m1\u001b[0m\u001b[0;34m:\u001b[0m\u001b[0;34m]\u001b[0m\u001b[0;34m)\u001b[0m\u001b[0;34m)\u001b[0m\u001b[0;34m\u001b[0m\u001b[0;34m\u001b[0m\u001b[0m\n\u001b[0m",
      "\u001b[0;32m/usr/local/lib/python3.9/site-packages/tensorflow/python/keras/engine/training.py\u001b[0m in \u001b[0;36mfit\u001b[0;34m(self, x, y, batch_size, epochs, verbose, callbacks, validation_split, validation_data, shuffle, class_weight, sample_weight, initial_epoch, steps_per_epoch, validation_steps, validation_batch_size, validation_freq, max_queue_size, workers, use_multiprocessing)\u001b[0m\n\u001b[1;32m   1181\u001b[0m                 _r=1):\n\u001b[1;32m   1182\u001b[0m               \u001b[0mcallbacks\u001b[0m\u001b[0;34m.\u001b[0m\u001b[0mon_train_batch_begin\u001b[0m\u001b[0;34m(\u001b[0m\u001b[0mstep\u001b[0m\u001b[0;34m)\u001b[0m\u001b[0;34m\u001b[0m\u001b[0;34m\u001b[0m\u001b[0m\n\u001b[0;32m-> 1183\u001b[0;31m               \u001b[0mtmp_logs\u001b[0m \u001b[0;34m=\u001b[0m \u001b[0mself\u001b[0m\u001b[0;34m.\u001b[0m\u001b[0mtrain_function\u001b[0m\u001b[0;34m(\u001b[0m\u001b[0miterator\u001b[0m\u001b[0;34m)\u001b[0m\u001b[0;34m\u001b[0m\u001b[0;34m\u001b[0m\u001b[0m\n\u001b[0m\u001b[1;32m   1184\u001b[0m               \u001b[0;32mif\u001b[0m \u001b[0mdata_handler\u001b[0m\u001b[0;34m.\u001b[0m\u001b[0mshould_sync\u001b[0m\u001b[0;34m:\u001b[0m\u001b[0;34m\u001b[0m\u001b[0;34m\u001b[0m\u001b[0m\n\u001b[1;32m   1185\u001b[0m                 \u001b[0mcontext\u001b[0m\u001b[0;34m.\u001b[0m\u001b[0masync_wait\u001b[0m\u001b[0;34m(\u001b[0m\u001b[0;34m)\u001b[0m\u001b[0;34m\u001b[0m\u001b[0;34m\u001b[0m\u001b[0m\n",
      "\u001b[0;32m/usr/local/lib/python3.9/site-packages/tensorflow/python/eager/def_function.py\u001b[0m in \u001b[0;36m__call__\u001b[0;34m(self, *args, **kwds)\u001b[0m\n\u001b[1;32m    887\u001b[0m \u001b[0;34m\u001b[0m\u001b[0m\n\u001b[1;32m    888\u001b[0m       \u001b[0;32mwith\u001b[0m \u001b[0mOptionalXlaContext\u001b[0m\u001b[0;34m(\u001b[0m\u001b[0mself\u001b[0m\u001b[0;34m.\u001b[0m\u001b[0m_jit_compile\u001b[0m\u001b[0;34m)\u001b[0m\u001b[0;34m:\u001b[0m\u001b[0;34m\u001b[0m\u001b[0;34m\u001b[0m\u001b[0m\n\u001b[0;32m--> 889\u001b[0;31m         \u001b[0mresult\u001b[0m \u001b[0;34m=\u001b[0m \u001b[0mself\u001b[0m\u001b[0;34m.\u001b[0m\u001b[0m_call\u001b[0m\u001b[0;34m(\u001b[0m\u001b[0;34m*\u001b[0m\u001b[0margs\u001b[0m\u001b[0;34m,\u001b[0m \u001b[0;34m**\u001b[0m\u001b[0mkwds\u001b[0m\u001b[0;34m)\u001b[0m\u001b[0;34m\u001b[0m\u001b[0;34m\u001b[0m\u001b[0m\n\u001b[0m\u001b[1;32m    890\u001b[0m \u001b[0;34m\u001b[0m\u001b[0m\n\u001b[1;32m    891\u001b[0m       \u001b[0mnew_tracing_count\u001b[0m \u001b[0;34m=\u001b[0m \u001b[0mself\u001b[0m\u001b[0;34m.\u001b[0m\u001b[0mexperimental_get_tracing_count\u001b[0m\u001b[0;34m(\u001b[0m\u001b[0;34m)\u001b[0m\u001b[0;34m\u001b[0m\u001b[0;34m\u001b[0m\u001b[0m\n",
      "\u001b[0;32m/usr/local/lib/python3.9/site-packages/tensorflow/python/eager/def_function.py\u001b[0m in \u001b[0;36m_call\u001b[0;34m(self, *args, **kwds)\u001b[0m\n\u001b[1;32m    948\u001b[0m         \u001b[0;31m# Lifting succeeded, so variables are initialized and we can run the\u001b[0m\u001b[0;34m\u001b[0m\u001b[0;34m\u001b[0m\u001b[0;34m\u001b[0m\u001b[0m\n\u001b[1;32m    949\u001b[0m         \u001b[0;31m# stateless function.\u001b[0m\u001b[0;34m\u001b[0m\u001b[0;34m\u001b[0m\u001b[0;34m\u001b[0m\u001b[0m\n\u001b[0;32m--> 950\u001b[0;31m         \u001b[0;32mreturn\u001b[0m \u001b[0mself\u001b[0m\u001b[0;34m.\u001b[0m\u001b[0m_stateless_fn\u001b[0m\u001b[0;34m(\u001b[0m\u001b[0;34m*\u001b[0m\u001b[0margs\u001b[0m\u001b[0;34m,\u001b[0m \u001b[0;34m**\u001b[0m\u001b[0mkwds\u001b[0m\u001b[0;34m)\u001b[0m\u001b[0;34m\u001b[0m\u001b[0;34m\u001b[0m\u001b[0m\n\u001b[0m\u001b[1;32m    951\u001b[0m     \u001b[0;32melse\u001b[0m\u001b[0;34m:\u001b[0m\u001b[0;34m\u001b[0m\u001b[0;34m\u001b[0m\u001b[0m\n\u001b[1;32m    952\u001b[0m       \u001b[0m_\u001b[0m\u001b[0;34m,\u001b[0m \u001b[0m_\u001b[0m\u001b[0;34m,\u001b[0m \u001b[0m_\u001b[0m\u001b[0;34m,\u001b[0m \u001b[0mfiltered_flat_args\u001b[0m \u001b[0;34m=\u001b[0m\u001b[0;31m \u001b[0m\u001b[0;31m\\\u001b[0m\u001b[0;34m\u001b[0m\u001b[0;34m\u001b[0m\u001b[0m\n",
      "\u001b[0;32m/usr/local/lib/python3.9/site-packages/tensorflow/python/eager/function.py\u001b[0m in \u001b[0;36m__call__\u001b[0;34m(self, *args, **kwargs)\u001b[0m\n\u001b[1;32m   3021\u001b[0m       (graph_function,\n\u001b[1;32m   3022\u001b[0m        filtered_flat_args) = self._maybe_define_function(args, kwargs)\n\u001b[0;32m-> 3023\u001b[0;31m     return graph_function._call_flat(\n\u001b[0m\u001b[1;32m   3024\u001b[0m         filtered_flat_args, captured_inputs=graph_function.captured_inputs)  # pylint: disable=protected-access\n\u001b[1;32m   3025\u001b[0m \u001b[0;34m\u001b[0m\u001b[0m\n",
      "\u001b[0;32m/usr/local/lib/python3.9/site-packages/tensorflow/python/eager/function.py\u001b[0m in \u001b[0;36m_call_flat\u001b[0;34m(self, args, captured_inputs, cancellation_manager)\u001b[0m\n\u001b[1;32m   1958\u001b[0m         and executing_eagerly):\n\u001b[1;32m   1959\u001b[0m       \u001b[0;31m# No tape is watching; skip to running the function.\u001b[0m\u001b[0;34m\u001b[0m\u001b[0;34m\u001b[0m\u001b[0;34m\u001b[0m\u001b[0m\n\u001b[0;32m-> 1960\u001b[0;31m       return self._build_call_outputs(self._inference_function.call(\n\u001b[0m\u001b[1;32m   1961\u001b[0m           ctx, args, cancellation_manager=cancellation_manager))\n\u001b[1;32m   1962\u001b[0m     forward_backward = self._select_forward_and_backward_functions(\n",
      "\u001b[0;32m/usr/local/lib/python3.9/site-packages/tensorflow/python/eager/function.py\u001b[0m in \u001b[0;36mcall\u001b[0;34m(self, ctx, args, cancellation_manager)\u001b[0m\n\u001b[1;32m    589\u001b[0m       \u001b[0;32mwith\u001b[0m \u001b[0m_InterpolateFunctionError\u001b[0m\u001b[0;34m(\u001b[0m\u001b[0mself\u001b[0m\u001b[0;34m)\u001b[0m\u001b[0;34m:\u001b[0m\u001b[0;34m\u001b[0m\u001b[0;34m\u001b[0m\u001b[0m\n\u001b[1;32m    590\u001b[0m         \u001b[0;32mif\u001b[0m \u001b[0mcancellation_manager\u001b[0m \u001b[0;32mis\u001b[0m \u001b[0;32mNone\u001b[0m\u001b[0;34m:\u001b[0m\u001b[0;34m\u001b[0m\u001b[0;34m\u001b[0m\u001b[0m\n\u001b[0;32m--> 591\u001b[0;31m           outputs = execute.execute(\n\u001b[0m\u001b[1;32m    592\u001b[0m               \u001b[0mstr\u001b[0m\u001b[0;34m(\u001b[0m\u001b[0mself\u001b[0m\u001b[0;34m.\u001b[0m\u001b[0msignature\u001b[0m\u001b[0;34m.\u001b[0m\u001b[0mname\u001b[0m\u001b[0;34m)\u001b[0m\u001b[0;34m,\u001b[0m\u001b[0;34m\u001b[0m\u001b[0;34m\u001b[0m\u001b[0m\n\u001b[1;32m    593\u001b[0m               \u001b[0mnum_outputs\u001b[0m\u001b[0;34m=\u001b[0m\u001b[0mself\u001b[0m\u001b[0;34m.\u001b[0m\u001b[0m_num_outputs\u001b[0m\u001b[0;34m,\u001b[0m\u001b[0;34m\u001b[0m\u001b[0;34m\u001b[0m\u001b[0m\n",
      "\u001b[0;32m/usr/local/lib/python3.9/site-packages/tensorflow/python/eager/execute.py\u001b[0m in \u001b[0;36mquick_execute\u001b[0;34m(op_name, num_outputs, inputs, attrs, ctx, name)\u001b[0m\n\u001b[1;32m     57\u001b[0m   \u001b[0;32mtry\u001b[0m\u001b[0;34m:\u001b[0m\u001b[0;34m\u001b[0m\u001b[0;34m\u001b[0m\u001b[0m\n\u001b[1;32m     58\u001b[0m     \u001b[0mctx\u001b[0m\u001b[0;34m.\u001b[0m\u001b[0mensure_initialized\u001b[0m\u001b[0;34m(\u001b[0m\u001b[0;34m)\u001b[0m\u001b[0;34m\u001b[0m\u001b[0;34m\u001b[0m\u001b[0m\n\u001b[0;32m---> 59\u001b[0;31m     tensors = pywrap_tfe.TFE_Py_Execute(ctx._handle, device_name, op_name,\n\u001b[0m\u001b[1;32m     60\u001b[0m                                         inputs, attrs, num_outputs)\n\u001b[1;32m     61\u001b[0m   \u001b[0;32mexcept\u001b[0m \u001b[0mcore\u001b[0m\u001b[0;34m.\u001b[0m\u001b[0m_NotOkStatusException\u001b[0m \u001b[0;32mas\u001b[0m \u001b[0me\u001b[0m\u001b[0;34m:\u001b[0m\u001b[0;34m\u001b[0m\u001b[0;34m\u001b[0m\u001b[0m\n",
      "\u001b[0;31mResourceExhaustedError\u001b[0m: 2 root error(s) found.\n  (0) Resource exhausted:  OOM when allocating tensor with shape[9728,5911] and type float on /job:localhost/replica:0/task:0/device:GPU:0 by allocator GPU_0_bfc\n\t [[node model/time_distributed/dense/MatMul (defined at <ipython-input-12-93aee35d4b44>:1) ]]\nHint: If you want to see a list of allocated tensors when OOM happens, add report_tensor_allocations_upon_oom to RunOptions for current allocation info.\n\n\t [[gradient_tape/model/embedding/embedding_lookup/Reshape/_114]]\nHint: If you want to see a list of allocated tensors when OOM happens, add report_tensor_allocations_upon_oom to RunOptions for current allocation info.\n\n  (1) Resource exhausted:  OOM when allocating tensor with shape[9728,5911] and type float on /job:localhost/replica:0/task:0/device:GPU:0 by allocator GPU_0_bfc\n\t [[node model/time_distributed/dense/MatMul (defined at <ipython-input-12-93aee35d4b44>:1) ]]\nHint: If you want to see a list of allocated tensors when OOM happens, add report_tensor_allocations_upon_oom to RunOptions for current allocation info.\n\n0 successful operations.\n0 derived errors ignored. [Op:__inference_train_function_13097]\n\nFunction call stack:\ntrain_function -> train_function\n"
     ]
    }
   ],
   "source": [
    "history=model.fit([x_tr,y_tr[:,:-1]], y_tr.reshape(y_tr.shape[0],y_tr.shape[1], 1)[:,1:] ,epochs=50,callbacks=[es],batch_size=512, validation_data=([x_val,y_val[:,:-1]], y_val.reshape(y_val.shape[0],y_val.shape[1], 1)[:,1:]))"
   ]
  },
  {
   "cell_type": "code",
   "execution_count": null,
   "metadata": {},
   "outputs": [],
   "source": []
  }
 ],
 "metadata": {
  "kernelspec": {
   "display_name": "Python 3",
   "language": "python",
   "name": "python3"
  },
  "language_info": {
   "codemirror_mode": {
    "name": "ipython",
    "version": 3
   },
   "file_extension": ".py",
   "mimetype": "text/x-python",
   "name": "python",
   "nbconvert_exporter": "python",
   "pygments_lexer": "ipython3",
   "version": "3.9.0"
  }
 },
 "nbformat": 4,
 "nbformat_minor": 4
}
