{
 "cells": [
  {
   "cell_type": "markdown",
   "metadata": {},
   "source": [
    "# Curso: MCC639E\n",
    "\n",
    "#### Integrantes\n",
    "\n",
    "- Carlos Tello Tapia\n",
    "- Lennin Quiso Córdova\n",
    "- Milton Palacin Grijalva\n",
    "___\n",
    "\n",
    "m# PARTE PARTE: TEXT SUMMARIZATION"
   ]
  },
  {
   "cell_type": "markdown",
   "metadata": {},
   "source": [
    "## I. Declaración de librerías"
   ]
  },
  {
   "cell_type": "code",
   "execution_count": 6,
   "metadata": {},
   "outputs": [],
   "source": [
    "# Librerías de apoyo\n",
    "# ==============================================================================\n",
    "from tqdm import tqdm\n",
    "\n",
    "# Tratamiento de datos\n",
    "# ==============================================================================\n",
    "#import matplotlib.pyplot as plt\n",
    "import pandas as pd\n",
    "#import seaborn as sns\n",
    "#import numpy as np\n",
    "#import mglearn\n",
    "\n",
    "# Tratamiento de texto\n",
    "# ==============================================================================\n",
    "#from nltk import FreqDist\n",
    "#from nltk import word_tokenize\n",
    "#from sklearn.feature_extraction.text import TfidfVectorizer, CountVectorizer\n",
    "#from sklearn.decomposition import LatentDirichletAllocation\n",
    "#from sklearn.model_selection import GridSearchCV\n",
    "#from sklearn.manifold import TSNE\n",
    "\n",
    "# Visualización Jupyter\n",
    "# ==============================================================================\n",
    "import warnings\n",
    "warnings.filterwarnings('ignore')\n",
    "\n",
    "# otras configuraciones\n",
    "# ==============================================================================\n",
    "tqdm.pandas()"
   ]
  },
  {
   "cell_type": "markdown",
   "metadata": {},
   "source": [
    "## II. Cargar y explorar el dataset"
   ]
  },
  {
   "cell_type": "code",
   "execution_count": 8,
   "metadata": {},
   "outputs": [
    {
     "name": "stdout",
     "output_type": "stream",
     "text": [
      "CPU times: user 780 ms, sys: 88.7 ms, total: 869 ms\n",
      "Wall time: 867 ms\n"
     ]
    },
    {
     "data": {
      "text/html": [
       "<div>\n",
       "<style scoped>\n",
       "    .dataframe tbody tr th:only-of-type {\n",
       "        vertical-align: middle;\n",
       "    }\n",
       "\n",
       "    .dataframe tbody tr th {\n",
       "        vertical-align: top;\n",
       "    }\n",
       "\n",
       "    .dataframe thead th {\n",
       "        text-align: right;\n",
       "    }\n",
       "</style>\n",
       "<table border=\"1\" class=\"dataframe\">\n",
       "  <thead>\n",
       "    <tr style=\"text-align: right;\">\n",
       "      <th></th>\n",
       "      <th>category</th>\n",
       "      <th>title</th>\n",
       "      <th>date</th>\n",
       "      <th>abstract</th>\n",
       "      <th>content</th>\n",
       "      <th>content_for_topic</th>\n",
       "      <th>content_for_summary</th>\n",
       "      <th>abstract_for_summary</th>\n",
       "    </tr>\n",
       "  </thead>\n",
       "  <tbody>\n",
       "    <tr>\n",
       "      <th>2995</th>\n",
       "      <td>ENERGIA Y MINAS</td>\n",
       "      <td>RESOLUCION MINISTERIAL  N° 161-2021-MINEM/DM</td>\n",
       "      <td>14/06/2021</td>\n",
       "      <td>Otorgan concesión temporal para desarrollar Es...</td>\n",
       "      <td>Lima, 1 de junio de 2021 VISTOS: El Expediente...</td>\n",
       "      <td>lima junio visto expediente solicitud otorgami...</td>\n",
       "      <td>lima junio vistos expediente solicitud otorgam...</td>\n",
       "      <td>otorgan concesión temporal desarrollar estudio...</td>\n",
       "    </tr>\n",
       "    <tr>\n",
       "      <th>1162</th>\n",
       "      <td>ORGANISMO SUPERVISOR DE INVERSION PRIVADA EN T...</td>\n",
       "      <td>RESOLUCION  N° 057-2021-PD/OSIPTEL</td>\n",
       "      <td>22/07/2021</td>\n",
       "      <td>Convocan a Elecciones de los miembros del Cons...</td>\n",
       "      <td>Lima, 14 de julio de 2021 VISTOS: La Resolució...</td>\n",
       "      <td>lima julio visto resolución consejo directivo ...</td>\n",
       "      <td>lima julio vistos resolución consejo directivo...</td>\n",
       "      <td>convocan elecciones miembros consejo usuarios ...</td>\n",
       "    </tr>\n",
       "    <tr>\n",
       "      <th>3710</th>\n",
       "      <td>INSTITUTO NACIONAL DE DEFENSA DE LA COMPETENCI...</td>\n",
       "      <td>RESOLUCION  N° 000059-2021-PRE/INDECOPI</td>\n",
       "      <td>29/05/2021</td>\n",
       "      <td>Designan Jefe del Órgano Resolutivo de Procedi...</td>\n",
       "      <td>San Borja, 27 de mayo de 2021 VISTOS: El Infor...</td>\n",
       "      <td>borjo mayo visto informe indecopi informe inde...</td>\n",
       "      <td>borja mayo vistos informe indecopi informe ind...</td>\n",
       "      <td>designan jefe órgano resolutivo procedimientos...</td>\n",
       "    </tr>\n",
       "    <tr>\n",
       "      <th>3076</th>\n",
       "      <td>CONTRALORIA GENERAL DE LA REPUBLICA</td>\n",
       "      <td>RESOLUCION  N° 134-2021-CG</td>\n",
       "      <td>12/06/2021</td>\n",
       "      <td>Aprueban la Directiva Nº 007-2021-CG/NORM Serv...</td>\n",
       "      <td>Lima, 11 de junio de 2021 VISTOS: El Memorando...</td>\n",
       "      <td>lima junio visto memorando ogps oficina gestió...</td>\n",
       "      <td>lima junio vistos memorando ogps oficina gesti...</td>\n",
       "      <td>aprueban directiva norm servicio control espec...</td>\n",
       "    </tr>\n",
       "    <tr>\n",
       "      <th>2241</th>\n",
       "      <td>DESARROLLO AGRARIO Y RIEGO</td>\n",
       "      <td>RESOLUCION JEFATURAL  N° 130-2021-ANA</td>\n",
       "      <td>29/06/2021</td>\n",
       "      <td>Establecen disposiciones relativas a la vigenc...</td>\n",
       "      <td>Lima, 28 de junio de 2021 VISTOS:  El Informe ...</td>\n",
       "      <td>lima junio visto informe técnico dpdrh fecha e...</td>\n",
       "      <td>lima junio vistos informe técnico dpdrh fecha ...</td>\n",
       "      <td>establecen disposiciones relativas vigencia ca...</td>\n",
       "    </tr>\n",
       "  </tbody>\n",
       "</table>\n",
       "</div>"
      ],
      "text/plain": [
       "                                               category  \\\n",
       "2995                                    ENERGIA Y MINAS   \n",
       "1162  ORGANISMO SUPERVISOR DE INVERSION PRIVADA EN T...   \n",
       "3710  INSTITUTO NACIONAL DE DEFENSA DE LA COMPETENCI...   \n",
       "3076                CONTRALORIA GENERAL DE LA REPUBLICA   \n",
       "2241                         DESARROLLO AGRARIO Y RIEGO   \n",
       "\n",
       "                                             title        date  \\\n",
       "2995  RESOLUCION MINISTERIAL  N° 161-2021-MINEM/DM  14/06/2021   \n",
       "1162            RESOLUCION  N° 057-2021-PD/OSIPTEL  22/07/2021   \n",
       "3710       RESOLUCION  N° 000059-2021-PRE/INDECOPI  29/05/2021   \n",
       "3076                    RESOLUCION  N° 134-2021-CG  12/06/2021   \n",
       "2241         RESOLUCION JEFATURAL  N° 130-2021-ANA  29/06/2021   \n",
       "\n",
       "                                               abstract  \\\n",
       "2995  Otorgan concesión temporal para desarrollar Es...   \n",
       "1162  Convocan a Elecciones de los miembros del Cons...   \n",
       "3710  Designan Jefe del Órgano Resolutivo de Procedi...   \n",
       "3076  Aprueban la Directiva Nº 007-2021-CG/NORM Serv...   \n",
       "2241  Establecen disposiciones relativas a la vigenc...   \n",
       "\n",
       "                                                content  \\\n",
       "2995  Lima, 1 de junio de 2021 VISTOS: El Expediente...   \n",
       "1162  Lima, 14 de julio de 2021 VISTOS: La Resolució...   \n",
       "3710  San Borja, 27 de mayo de 2021 VISTOS: El Infor...   \n",
       "3076  Lima, 11 de junio de 2021 VISTOS: El Memorando...   \n",
       "2241  Lima, 28 de junio de 2021 VISTOS:  El Informe ...   \n",
       "\n",
       "                                      content_for_topic  \\\n",
       "2995  lima junio visto expediente solicitud otorgami...   \n",
       "1162  lima julio visto resolución consejo directivo ...   \n",
       "3710  borjo mayo visto informe indecopi informe inde...   \n",
       "3076  lima junio visto memorando ogps oficina gestió...   \n",
       "2241  lima junio visto informe técnico dpdrh fecha e...   \n",
       "\n",
       "                                    content_for_summary  \\\n",
       "2995  lima junio vistos expediente solicitud otorgam...   \n",
       "1162  lima julio vistos resolución consejo directivo...   \n",
       "3710  borja mayo vistos informe indecopi informe ind...   \n",
       "3076  lima junio vistos memorando ogps oficina gesti...   \n",
       "2241  lima junio vistos informe técnico dpdrh fecha ...   \n",
       "\n",
       "                                   abstract_for_summary  \n",
       "2995  otorgan concesión temporal desarrollar estudio...  \n",
       "1162  convocan elecciones miembros consejo usuarios ...  \n",
       "3710  designan jefe órgano resolutivo procedimientos...  \n",
       "3076  aprueban directiva norm servicio control espec...  \n",
       "2241  establecen disposiciones relativas vigencia ca...  "
      ]
     },
     "execution_count": 8,
     "metadata": {},
     "output_type": "execute_result"
    }
   ],
   "source": [
    "%%time\n",
    "dataset_base = pd.read_csv(\"dataset_base.csv\", sep='\\t', encoding='utf-8')\n",
    "dataset_base.sample(5)"
   ]
  },
  {
   "cell_type": "markdown",
   "metadata": {},
   "source": [
    "___\n",
    "Utilizar las columnas: \n",
    "* **content_for_summary**\n",
    "* **abstract_for_summary**\n",
    "\n",
    "Estas columnas a diferencia de **content_for_topic** son textos pre-procesados sin stemmer o lemmatizer. Es necesario mantener la palabras originales para ayudar a la red a mejorar su exactitus en la generación del \"summary\" \n",
    "___"
   ]
  },
  {
   "cell_type": "code",
   "execution_count": 10,
   "metadata": {},
   "outputs": [],
   "source": [
    "%history -g -f anyfilename"
   ]
  },
  {
   "cell_type": "code",
   "execution_count": 11,
   "metadata": {},
   "outputs": [],
   "source": [
    "%history -g -f notebook_file.ipynb"
   ]
  },
  {
   "cell_type": "code",
   "execution_count": null,
   "metadata": {},
   "outputs": [],
   "source": []
  }
 ],
 "metadata": {
  "kernelspec": {
   "display_name": "Python 3",
   "language": "python",
   "name": "python3"
  },
  "language_info": {
   "codemirror_mode": {
    "name": "ipython",
    "version": 3
   },
   "file_extension": ".py",
   "mimetype": "text/x-python",
   "name": "python",
   "nbconvert_exporter": "python",
   "pygments_lexer": "ipython3",
   "version": "3.9.0"
  }
 },
 "nbformat": 4,
 "nbformat_minor": 4
}
