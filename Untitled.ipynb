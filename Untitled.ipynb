{
 "cells": [
  {
   "cell_type": "code",
   "execution_count": 5,
   "metadata": {},
   "outputs": [
    {
     "data": {
      "text/plain": [
       "'milton de palacin  qwe qweq'"
      ]
     },
     "execution_count": 5,
     "metadata": {},
     "output_type": "execute_result"
    }
   ],
   "source": [
    "import re\n",
    "txt = \"milton de palacin s qwe qweq\"\n",
    "txt = re.sub(r'\\b\\w{1,1}\\b', '', txt)\n",
    "txt"
   ]
  },
  {
   "cell_type": "code",
   "execution_count": 17,
   "metadata": {},
   "outputs": [],
   "source": [
    "import requests\n",
    "from bs4 import BeautifulSoup\n",
    "from selenium import webdriver\n",
    "from selenium.webdriver.firefox.options import Options\n",
    "import time"
   ]
  },
  {
   "cell_type": "code",
   "execution_count": 18,
   "metadata": {},
   "outputs": [],
   "source": [
    "firefox_driver_path = \"/DATA/data/installers/firefoxdriver/geckodriver\"\n",
    "url=\"https://elcomercio.pe/mundo/asia/los-jemeres-rojos-el-partido-que-mato-a-un-tercio-de-la-poblacion-de-camboya-y-cuyo-ultimo-lider-se-dice-inocente-pol-pot-onu-partido-comunista-de-kampuchea-khieu-samphan-noticia/\"\n",
    "# page_source = requests.get(url).text\n",
    "# book_pretty = BeautifulSoup(page_source, \"lxml\")\n",
    "# book_pretty.text"
   ]
  },
  {
   "cell_type": "code",
   "execution_count": 26,
   "metadata": {},
   "outputs": [],
   "source": [
    "#profile = webdriver.FirefoxProfile()\n",
    "#profile.set_preference(\"javascript.enabled\", False)\n",
    "#driver = webdriver.Firefox(profile)\n",
    "profile = webdriver.FirefoxProfile()\n",
    "profile.DEFAULT_PREFERENCES['frozen']['javascript.enabled'] = False\n",
    "profile.set_preference(\"app.update.auto\", False)\n",
    "profile.set_preference(\"app.update.enabled\", False)\n",
    "profile.update_preferences()"
   ]
  },
  {
   "cell_type": "code",
   "execution_count": 27,
   "metadata": {},
   "outputs": [],
   "source": [
    "options = Options()\n",
    "#options.headless = True\n",
    "driver = webdriver.Firefox(executable_path=firefox_driver_path, options=options, firefox_profile= profile)\n",
    "#time.sleep(3)"
   ]
  },
  {
   "cell_type": "code",
   "execution_count": 28,
   "metadata": {},
   "outputs": [],
   "source": [
    "driver.get(url)\n",
    "#time.sleep(3)"
   ]
  },
  {
   "cell_type": "code",
   "execution_count": 21,
   "metadata": {},
   "outputs": [
    {
     "data": {
      "text/plain": [
       "\u001b[0;31mInit signature:\u001b[0m\n",
       "\u001b[0mwebdriver\u001b[0m\u001b[0;34m.\u001b[0m\u001b[0mFirefox\u001b[0m\u001b[0;34m(\u001b[0m\u001b[0;34m\u001b[0m\n",
       "\u001b[0;34m\u001b[0m    \u001b[0mfirefox_profile\u001b[0m\u001b[0;34m=\u001b[0m\u001b[0;32mNone\u001b[0m\u001b[0;34m,\u001b[0m\u001b[0;34m\u001b[0m\n",
       "\u001b[0;34m\u001b[0m    \u001b[0mfirefox_binary\u001b[0m\u001b[0;34m=\u001b[0m\u001b[0;32mNone\u001b[0m\u001b[0;34m,\u001b[0m\u001b[0;34m\u001b[0m\n",
       "\u001b[0;34m\u001b[0m    \u001b[0mtimeout\u001b[0m\u001b[0;34m=\u001b[0m\u001b[0;36m30\u001b[0m\u001b[0;34m,\u001b[0m\u001b[0;34m\u001b[0m\n",
       "\u001b[0;34m\u001b[0m    \u001b[0mcapabilities\u001b[0m\u001b[0;34m=\u001b[0m\u001b[0;32mNone\u001b[0m\u001b[0;34m,\u001b[0m\u001b[0;34m\u001b[0m\n",
       "\u001b[0;34m\u001b[0m    \u001b[0mproxy\u001b[0m\u001b[0;34m=\u001b[0m\u001b[0;32mNone\u001b[0m\u001b[0;34m,\u001b[0m\u001b[0;34m\u001b[0m\n",
       "\u001b[0;34m\u001b[0m    \u001b[0mexecutable_path\u001b[0m\u001b[0;34m=\u001b[0m\u001b[0;34m'geckodriver'\u001b[0m\u001b[0;34m,\u001b[0m\u001b[0;34m\u001b[0m\n",
       "\u001b[0;34m\u001b[0m    \u001b[0moptions\u001b[0m\u001b[0;34m=\u001b[0m\u001b[0;32mNone\u001b[0m\u001b[0;34m,\u001b[0m\u001b[0;34m\u001b[0m\n",
       "\u001b[0;34m\u001b[0m    \u001b[0mservice_log_path\u001b[0m\u001b[0;34m=\u001b[0m\u001b[0;34m'geckodriver.log'\u001b[0m\u001b[0;34m,\u001b[0m\u001b[0;34m\u001b[0m\n",
       "\u001b[0;34m\u001b[0m    \u001b[0mfirefox_options\u001b[0m\u001b[0;34m=\u001b[0m\u001b[0;32mNone\u001b[0m\u001b[0;34m,\u001b[0m\u001b[0;34m\u001b[0m\n",
       "\u001b[0;34m\u001b[0m    \u001b[0mservice_args\u001b[0m\u001b[0;34m=\u001b[0m\u001b[0;32mNone\u001b[0m\u001b[0;34m,\u001b[0m\u001b[0;34m\u001b[0m\n",
       "\u001b[0;34m\u001b[0m    \u001b[0mdesired_capabilities\u001b[0m\u001b[0;34m=\u001b[0m\u001b[0;32mNone\u001b[0m\u001b[0;34m,\u001b[0m\u001b[0;34m\u001b[0m\n",
       "\u001b[0;34m\u001b[0m    \u001b[0mlog_path\u001b[0m\u001b[0;34m=\u001b[0m\u001b[0;32mNone\u001b[0m\u001b[0;34m,\u001b[0m\u001b[0;34m\u001b[0m\n",
       "\u001b[0;34m\u001b[0m    \u001b[0mkeep_alive\u001b[0m\u001b[0;34m=\u001b[0m\u001b[0;32mTrue\u001b[0m\u001b[0;34m,\u001b[0m\u001b[0;34m\u001b[0m\n",
       "\u001b[0;34m\u001b[0m\u001b[0;34m)\u001b[0m\u001b[0;34m\u001b[0m\u001b[0;34m\u001b[0m\u001b[0m\n",
       "\u001b[0;31mDocstring:\u001b[0m     \n",
       "Controls a browser by sending commands to a remote server.\n",
       "This server is expected to be running the WebDriver wire protocol\n",
       "as defined at\n",
       "https://github.com/SeleniumHQ/selenium/wiki/JsonWireProtocol\n",
       "\n",
       ":Attributes:\n",
       " - session_id - String ID of the browser session started and controlled by this WebDriver.\n",
       " - capabilities - Dictionaty of effective capabilities of this browser session as returned\n",
       "     by the remote server. See https://github.com/SeleniumHQ/selenium/wiki/DesiredCapabilities\n",
       " - command_executor - remote_connection.RemoteConnection object used to execute commands.\n",
       " - error_handler - errorhandler.ErrorHandler object used to handle errors.\n",
       "\u001b[0;31mInit docstring:\u001b[0m\n",
       "Starts a new local session of Firefox.\n",
       "\n",
       "Based on the combination and specificity of the various keyword\n",
       "arguments, a capabilities dictionary will be constructed that\n",
       "is passed to the remote end.\n",
       "\n",
       "The keyword arguments given to this constructor are helpers to\n",
       "more easily allow Firefox WebDriver sessions to be customised\n",
       "with different options.  They are mapped on to a capabilities\n",
       "dictionary that is passed on to the remote end.\n",
       "\n",
       "As some of the options, such as `firefox_profile` and\n",
       "`options.profile` are mutually exclusive, precedence is\n",
       "given from how specific the setting is.  `capabilities` is the\n",
       "least specific keyword argument, followed by `options`,\n",
       "followed by `firefox_binary` and `firefox_profile`.\n",
       "\n",
       "In practice this means that if `firefox_profile` and\n",
       "`options.profile` are both set, the selected profile\n",
       "instance will always come from the most specific variable.\n",
       "In this case that would be `firefox_profile`.  This will result in\n",
       "`options.profile` to be ignored because it is considered\n",
       "a less specific setting than the top-level `firefox_profile`\n",
       "keyword argument.  Similarily, if you had specified a\n",
       "`capabilities[\"moz:firefoxOptions\"][\"profile\"]` Base64 string,\n",
       "this would rank below `options.profile`.\n",
       "\n",
       ":param firefox_profile: Instance of ``FirefoxProfile`` object\n",
       "    or a string.  If undefined, a fresh profile will be created\n",
       "    in a temporary location on the system.\n",
       ":param firefox_binary: Instance of ``FirefoxBinary`` or full\n",
       "    path to the Firefox binary.  If undefined, the system default\n",
       "    Firefox installation will  be used.\n",
       ":param timeout: Time to wait for Firefox to launch when using\n",
       "    the extension connection.\n",
       ":param capabilities: Dictionary of desired capabilities.\n",
       ":param proxy: The proxy settings to us when communicating with\n",
       "    Firefox via the extension connection.\n",
       ":param executable_path: Full path to override which geckodriver\n",
       "    binary to use for Firefox 47.0.1 and greater, which\n",
       "    defaults to picking up the binary from the system path.\n",
       ":param options: Instance of ``options.Options``.\n",
       ":param service_log_path: Where to log information from the driver.\n",
       ":param firefox_options: Deprecated argument for options\n",
       ":param service_args: List of args to pass to the driver service\n",
       ":param desired_capabilities: alias of capabilities. In future\n",
       "    versions of this library, this will replace 'capabilities'.\n",
       "    This will make the signature consistent with RemoteWebDriver.\n",
       ":param log_path: Deprecated argument for service_log_path\n",
       ":param keep_alive: Whether to configure remote_connection.RemoteConnection to use\n",
       "     HTTP keep-alive.\n",
       "\u001b[0;31mFile:\u001b[0m           /usr/local/lib/python3.9/site-packages/selenium/webdriver/firefox/webdriver.py\n",
       "\u001b[0;31mType:\u001b[0m           type\n",
       "\u001b[0;31mSubclasses:\u001b[0m     \n"
      ]
     },
     "metadata": {},
     "output_type": "display_data"
    }
   ],
   "source": [
    " webdriver.Firefox?"
   ]
  },
  {
   "cell_type": "code",
   "execution_count": null,
   "metadata": {},
   "outputs": [],
   "source": []
  }
 ],
 "metadata": {
  "kernelspec": {
   "display_name": "Python 3",
   "language": "python",
   "name": "python3"
  },
  "language_info": {
   "codemirror_mode": {
    "name": "ipython",
    "version": 3
   },
   "file_extension": ".py",
   "mimetype": "text/x-python",
   "name": "python",
   "nbconvert_exporter": "python",
   "pygments_lexer": "ipython3",
   "version": "3.9.0"
  }
 },
 "nbformat": 4,
 "nbformat_minor": 4
}
