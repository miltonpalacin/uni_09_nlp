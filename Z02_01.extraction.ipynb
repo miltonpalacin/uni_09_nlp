{
 "cells": [
  {
   "cell_type": "code",
   "execution_count": 12,
   "metadata": {
    "tags": []
   },
   "outputs": [],
   "source": [
    "# Extraccion de texto de página web\n",
    "# ==============================================================================\n",
    "import requests\n",
    "from bs4 import BeautifulSoup\n",
    "from selenium import webdriver\n",
    "from selenium.webdriver.firefox.options import Options\n",
    "from selenium.webdriver.common.keys import Keys\n",
    "\n",
    "# Librerías de apoyo\n",
    "# ==============================================================================\n",
    "import time\n",
    "import re\n",
    "from tqdm import tqdm\n",
    "\n",
    "# Tratamiento de datos\n",
    "# ==============================================================================\n",
    "import pandas as pd\n",
    "\n",
    "# Tratamiento de texto\n",
    "# ==============================================================================\n",
    "from nltk.corpus import stopwords\n",
    "from nltk.tokenize.regexp import regexp_tokenize\n",
    "import spacy_spanish_lemmatizer\n",
    "import es_core_news_sm\n",
    "import string\n",
    "\n",
    "# Visualización Jupyter\n",
    "# ==============================================================================\n",
    "import warnings\n",
    "warnings.filterwarnings('ignore')\n",
    "\n",
    "# otras configuraciones\n",
    "# ==============================================================================\n",
    "tqdm.pandas()"
   ]
  },
  {
   "cell_type": "code",
   "execution_count": 2,
   "metadata": {},
   "outputs": [
    {
     "name": "stdout",
     "output_type": "stream",
     "text": [
      "CPU times: user 5.02 ms, sys: 26 ms, total: 31.1 ms\n",
      "Wall time: 1.35 s\n"
     ]
    }
   ],
   "source": [
    "%%time\n",
    "chrome_driver_path = \"/usr/lib/chromium-browser/chromedriver\"\n",
    "options = webdriver.ChromeOptions()\n",
    "options.add_argument('--incognito')\n",
    "options.add_argument('--headless')\n",
    "options.add_argument(\"--disable-extensions\")\n",
    "options.add_argument(\"--disable-gpu\")\n",
    "options.add_argument(\"--disable-dev-shm-usage\")\n",
    "options.add_argument(\"--no-sandbox\")\n",
    "driver = webdriver.Chrome(executable_path=chrome_driver_path, options=options)"
   ]
  },
  {
   "cell_type": "code",
   "execution_count": 3,
   "metadata": {},
   "outputs": [
    {
     "name": "stdout",
     "output_type": "stream",
     "text": [
      "CPU times: user 1.46 ms, sys: 5.53 ms, total: 6.98 ms\n",
      "Wall time: 9.53 s\n"
     ]
    }
   ],
   "source": [
    "%%time\n",
    "driver.get(\"https://diariooficial.elperuano.pe/Normas\")\n",
    "time.sleep(3)"
   ]
  },
  {
   "cell_type": "code",
   "execution_count": 4,
   "metadata": {},
   "outputs": [
    {
     "name": "stdout",
     "output_type": "stream",
     "text": [
      "CPU times: user 11.7 ms, sys: 747 µs, total: 12.4 ms\n",
      "Wall time: 3.28 s\n"
     ]
    }
   ],
   "source": [
    "%%time\n",
    "seach_date_begin = driver.find_element_by_id(\"cddesde\")\n",
    "seach_date_end = driver.find_element_by_id(\"cdhasta\")\n",
    "seach_date_begin.clear()\n",
    "seach_date_end.clear()\n",
    "seach_date_begin.send_keys(\"01/07/2021\")\n",
    "seach_date_end.send_keys(\"16/08/2021\")\n",
    "seach_date_end.send_keys(Keys.RETURN)\n",
    "seach_date_end.send_keys(Keys.RETURN)\n",
    "time.sleep(3)"
   ]
  },
  {
   "cell_type": "code",
   "execution_count": 5,
   "metadata": {},
   "outputs": [
    {
     "name": "stdout",
     "output_type": "stream",
     "text": [
      "CPU times: user 1.24 s, sys: 51.1 ms, total: 1.29 s\n",
      "Wall time: 2.78 s\n"
     ]
    },
    {
     "data": {
      "text/plain": [
       "2124"
      ]
     },
     "execution_count": 5,
     "metadata": {},
     "output_type": "execute_result"
    }
   ],
   "source": [
    "%%time\n",
    "page_source = driver.page_source\n",
    "pretty_page = BeautifulSoup(page_source, \"lxml\")\n",
    "laws = pretty_page.find_all(\"article\", class_=\"edicionesoficiales_articulos\")\n",
    "len(laws)"
   ]
  },
  {
   "cell_type": "code",
   "execution_count": 6,
   "metadata": {},
   "outputs": [
    {
     "name": "stderr",
     "output_type": "stream",
     "text": [
      "100%|██████████| 2124/2124 [18:28<00:00,  1.92it/s]  "
     ]
    },
    {
     "name": "stdout",
     "output_type": "stream",
     "text": [
      "CPU times: user 1min 33s, sys: 2.22 s, total: 1min 35s\n",
      "Wall time: 18min 28s\n"
     ]
    },
    {
     "name": "stderr",
     "output_type": "stream",
     "text": [
      "\n"
     ]
    }
   ],
   "source": [
    "%%time\n",
    "data = []\n",
    "\n",
    "for law in tqdm(laws):\n",
    "    row = {}\n",
    "    row[\"category\"] = law.select_one(\".ediciones_texto h4\").text\n",
    "    row[\"title\"] = law.select_one(\".ediciones_texto h5\").text\n",
    "    row[\"date\"] = law.select_one(\".ediciones_texto p b\").text.replace(\"Fecha: \", \"\").strip()\n",
    "    row[\"abstract\"] = law.select_one(\".ediciones_texto p:nth-of-type(2)\").text\n",
    "    content_url = law.select_one(\".ediciones_texto h5 a\")[\"href\"]\n",
    "    content_page = requests.get(content_url, verify=False)\n",
    "    paragraphs = BeautifulSoup(content_page.content).find_all(class_=\"cuerpo\")\n",
    "    row[\"content\"] = \" \".join([paragraph.text for paragraph in paragraphs])\n",
    "    data.append(row)"
   ]
  },
  {
   "cell_type": "code",
   "execution_count": 7,
   "metadata": {},
   "outputs": [],
   "source": [
    "dataset_base = pd.DataFrame(data)"
   ]
  },
  {
   "cell_type": "code",
   "execution_count": 8,
   "metadata": {},
   "outputs": [
    {
     "data": {
      "text/html": [
       "<div>\n",
       "<style scoped>\n",
       "    .dataframe tbody tr th:only-of-type {\n",
       "        vertical-align: middle;\n",
       "    }\n",
       "\n",
       "    .dataframe tbody tr th {\n",
       "        vertical-align: top;\n",
       "    }\n",
       "\n",
       "    .dataframe thead th {\n",
       "        text-align: right;\n",
       "    }\n",
       "</style>\n",
       "<table border=\"1\" class=\"dataframe\">\n",
       "  <thead>\n",
       "    <tr style=\"text-align: right;\">\n",
       "      <th></th>\n",
       "      <th>category</th>\n",
       "      <th>title</th>\n",
       "      <th>date</th>\n",
       "      <th>abstract</th>\n",
       "      <th>content</th>\n",
       "    </tr>\n",
       "  </thead>\n",
       "  <tbody>\n",
       "    <tr>\n",
       "      <th>0</th>\n",
       "      <td>ECONOMIA Y FINANZAS</td>\n",
       "      <td>RESOLUCION MINISTERIAL  N° 250-2021-EF/43</td>\n",
       "      <td>16/08/2021</td>\n",
       "      <td>Designan Asesora de Gabinete de Asesores del D...</td>\n",
       "      <td>Lima,13 de agosto del 2021 CONSIDERANDO: Que, ...</td>\n",
       "    </tr>\n",
       "    <tr>\n",
       "      <th>1</th>\n",
       "      <td>EDUCACION</td>\n",
       "      <td>RESOLUCION MINISTERIAL  N° 301-2021-MINEDU</td>\n",
       "      <td>16/08/2021</td>\n",
       "      <td>Designan Secretaria General del Ministerio</td>\n",
       "      <td>Lima, 13 de agosto de 2021 VISTOS, el Expedien...</td>\n",
       "    </tr>\n",
       "    <tr>\n",
       "      <th>2</th>\n",
       "      <td>MUJER Y POBLACIONES VULNERABLES</td>\n",
       "      <td>RESOLUCION MINISTERIAL  N° 212-2021-MIMP</td>\n",
       "      <td>16/08/2021</td>\n",
       "      <td>Aprueban el Cuadro de Equivalencias de Órganos...</td>\n",
       "      <td>Lima, 15 de agosto de 2021 Vistos, el Informe ...</td>\n",
       "    </tr>\n",
       "    <tr>\n",
       "      <th>3</th>\n",
       "      <td>MUJER Y POBLACIONES VULNERABLES</td>\n",
       "      <td>RESOLUCION MINISTERIAL  N° 214-2021-MIMP</td>\n",
       "      <td>16/08/2021</td>\n",
       "      <td>Designan Secretario General del Ministerio</td>\n",
       "      <td>Lima, 15 de agosto de 2021 CONSIDERANDO: Que, ...</td>\n",
       "    </tr>\n",
       "    <tr>\n",
       "      <th>4</th>\n",
       "      <td>SUPERINTENDENCIA NACIONAL DE SERVICIOS DE SANE...</td>\n",
       "      <td>RESOLUCION  N° 011-2021-SUNASS-DAP</td>\n",
       "      <td>16/08/2021</td>\n",
       "      <td>Determinan el Área de Prestación de Servicios ...</td>\n",
       "      <td>Lima, 11 de agosto de 2021 VISTOS: El document...</td>\n",
       "    </tr>\n",
       "  </tbody>\n",
       "</table>\n",
       "</div>"
      ],
      "text/plain": [
       "                                            category  \\\n",
       "0                                ECONOMIA Y FINANZAS   \n",
       "1                                          EDUCACION   \n",
       "2                    MUJER Y POBLACIONES VULNERABLES   \n",
       "3                    MUJER Y POBLACIONES VULNERABLES   \n",
       "4  SUPERINTENDENCIA NACIONAL DE SERVICIOS DE SANE...   \n",
       "\n",
       "                                        title        date  \\\n",
       "0   RESOLUCION MINISTERIAL  N° 250-2021-EF/43  16/08/2021   \n",
       "1  RESOLUCION MINISTERIAL  N° 301-2021-MINEDU  16/08/2021   \n",
       "2    RESOLUCION MINISTERIAL  N° 212-2021-MIMP  16/08/2021   \n",
       "3    RESOLUCION MINISTERIAL  N° 214-2021-MIMP  16/08/2021   \n",
       "4          RESOLUCION  N° 011-2021-SUNASS-DAP  16/08/2021   \n",
       "\n",
       "                                            abstract  \\\n",
       "0  Designan Asesora de Gabinete de Asesores del D...   \n",
       "1         Designan Secretaria General del Ministerio   \n",
       "2  Aprueban el Cuadro de Equivalencias de Órganos...   \n",
       "3         Designan Secretario General del Ministerio   \n",
       "4  Determinan el Área de Prestación de Servicios ...   \n",
       "\n",
       "                                             content  \n",
       "0  Lima,13 de agosto del 2021 CONSIDERANDO: Que, ...  \n",
       "1  Lima, 13 de agosto de 2021 VISTOS, el Expedien...  \n",
       "2  Lima, 15 de agosto de 2021 Vistos, el Informe ...  \n",
       "3  Lima, 15 de agosto de 2021 CONSIDERANDO: Que, ...  \n",
       "4  Lima, 11 de agosto de 2021 VISTOS: El document...  "
      ]
     },
     "execution_count": 8,
     "metadata": {},
     "output_type": "execute_result"
    }
   ],
   "source": [
    "dataset_base.head()"
   ]
  },
  {
   "cell_type": "code",
   "execution_count": 9,
   "metadata": {},
   "outputs": [],
   "source": [
    "black_text_list = [\n",
    "    \"EL PRESIDENTE A. I. DEL CONGRESO\",\n",
    "    \"EL PRESIDENTE DE LA REPÚBLICA CONSIDERANDO\",\n",
    "    \"EL PRESIDENTE DEL CONGRESO\",\n",
    "    \"LA PRESIDENTA A. I. DEL CONGRESO\",\n",
    "    \"LA PRESIDENTA DEL CONGRESO\",\n",
    "    \"DE LA REPÚBLICA\",\n",
    "    \"POR CUANTO:\",\n",
    "    \"EL CONGRESO DE LA REPÚBLICA;\",\n",
    "    \"Ha dado la Ley siguiente:\",\n",
    "    \"CONSIDERANDO:\"\n",
    "]\n",
    "\n",
    "stop_words = stopwords.words(\"spanish\")\n",
    "# stop_words.extend([\"\", \"\"])\n",
    "\n",
    "lm = es_core_news_sm.load()\n",
    "\n",
    "\n",
    "def text_clean_for_topic(text: str):\n",
    "\n",
    "    # Remover lista negras de frases\n",
    "    for black_text in black_text_list:\n",
    "        text = text.replace(black_text, \"\")\n",
    "\n",
    "    # Convertir a minúscula\n",
    "    txt = text.lower()\n",
    "\n",
    "    # Remover signos de puntuación\n",
    "    txt = re.sub('[%s]' % re.escape(string.punctuation), ' ', txt)\n",
    "\n",
    "    # Remover números\n",
    "    txt = re.sub(r'\\w*\\d+\\w*', '', txt)\n",
    "\n",
    "    # Remover caracteres unicode y números excepto tíldes y ñ\n",
    "    txt = re.sub(\"[^a-záéíóúüñ ]+\", \"\", txt)\n",
    "\n",
    "    # Aplicar Lemmatize\n",
    "    txt = \" \".join([word.lemma_ for word in lm(txt) if word.lemma_ not in stop_words])\n",
    "\n",
    "    # Remover palabras menos de tres caracteres\n",
    "    txt = re.sub(r'\\b\\w{1,3}\\b', '', txt)\n",
    "\n",
    "    # Remover espacios vacios\n",
    "    txt = txt = re.sub(r\"\\s+\", \" \", txt)\n",
    "\n",
    "    # Remover espacios en inicio y fin\n",
    "    txt = txt.strip()\n",
    "\n",
    "    return txt"
   ]
  },
  {
   "cell_type": "code",
   "execution_count": 13,
   "metadata": {},
   "outputs": [
    {
     "name": "stderr",
     "output_type": "stream",
     "text": [
      "100%|██████████| 2124/2124 [04:42<00:00,  7.53it/s]"
     ]
    },
    {
     "name": "stdout",
     "output_type": "stream",
     "text": [
      "CPU times: user 4min 37s, sys: 5.25 s, total: 4min 42s\n",
      "Wall time: 4min 42s\n"
     ]
    },
    {
     "name": "stderr",
     "output_type": "stream",
     "text": [
      "\n"
     ]
    }
   ],
   "source": [
    "%%time\n",
    "dataset_base['content_for_topic'] = dataset_base.content.progress_apply(text_clean_for_topic)"
   ]
  },
  {
   "cell_type": "code",
   "execution_count": 15,
   "metadata": {},
   "outputs": [
    {
     "data": {
      "text/plain": [
       "'lima agosto encontrar vacante plaza correspondiente puesto asesor gabinete asesor despacho ministerial ministerio economía finanza contexto resultar necesario designar persona ejerzar función inherente referido puesto conformidad dispuesto orgánico poder ejecutivo regular participación poder ejecutivo nombramiento designación funcionario público texto integrado actualizado reglamento organización función ministerio economía finanza aprobado mediante resolución ministerial resolver artículo único designar señora aurora tassar lafosse puesto asesora gabinete asesor despacho ministerial ministerio economía finanza regístrese comuníquese publique pedro francke ballvé ministro economía finanza'"
      ]
     },
     "execution_count": 15,
     "metadata": {},
     "output_type": "execute_result"
    }
   ],
   "source": [
    "dataset_base.content_for_topic[0][0:1000]"
   ]
  },
  {
   "cell_type": "code",
   "execution_count": 109,
   "metadata": {},
   "outputs": [
    {
     "data": {
      "text/plain": [
       "['abcd', 'miltón']"
      ]
     },
     "execution_count": 109,
     "metadata": {},
     "output_type": "execute_result"
    }
   ],
   "source": [
    "stop_words = stopwords.words(\"spanish\")\n",
    "import string\n",
    "txt = \"#123'漢  abcd no , : h-1231, ññ--ño miltón \"\n",
    "#regexp_tokenize(txt, pattern=\"\\s+\", gaps=True)\n",
    "#txt.encode('ascii', 'ignore').decode()\n",
    "txt = re.sub('[%s]' % re.escape(string.punctuation), ' ', txt)\n",
    "#txt = re.sub(r'\\w*\\d+\\w*', '', txt)\n",
    "txt = re.sub(\"[^a-záéíóúüñ ]+\", \"\",txt)\n",
    "#txt = re.sub(\"[^a-z0-9áéíóúüñ ]+\", \"\",txt)\n",
    "txt = re.sub(r'\\b\\w{1,3}\\b', '', txt)\n",
    "#txt = txt = re.sub(r\"\\s+\", \" \", txt)\n",
    "#txt = txt.encode('ascii', 'ignore').decode()\n",
    "#txt = txt.strip()\n",
    "#txt = \" \".join([word for word in txt.split(' ') if word not in stop_words])\n",
    "#[word for word in txt.split(' ') if word not in stop_words]\n",
    "regexp_tokenize(txt, pattern=\"\\s+\", gaps=True)\n",
    "#txt\n"
   ]
  },
  {
   "cell_type": "code",
   "execution_count": 73,
   "metadata": {},
   "outputs": [
    {
     "data": {
      "text/plain": [
       "False"
      ]
     },
     "execution_count": 73,
     "metadata": {},
     "output_type": "execute_result"
    }
   ],
   "source": [
    "\n"
   ]
  },
  {
   "cell_type": "code",
   "execution_count": 87,
   "metadata": {},
   "outputs": [
    {
     "name": "stdout",
     "output_type": "stream",
     "text": [
      "Con con\n",
      "estos este\n",
      "fines fin\n",
      ", ,\n",
      "la el\n",
      "Dirección dirección\n",
      "de de\n",
      "Gestión gestión\n",
      "y y\n",
      "Control control\n",
      "Financiero financiero\n",
      "monitorea monitorea\n",
      "\n",
      "        \n",
      "       \n",
      "la el\n",
      "posición posición\n",
      "de de\n",
      "capital capital\n",
      "del del\n",
      "Banco banco\n",
      "y y\n",
      "utiliza utilizar\n",
      "los el\n",
      "mecanismos mecanismo\n",
      "para para\n",
      "hacer hacer\n",
      "un un\n",
      "\n",
      "       \n",
      "        \n",
      "       \n",
      "       \n",
      "eficiente eficiente\n",
      "manejo manejo\n",
      "del del\n",
      "capital capital\n",
      ". .\n",
      "CPU times: user 531 ms, sys: 13 ms, total: 544 ms\n",
      "Wall time: 541 ms\n"
     ]
    }
   ],
   "source": [
    "%%time\n",
    "import spacy_spanish_lemmatizer\n",
    "import es_core_news_sm\n",
    "# Change \"es\" to the Spanish model installed in step 2\n",
    "nlp = es_core_news_sm.load()\n",
    "nlp.replace_pipe(\"lemmatizer\", \"spanish_lemmatizer\")\n",
    "# for token in nlp(\"fines\"):\n",
    "#     print(token.text, token.lemma_)\n",
    "\n",
    "for token in nlp(\n",
    "    \"\"\"Con estos fines, la Dirección de Gestión y Control Financiero monitorea\n",
    "       la posición de capital del Banco y utiliza los mecanismos para hacer un\n",
    "       \n",
    "       eficiente manejo del capital.\"\"\"\n",
    "):\n",
    "#print(token.text, token.lemma_)"
   ]
  },
  {
   "cell_type": "code",
   "execution_count": null,
   "metadata": {},
   "outputs": [],
   "source": [
    "# Enforcanos a normas del ejecutivo, del gobierno central y del congreso\n",
    "# Identificar la sobrecarga regulatoria\n"
   ]
  },
  {
   "cell_type": "code",
   "execution_count": null,
   "metadata": {},
   "outputs": [],
   "source": []
  }
 ],
 "metadata": {
  "kernelspec": {
   "display_name": "Python 3",
   "language": "python",
   "name": "python3"
  },
  "language_info": {
   "codemirror_mode": {
    "name": "ipython",
    "version": 3
   },
   "file_extension": ".py",
   "mimetype": "text/x-python",
   "name": "python",
   "nbconvert_exporter": "python",
   "pygments_lexer": "ipython3",
   "version": "3.9.0"
  },
  "toc-showtags": true
 },
 "nbformat": 4,
 "nbformat_minor": 4
}
