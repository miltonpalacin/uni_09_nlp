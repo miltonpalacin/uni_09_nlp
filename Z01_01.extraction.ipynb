{
 "cells": [
  {
   "cell_type": "code",
   "execution_count": 15,
   "metadata": {},
   "outputs": [],
   "source": [
    "# Extraccion de texto de página web\n",
    "# ==============================================================================\n",
    "import requests\n",
    "from bs4 import BeautifulSoup\n",
    "from selenium import webdriver\n",
    "from selenium.webdriver.firefox.options import Options\n",
    "from selenium.webdriver.common.keys import Keys\n",
    "\n",
    "# Librerías de apoyo\n",
    "# ==============================================================================\n",
    "import time\n",
    "import re\n",
    "from tqdm import tqdm\n",
    "\n",
    "# Tratamiento de datos\n",
    "# ==============================================================================\n",
    "import pandas as pd\n",
    "\n",
    "# Visualización Jupyter\n",
    "# ==============================================================================\n",
    "import warnings\n",
    "warnings.filterwarnings('ignore')"
   ]
  },
  {
   "cell_type": "code",
   "execution_count": 2,
   "metadata": {},
   "outputs": [
    {
     "name": "stdout",
     "output_type": "stream",
     "text": [
      "CPU times: user 6.78 ms, sys: 5.21 ms, total: 12 ms\n",
      "Wall time: 2.22 s\n"
     ]
    }
   ],
   "source": [
    "%%time\n",
    "chrome_driver_path = \"/usr/lib/chromium-browser/chromedriver\"\n",
    "options = webdriver.ChromeOptions()\n",
    "options.add_argument('--incognito')\n",
    "options.add_argument('--headless')\n",
    "options.add_argument(\"--disable-extensions\")\n",
    "options.add_argument(\"--disable-gpu\")\n",
    "options.add_argument(\"--disable-dev-shm-usage\")\n",
    "options.add_argument(\"--no-sandbox\")\n",
    "driver = webdriver.Chrome(executable_path=chrome_driver_path, options=options)"
   ]
  },
  {
   "cell_type": "code",
   "execution_count": 3,
   "metadata": {},
   "outputs": [
    {
     "name": "stdout",
     "output_type": "stream",
     "text": [
      "CPU times: user 2.61 ms, sys: 0 ns, total: 2.61 ms\n",
      "Wall time: 4.52 s\n"
     ]
    }
   ],
   "source": [
    "%%time\n",
    "driver.get(\"https://diariooficial.elperuano.pe/Normas\")\n",
    "time.sleep(3)"
   ]
  },
  {
   "cell_type": "code",
   "execution_count": 4,
   "metadata": {},
   "outputs": [
    {
     "name": "stdout",
     "output_type": "stream",
     "text": [
      "CPU times: user 10.8 ms, sys: 157 µs, total: 10.9 ms\n",
      "Wall time: 3.28 s\n"
     ]
    }
   ],
   "source": [
    "%%time\n",
    "seach_date_begin = driver.find_element_by_id(\"cddesde\")\n",
    "seach_date_end = driver.find_element_by_id(\"cdhasta\")\n",
    "seach_date_begin.clear()\n",
    "seach_date_end.clear()\n",
    "seach_date_begin.send_keys(\"20/07/2021\")\n",
    "seach_date_end.send_keys(\"23/07/2021\")\n",
    "seach_date_end.send_keys(Keys.RETURN)\n",
    "seach_date_end.send_keys(Keys.RETURN)\n",
    "time.sleep(3)"
   ]
  },
  {
   "cell_type": "code",
   "execution_count": 5,
   "metadata": {},
   "outputs": [
    {
     "name": "stdout",
     "output_type": "stream",
     "text": [
      "CPU times: user 229 ms, sys: 5.22 ms, total: 235 ms\n",
      "Wall time: 281 ms\n"
     ]
    },
    {
     "data": {
      "text/plain": [
       "295"
      ]
     },
     "execution_count": 5,
     "metadata": {},
     "output_type": "execute_result"
    }
   ],
   "source": [
    "%%time\n",
    "page_source = driver.page_source\n",
    "pretty_page = BeautifulSoup(page_source, \"lxml\")\n",
    "laws = pretty_page.find_all(\"article\", class_=\"edicionesoficiales_articulos\")\n",
    "len(laws)"
   ]
  },
  {
   "cell_type": "code",
   "execution_count": 6,
   "metadata": {},
   "outputs": [
    {
     "data": {
      "text/plain": [
       "'Artículo 2. Mejora continua'"
      ]
     },
     "execution_count": 6,
     "metadata": {},
     "output_type": "execute_result"
    }
   ],
   "source": [
    "#url = \"https://busquedas.elperuano.pe/normaslegales/ley-que-declara-de-interes-nacional-la-educacion-basica-tec-ley-no-31306-1975873-1/\"\n",
    "#content_x = requests.get(url, verify=False)\n",
    "#BeautifulSoup(content_x.content).find_all(class_=\"cuerpo\")[7].text"
   ]
  },
  {
   "cell_type": "code",
   "execution_count": 16,
   "metadata": {},
   "outputs": [
    {
     "name": "stderr",
     "output_type": "stream",
     "text": [
      "100%|██████████| 295/295 [01:55<00:00,  2.54it/s]"
     ]
    },
    {
     "name": "stdout",
     "output_type": "stream",
     "text": [
      "CPU times: user 7.3 s, sys: 123 ms, total: 7.43 s\n",
      "Wall time: 1min 55s\n"
     ]
    },
    {
     "name": "stderr",
     "output_type": "stream",
     "text": [
      "\n"
     ]
    }
   ],
   "source": [
    "%%time\n",
    "data = []\n",
    "\n",
    "for law in tqdm(laws):\n",
    "    row = {}\n",
    "    row[\"category\"] = law.select_one(\".ediciones_texto h4\").text\n",
    "    row[\"title\"] = law.select_one(\".ediciones_texto h5\").text\n",
    "    row[\"date\"] = law.select_one(\".ediciones_texto p b\").text.replace(\"Fecha: \", \"\").strip()\n",
    "    row[\"abstract\"] = law.select_one(\".ediciones_texto p:nth-of-type(2)\").text\n",
    "    content_url = law.select_one(\".ediciones_texto h5 a\")[\"href\"]\n",
    "    content_page = requests.get(content_url, verify=False)\n",
    "    paragraphs = BeautifulSoup(content_page.content).find_all(class_=\"cuerpo\")\n",
    "    row[\"content\"] = \" \".join([paragraph.text for paragraph in paragraphs])\n",
    "    #row[\"content_url\"] = law.select_one(\".ediciones_texto h5 a\")[\"href\"]\n",
    "    #row[\"pdf_section\"] = law.select_one(\".ediciones_botones li:nth-child(1) a\")[\"href\"]\n",
    "    #row[\"pdf_whole\"] = law.select_one(\".ediciones_botones li:nth-child(2) a\")[\"href\"]\n",
    "    data.append(row)"
   ]
  },
  {
   "cell_type": "code",
   "execution_count": 17,
   "metadata": {},
   "outputs": [],
   "source": [
    "dataset_base = pd.DataFrame(data)"
   ]
  },
  {
   "cell_type": "code",
   "execution_count": 18,
   "metadata": {},
   "outputs": [
    {
     "data": {
      "text/html": [
       "<div>\n",
       "<style scoped>\n",
       "    .dataframe tbody tr th:only-of-type {\n",
       "        vertical-align: middle;\n",
       "    }\n",
       "\n",
       "    .dataframe tbody tr th {\n",
       "        vertical-align: top;\n",
       "    }\n",
       "\n",
       "    .dataframe thead th {\n",
       "        text-align: right;\n",
       "    }\n",
       "</style>\n",
       "<table border=\"1\" class=\"dataframe\">\n",
       "  <thead>\n",
       "    <tr style=\"text-align: right;\">\n",
       "      <th></th>\n",
       "      <th>category</th>\n",
       "      <th>title</th>\n",
       "      <th>date</th>\n",
       "      <th>abstract</th>\n",
       "      <th>content</th>\n",
       "    </tr>\n",
       "  </thead>\n",
       "  <tbody>\n",
       "    <tr>\n",
       "      <th>0</th>\n",
       "      <td>DECRETOS DE URGENCIA</td>\n",
       "      <td>DECRETO DE URGENCIA  N° 075-2011</td>\n",
       "      <td>23/07/2021</td>\n",
       "      <td>Decreto de Urgencia que establece medidas extr...</td>\n",
       "      <td>EL PRESIDENTE DE LA REPÚBLICA CONSIDERANDO: Qu...</td>\n",
       "    </tr>\n",
       "    <tr>\n",
       "      <th>1</th>\n",
       "      <td>DECRETOS DE URGENCIA</td>\n",
       "      <td>DECRETO DE URGENCIA  N° 076-2011</td>\n",
       "      <td>23/07/2021</td>\n",
       "      <td>Decreto de Urgencia que dicta medidas extraord...</td>\n",
       "      <td>EL PRESIDENTE DE LA REPÚBLICA CONSIDERANDO: Qu...</td>\n",
       "    </tr>\n",
       "    <tr>\n",
       "      <th>2</th>\n",
       "      <td>SEGURO INTEGRAL DE SALUD</td>\n",
       "      <td>RESOLUCION JEFATURAL  N° 095-2021-SIS</td>\n",
       "      <td>23/07/2021</td>\n",
       "      <td>Aprueban Transferencia Financiera del SIS a fa...</td>\n",
       "      <td>Lima, 22 de julio de 2021 VISTOS: El Informe C...</td>\n",
       "    </tr>\n",
       "    <tr>\n",
       "      <th>3</th>\n",
       "      <td>CORTES SUPERIORES DE JUSTICIA</td>\n",
       "      <td>RESOLUCION ADMINISTRATIVA  N° 000746-2021-P-CS...</td>\n",
       "      <td>23/07/2021</td>\n",
       "      <td>Disponen el inicio de las actividades del proy...</td>\n",
       "      <td>Villa María Del Triunfo, 21 de julio de 2021 V...</td>\n",
       "    </tr>\n",
       "    <tr>\n",
       "      <th>4</th>\n",
       "      <td>CONGRESO DE LA REPUBLICA</td>\n",
       "      <td>LEY  N° 31307</td>\n",
       "      <td>23/07/2021</td>\n",
       "      <td>Nuevo Código Procesal Constitucional</td>\n",
       "      <td>LA PRESIDENTA A. I. DEL CONGRESO DE LA REPÚBLI...</td>\n",
       "    </tr>\n",
       "  </tbody>\n",
       "</table>\n",
       "</div>"
      ],
      "text/plain": [
       "                        category  \\\n",
       "0           DECRETOS DE URGENCIA   \n",
       "1           DECRETOS DE URGENCIA   \n",
       "2       SEGURO INTEGRAL DE SALUD   \n",
       "3  CORTES SUPERIORES DE JUSTICIA   \n",
       "4       CONGRESO DE LA REPUBLICA   \n",
       "\n",
       "                                               title        date  \\\n",
       "0                   DECRETO DE URGENCIA  N° 075-2011  23/07/2021   \n",
       "1                   DECRETO DE URGENCIA  N° 076-2011  23/07/2021   \n",
       "2              RESOLUCION JEFATURAL  N° 095-2021-SIS  23/07/2021   \n",
       "3  RESOLUCION ADMINISTRATIVA  N° 000746-2021-P-CS...  23/07/2021   \n",
       "4                                      LEY  N° 31307  23/07/2021   \n",
       "\n",
       "                                            abstract  \\\n",
       "0  Decreto de Urgencia que establece medidas extr...   \n",
       "1  Decreto de Urgencia que dicta medidas extraord...   \n",
       "2  Aprueban Transferencia Financiera del SIS a fa...   \n",
       "3  Disponen el inicio de las actividades del proy...   \n",
       "4               Nuevo Código Procesal Constitucional   \n",
       "\n",
       "                                             content  \n",
       "0  EL PRESIDENTE DE LA REPÚBLICA CONSIDERANDO: Qu...  \n",
       "1  EL PRESIDENTE DE LA REPÚBLICA CONSIDERANDO: Qu...  \n",
       "2  Lima, 22 de julio de 2021 VISTOS: El Informe C...  \n",
       "3  Villa María Del Triunfo, 21 de julio de 2021 V...  \n",
       "4  LA PRESIDENTA A. I. DEL CONGRESO DE LA REPÚBLI...  "
      ]
     },
     "execution_count": 18,
     "metadata": {},
     "output_type": "execute_result"
    }
   ],
   "source": [
    "dataset_base.head()"
   ]
  },
  {
   "cell_type": "code",
   "execution_count": 20,
   "metadata": {},
   "outputs": [
    {
     "data": {
      "text/plain": [
       "'EL PRESIDENTE DE LA REPÚBLICA CONSIDERANDO: Que, la Constitución Política del Perú establece en su artículo 7 que todos tienen derecho a la protección de su salud; asimismo, en su artículo 9 dispone que el Estado determina la política nacional de salud, el Poder Ejecutivo norma y supervisa su aplicación, y es responsable de diseñarla y conducirla en forma plural y descentralizadora para facilitar a todos el acceso equitativo a los servicios de salud. Adicionalmente, el artículo 44 de la norma constitucional prevé que son deberes primordiales del Estado garantizar la plena vigencia de los derechos humanos, proteger a la población de las amenazas contra su seguridad, y promover el bienestar general que se fundamenta en la justicia y en el desarrollo integral y equilibrado de la Nación; Que, en la misma línea, los numerales I y II del Título Preliminar de la Ley Nº 26842, Ley General de Salud, establecen que la salud es condición indispensable del desarrollo humano y medio fundamental para alcanzar el bienestar individual y colectivo, y que la protección de la salud es de interés público, siendo responsabilidad del Estado vigilarla y promoverla; Que, mediante Decreto Supremo N° 008-2020-SA, se declara la Emergencia Sanitaria a nivel nacional, por el plazo de noventa (90) días calendario, por la existencia del COVID-19, y se dictan medidas de prevención y control para evitar su propagación; la misma que ha sido prorrogada mediante los Decretos Supremos N° 020-2020-SA, N° 027-2020-SA, N° 031-2020-SA y N° 009-2021-SA, este último prorroga la Emergencia Sanitaria, a partir del 7 de marzo de 2021, por un plazo de ciento ochenta (180) días calendario; frente a lo cual, el Ministerio de Salud debe mantener las medidas necesarias para el estado de alerta y respuesta frente a la pandemia de la COVID-19; Que, mediante Decreto Supremo Nº 184-2020-PCM, Decreto Supremo que declara Estado de Emergencia Nacional por las graves circunstancias que afectan la vida de las personas a consecuencia de la COVID-19 y establece las medidas que debe seguir la ciudadanía en la nueva convivencia social, se declara el Estado de Emergencia Nacional por el plazo de treinta y un (31) días calendario, a partir del martes 01 de diciembre de 2020, por las graves circunstancias que afectan la vida de las personas a consecuencia de la COVID-19; el cual ha sido prorrogado mediante los Decretos Supremos Nº 201-2020-PCM, Nº 008-2021-PCM, Nº 036-2021-PCM, Nº 058-2021-PCM, Nº 076- 2021-PCM, Nº 105-2021-PCM, Nº 123-2021-PCM y Nº 131-2021-PCM, este último prorroga el Estado de Emergencia Nacional, por el plazo de treinta y un (31) días calendario, a partir del domingo 1 de agosto de 2021; Que, a través del numeral 34.1 del artículo 34 de la Ley N° 31084, Ley de Presupuesto del Sector Público para el Año Fiscal 2021, se autoriza al Ministerio de Salud para realizar modificaciones presupuestarias en el nivel institucional a favor de los gobiernos regionales, para financiar, durante el Año Fiscal 2021, la operación y mantenimiento de nuevos establecimientos de salud que entraron en funcionamiento a partir del segundo semestre del año 2020; Que, debido a la pandemia ocasionada por la COVID-19, el Ministerio de Salud ha incrementado la atención de los servicios por COVID-19 y la diversidad de sus otros servicios; por ello, requiere fortalecer la continuidad de su operatividad para la adecuada atención de los pacientes COVID-19, así como financiar la adquisición de los Recursos Estratégicos en Salud, para la atención de la demanda de las Instituciones Prestadoras de Servicios de Salud–IPRESS a nivel nacional a través del Centro Nacional de Abastecimiento de Recursos Estratégicos en Salud; Que, asimismo, a efectos de contribuir con las medidas de fortalecimiento de la oferta hospitalaria y el acceso a servicios de salud en el contexto de la segunda ola de la COVID-19, y ante una posible tercera ola pandémica, resulta de interés nacional y de carácter urgente, la elaboración y ejecución del Plan de Mantenimiento de Plantas Generadoras de Oxígeno Medicinal a Nivel Nacional; Que, con la finalidad de adoptar medidas orientadas a la contención de la pandemia producida por la COVID-19 y mitigación de sus efectos en el ámbito de los servicios de salud a cargo de las Unidades Ejecutoras del Ministerio de Salud, se proponen medidas extraordinarias y urgentes que permitan al Ministerio de Salud garantizar una adecuada prestación de la cartera de servicios, manteniendo la operatividad, eficiencia y calidad de los mismos, ante la llegada de una posible tercera ola; En uso de las facultades conferidas por el numeral 19 del artículo 118 de la Constitución Política del Perú; Con el voto aprobatorio del Consejo de Ministros; y, Con cargo de dar cuenta al Congreso de la República: DECRETA: Artículo 1. Objeto El presente Decreto de Urgencia tiene por objeto establecer medidas extraordinarias, en materia económica y financiera, en el marco de la Emergencia Sanitaria generada por el brote del Coronavirus (COVID-19), a efectos de garantizar la continuidad de los servicios que brindan las unidades ejecutoras del Ministerio de Salud en el marco de la Emergencia Sanitaria, así como la ejecución del plan de mantenimiento de las plantas generadoras de oxígeno medicinal a nivel nacional, la adquisición de los Recursos Estratégicos en Salud para la atención de la demanda de las IPRESS a nivel nacional, y la operación y mantenimiento de los Establecimientos de Salud de los Gobiernos Regionales. Artículo 2. Autorización al Ministerio de Salud para financiar la operación y mantenimiento de los Establecimientos de Salud de los Gobiernos Regionales 2.1 Autorizase excepcionalmente al Ministerio de Salud, durante el Año Fiscal 2021, a efectuar modificaciones presupuestarias en el nivel institucional, hasta por la suma de S/ 10 426 734,00 (DIEZ MILLONES CUATROCIENTOS VEINTISÉIS MIL SETECIENTOS TREINTA Y CUATRO Y 00/100 SOLES), con cargo a los recursos a los que se refiere el numeral 34.1 del artículo 34 de la Ley N° 31084, Ley de Presupuesto del Sector Público para el Año Fiscal 2021, a favor de los Gobiernos Regionales de Junín y Piura, para financiar la operación y mantenimiento de los nuevos establecimientos de salud “Centro de Salud Mazamari”, “Centro de Salud Víctor Raúl Haya de la Torre” y “Centro de Salud Canchaque”. Las modificaciones presupuestarias autorizadas en el presente numeral se aprueban mediante decreto supremo refrendado por el ministro de Economía y Finanzas y el ministro de Salud, a propuesta de este último. 2.2 Para efectos de lo establecido en numeral precedente, autorizase excepcionalmente, al Gobierno Regional de Piura y al Gobierno Regional de Junín, la contratación de personal para los establecimientos de salud detallados en el numeral 2.1, bajo el régimen del Decreto Legislativo N° 1057, Decreto Legislativo que regula el régimen especial de contratación administrativa de servicios, según el siguiente detalle: a) El plazo de estos contratos o sus respectivas prórrogas, duran como máximo hasta el 31 de diciembre de 2021. Cumplido el plazo, tales contratos concluyen de pleno derecho y son nulos los actos en contrario que conlleven a sus ampliaciones. La comunicación que la entidad pudiera hacer de la conclusión del vínculo contractual tiene carácter meramente informativo y su omisión no genera la prórroga del contrato. b) El Concurso Público de Méritos para la referida contratación se sujeta a las siguientes etapas: • Preparatoria: Luego de determinadas las necesidades institucionales de servidores civiles, los órganos o unidades orgánicas usuarias establecen los requisitos mínimos, descripción del servicio y competencias que debe reunir el postulante. • Convocatoria: La publicación de la convocatoria se realiza, de manera simultánea y obligatoria, en el Portal Talento Perú, administrado por la Autoridad Nacional del Servicio Civil y en la sede digital de la entidad; durante tres (3) días hábiles previos al inicio de la etapa de selección. • Selección: Comprende la evaluación curricular y la entrevista personal. Los resultados de cada evaluación, así como los resultados finales, se publican en la sede digital de la entidad. Esta etapa tiene una duración de cinco (5) días hábiles. Para la declaración de ganadores, se deberá verificar que el Registro Nacional de Sanciones contra Servidores Civiles (RNSSC) que el/la ganador/a no se encuentre inhabilitado/a o impedido/a para ejercer función pública. • Suscripción del contrato: La suscripción del contrato se realiza en un plazo de tres (3) días hábiles, contados a partir del día siguiente de la publicación de los resultados finales. . Si vencido el plazo el/la ganador/a no suscribe el contrato por causas objetivas imputables a él/ella, se selecciona a la persona que ocupa el orden de mérito inmediatamente siguiente. c) La implementación de la presente disposición se financia con cargo al presupuesto institucional de las entidades involucradas, sin demandar recursos adicionales al Tesoro Público. d) La Autoridad Nacional del Servicio Civil puede emitir las normas complementarias que fueran necesarias para la implementación de la presente disposición. Artículo 3. Financiamiento para la contratación de servicio de mantenimiento preventivo de Plantas Generadoras de Oxígeno Medicinal a Nivel Nacional 3.1 Autorizase una Transferencia de Partidas en el Presupuesto del Sector Público para el Año Fiscal 2021, hasta por la suma de S/ 5 201 878,00 (CINCO MILLONES DOSCIENTOS UN MIL OCHOCIENTOS SETENTA Y OCHO Y 00/100 SOLES), a favor de entidades del Gobierno Regional, para financiar las contrataciones de servicios de mantenimiento preventivo de Plantas Generadoras de Oxígeno Medicinal, con cargo a los recursos a los que se refiere el numeral 34.1 del artículo 34 de la Ley N° 31084, Ley de Presupuesto del Sector Público para el Año Fiscal 2021, de acuerdo al siguiente detalle: DE LA: En Soles SECCION PRIMERA : Gobierno Central PLIEGO 011 : Ministerio de Salud UNIDAD EJECUTORA 001 : Administración Central–MINSA CATEGORIA  PRESUPUESTARIA 9002 : Asignaciones presupuestarias que no resultan en productos ACTIVIDAD 5005467 : Mantenimiento para Equipamiento e Infraestructura Hospitalaria FUENTE DE FINANCIAMIENTO 1 : Recursos Ordinarios GASTO CORRIENTE 2.4 Donaciones y Transferencia 5 201 878,00 ============  TOTAL EGRESOS 5 201 878,00  ============ A LA: En Soles SECCION PRIMERA : Instancias Descentralizadas PLIEGO : Gobiernos Regionales CATEGORIA  PRESUPUESTARIA 9002 : Asignaciones presupuestarias que no resultan en productos ACTIVIDAD 5006269 : Prevención, control, diagnóstico y tratamiento de coronavirus FUENTE DE FINANCIAMIENTO 1 : Recursos Ordinarios GASTO CORRIENTE 2.3 Bienes y Servicios 5 201 878,00 ============  TOTAL EGRESOS 5 201 878,00  ============ 3.2 El detalle de los recursos asociados a la Transferencia de Partidas autorizada en el numeral 3.1 del presente artículo se encuentra en el Anexo “Transferencia de Partidas a favor de los Gobiernos Regionales para el mantenimiento preventivo de Plantas Generadoras de Oxígeno Medicinal”, que forma parte integrante de la presente norma, el cual se publica en la sede digital del Ministerio de Salud (www.gob.pe/minsa), en la misma fecha de publicación de la presente norma en el Diario Oficial El Peruano. 3.3 El Titular del pliego habilitador y los Titulares de los pliegos habilitados en la presente Transferencia de Partidas aprueban mediante Resolución, la desagregación de los recursos autorizados en el numeral 3.1 del presente artículo, a nivel programático, dentro de los cinco (05) días calendario de la vigencia del presente Decreto de Urgencia. Copia de la resolución es remitida dentro de los cinco (05) días calendario de aprobada a los organismos señalados en el numeral 31.4 del artículo 31 del Decreto Legislativo Nº 1440, Decreto Legislativo del Sistema Nacional de Presupuesto Público. 3.4 La Oficina de Presupuesto o la que haga sus veces en los pliegos involucrados, solicita a la Dirección General de Presupuesto Público del Ministerio de Economía y Finanzas, las codificaciones que se requieran como consecuencia de la incorporación de nuevas Partidas de Ingresos, Finalidades y Unidades de Medida. 3.5 La Oficina de Presupuesto o la que haga sus veces en los pliegos involucrados instruye a las unidades ejecutoras para que elaboren las correspondientes “Notas para Modificaciones Presupuestaria” que se requieran, como consecuencia de lo dispuesto en el presente artículo. Artículo 4. Modificaciones presupuestarias en el nivel funcional programático para la contratación de bienes, servicios, adquisición de equipamiento biomédico, mantenimiento para la continuidad operativa de las unidades ejecutoras del pliego Ministerio de Salud como medida complementaria en el marco de la emergencia sanitaria generada por la pandemia por el coronavirus (Covid-19) y otras actividades conexas. 4.1 Autorizase, de manera excepcional, al Pliego 011. Ministerio de Salud, durante el Año Fiscal 2021, a realizar modificaciones presupuestarias en el nivel funcional programático, hasta por la suma de S/ 131 629 960,00 (CIENTO TREINTA Y UN MILLONES SEISCIENTOS VEINTINUEVE MIL NOVECIENTOS SESENTA Y 00/100 SOLES), para financiar la continuidad operativa en materia de bienes y servicios del Pliego Ministerio de Salud, adquisición de los Recursos Estratégicos en Salud para la atención de la demanda de las IPRESS a nivel nacional, y el mantenimiento preventivo de Plantas Generadores de Oxigeno Medicinal a favor de las Direcciones de Redes Integradas de Salud – DIRIS, en el marco de la atención de la Emergencia Sanitaria contra la COVID – 19, con cargo a los recursos disponibles a los que se refiere el literal b) del numeral 32.1 del artículo 32 y el numeral 34.1 del artículo 34 de la Ley N° 31084, Ley de Presupuesto del Sector Público para el Año Fiscal 2021, sin demandar recursos adicionales al Tesoro Público. 4.2 Para tal fin, se exceptúa al Ministerio de Salud, de lo dispuesto en el numeral 9.1 del artículo 9 de la Ley N° 31084, Ley de Presupuesto del Sector Público para el Año Fiscal 2021. En ningún caso, la aplicación de lo establecido en el presente numeral involucra el desfinanciamiento de la planilla anualizada de gastos en personal, bajo responsabilidad del Titular de la Entidad. Artículo 5. Responsabilidad y limitación sobre el uso de los recursos 5.1 El titular del pliego bajo los alcances de la presente norma, es responsable de su adecuada implementación, así como del uso y destino de los recursos comprendidos en la aplicación del presente Decreto de Urgencia, conforme a la normatividad vigente.\\xa0 5.2 Los recursos que se transfieran en el marco del presente Decreto de Urgencia no pueden ser destinados, bajo responsabilidad, a fines distintos para los cuales son transferidos. Artículo 6. Financiamiento Lo establecido en el presente Decreto de Urgencia se financiará con cargo a los saldos disponibles determinados de los recursos a los que se refieren el literal b) del numeral 32.1 del artículo 32 y a los que se refiere el numeral 34.1 del artículo 34 de la Ley Nº 31084, sin demandar recursos adicionales al Tesoro Público. Artículo 7. Vigencia El presente Decreto de Urgencia tiene vigencia hasta el 31 de diciembre de 2021. Artículo 8. Refrendo El presente Decreto de Urgencia es refrendado por la Presidenta del Consejo de Ministros, el Ministro de Salud y el Ministro de Economía y Finanzas. Dado en la Casa de Gobierno, en Lima, a los veintitrés días del mes de julio del año dos mil veintiuno. FRANCISCO RAFAEL SAGASTI HOCHHAUSLER  Presidente de la República VIOLETA BERMÚDEZ VALDIVIA Presidenta del Consejo de Ministros  Waldo Mendoza Bellido Ministro de Economía y Finanzas Óscar Ugarte Ubilluz Ministro de Salud'"
      ]
     },
     "execution_count": 20,
     "metadata": {},
     "output_type": "execute_result"
    }
   ],
   "source": [
    "dataset_base.content[0]"
   ]
  },
  {
   "cell_type": "code",
   "execution_count": null,
   "metadata": {},
   "outputs": [],
   "source": []
  },
  {
   "cell_type": "code",
   "execution_count": null,
   "metadata": {},
   "outputs": [],
   "source": []
  }
 ],
 "metadata": {
  "kernelspec": {
   "display_name": "Python 3",
   "language": "python",
   "name": "python3"
  },
  "language_info": {
   "codemirror_mode": {
    "name": "ipython",
    "version": 3
   },
   "file_extension": ".py",
   "mimetype": "text/x-python",
   "name": "python",
   "nbconvert_exporter": "python",
   "pygments_lexer": "ipython3",
   "version": "3.9.0"
  }
 },
 "nbformat": 4,
 "nbformat_minor": 4
}
